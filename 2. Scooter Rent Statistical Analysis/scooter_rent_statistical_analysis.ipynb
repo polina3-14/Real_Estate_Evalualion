{
 "cells": [
  {
   "cell_type": "markdown",
   "id": "76e1f58c",
   "metadata": {},
   "source": [
    "# Статистический анализ данных GoFast"
   ]
  },
  {
   "cell_type": "markdown",
   "id": "aee6f81b",
   "metadata": {},
   "source": [
    "Целью статистического анализа данных является проверка некоторых гипотез, которые могут помочь вырасти сервису аренды самокатов GoFast.\n",
    "\n",
    "Чтобы совершать поездки по городу, пользователи сервиса GoFast пользуются мобильным приложением.\n",
    "Сервисом можно пользоваться:\n",
    "* без подписки:\n",
    "    +  абонентская плата отсутствует; стоимость одной минуты поездки — 8 рублей;\n",
    "    +  стоимость старта (начала поездки) — 50 рублей;\n",
    "* с подпиской Ultra:\n",
    "    - абонентская плата — 199 рублей в месяц;\n",
    "    - стоимость одной минуты поездки — 6 рублей;\n",
    "    - стоимость старта — бесплатно.\n",
    "\n",
    "В основных данных есть информация о пользователях, их поездках и подписках.\n",
    "\n",
    "***План исследования***:\n",
    "1) [Загрузка данных.](#load)\n",
    "\n",
    "2) [Предобработка данных.](#process)\n",
    "\n",
    "3) [Исследовательский анализ данных.](#analysis)\n",
    "\n",
    "4) [Объединение данных.](#merge)\n",
    "\n",
    "5) [Подсчёт выручки.](#revenue)\n",
    "\n",
    "6) [Проверка гипотез.](#hypothesis)\n",
    "\n",
    "7) [Оценка распределений для проведения акций.](#distibution)\n",
    "\n",
    "8) [Общий вывод.](#conclusion)"
   ]
  },
  {
   "cell_type": "code",
   "execution_count": 1,
   "id": "0b0de1ad",
   "metadata": {},
   "outputs": [],
   "source": [
    "import pandas as pd\n",
    "import matplotlib.pyplot as plt\n",
    "from scipy import stats as st\n",
    "import numpy as np\n",
    "from math import factorial\n",
    "from math import sqrt\n",
    "import warnings\n"
   ]
  },
  {
   "cell_type": "markdown",
   "id": "2808313b",
   "metadata": {},
   "source": [
    "### Шаг 1. Загрузка данных\n",
    "<a id='load'></a>"
   ]
  },
  {
   "cell_type": "code",
   "execution_count": 2,
   "id": "504a0403",
   "metadata": {},
   "outputs": [],
   "source": [
    "# Считывание данных и сохранение в датафреймы\n",
    "users = pd.read_csv('A:/Python/Dataset/users_go.csv')\n",
    "rides = pd.read_csv('A:/Python/Dataset/rides_go.csv')\n",
    "subscriptions = pd.read_csv('A:/Python/Dataset/subscriptions_go.csv')"
   ]
  },
  {
   "cell_type": "code",
   "execution_count": 3,
   "id": "409eb818",
   "metadata": {
    "scrolled": true
   },
   "outputs": [
    {
     "data": {
      "text/html": [
       "<div>\n",
       "<style scoped>\n",
       "    .dataframe tbody tr th:only-of-type {\n",
       "        vertical-align: middle;\n",
       "    }\n",
       "\n",
       "    .dataframe tbody tr th {\n",
       "        vertical-align: top;\n",
       "    }\n",
       "\n",
       "    .dataframe thead th {\n",
       "        text-align: right;\n",
       "    }\n",
       "</style>\n",
       "<table border=\"1\" class=\"dataframe\">\n",
       "  <thead>\n",
       "    <tr style=\"text-align: right;\">\n",
       "      <th></th>\n",
       "      <th>user_id</th>\n",
       "      <th>name</th>\n",
       "      <th>age</th>\n",
       "      <th>city</th>\n",
       "      <th>subscription_type</th>\n",
       "    </tr>\n",
       "  </thead>\n",
       "  <tbody>\n",
       "    <tr>\n",
       "      <th>0</th>\n",
       "      <td>1</td>\n",
       "      <td>Кира</td>\n",
       "      <td>22</td>\n",
       "      <td>Тюмень</td>\n",
       "      <td>ultra</td>\n",
       "    </tr>\n",
       "    <tr>\n",
       "      <th>1</th>\n",
       "      <td>2</td>\n",
       "      <td>Станислав</td>\n",
       "      <td>31</td>\n",
       "      <td>Омск</td>\n",
       "      <td>ultra</td>\n",
       "    </tr>\n",
       "    <tr>\n",
       "      <th>2</th>\n",
       "      <td>3</td>\n",
       "      <td>Алексей</td>\n",
       "      <td>20</td>\n",
       "      <td>Москва</td>\n",
       "      <td>ultra</td>\n",
       "    </tr>\n",
       "    <tr>\n",
       "      <th>3</th>\n",
       "      <td>4</td>\n",
       "      <td>Константин</td>\n",
       "      <td>26</td>\n",
       "      <td>Ростов-на-Дону</td>\n",
       "      <td>ultra</td>\n",
       "    </tr>\n",
       "    <tr>\n",
       "      <th>4</th>\n",
       "      <td>5</td>\n",
       "      <td>Адель</td>\n",
       "      <td>28</td>\n",
       "      <td>Омск</td>\n",
       "      <td>ultra</td>\n",
       "    </tr>\n",
       "  </tbody>\n",
       "</table>\n",
       "</div>"
      ],
      "text/plain": [
       "   user_id        name  age            city subscription_type\n",
       "0        1        Кира   22          Тюмень             ultra\n",
       "1        2   Станислав   31            Омск             ultra\n",
       "2        3     Алексей   20          Москва             ultra\n",
       "3        4  Константин   26  Ростов-на-Дону             ultra\n",
       "4        5       Адель   28            Омск             ultra"
      ]
     },
     "execution_count": 3,
     "metadata": {},
     "output_type": "execute_result"
    }
   ],
   "source": [
    "# Обзор данных\n",
    "users.head()"
   ]
  },
  {
   "cell_type": "code",
   "execution_count": 4,
   "id": "6e7e8865",
   "metadata": {
    "scrolled": true
   },
   "outputs": [
    {
     "name": "stdout",
     "output_type": "stream",
     "text": [
      "<class 'pandas.core.frame.DataFrame'>\n",
      "RangeIndex: 1565 entries, 0 to 1564\n",
      "Data columns (total 5 columns):\n",
      " #   Column             Non-Null Count  Dtype \n",
      "---  ------             --------------  ----- \n",
      " 0   user_id            1565 non-null   int64 \n",
      " 1   name               1565 non-null   object\n",
      " 2   age                1565 non-null   int64 \n",
      " 3   city               1565 non-null   object\n",
      " 4   subscription_type  1565 non-null   object\n",
      "dtypes: int64(2), object(3)\n",
      "memory usage: 61.3+ KB\n"
     ]
    }
   ],
   "source": [
    "users.info()"
   ]
  },
  {
   "cell_type": "code",
   "execution_count": 5,
   "id": "85344b5b",
   "metadata": {
    "scrolled": true
   },
   "outputs": [
    {
     "data": {
      "text/html": [
       "<div>\n",
       "<style scoped>\n",
       "    .dataframe tbody tr th:only-of-type {\n",
       "        vertical-align: middle;\n",
       "    }\n",
       "\n",
       "    .dataframe tbody tr th {\n",
       "        vertical-align: top;\n",
       "    }\n",
       "\n",
       "    .dataframe thead th {\n",
       "        text-align: right;\n",
       "    }\n",
       "</style>\n",
       "<table border=\"1\" class=\"dataframe\">\n",
       "  <thead>\n",
       "    <tr style=\"text-align: right;\">\n",
       "      <th></th>\n",
       "      <th>user_id</th>\n",
       "      <th>distance</th>\n",
       "      <th>duration</th>\n",
       "      <th>date</th>\n",
       "    </tr>\n",
       "  </thead>\n",
       "  <tbody>\n",
       "    <tr>\n",
       "      <th>0</th>\n",
       "      <td>1</td>\n",
       "      <td>4409.919140</td>\n",
       "      <td>25.599769</td>\n",
       "      <td>2021-01-01</td>\n",
       "    </tr>\n",
       "    <tr>\n",
       "      <th>1</th>\n",
       "      <td>1</td>\n",
       "      <td>2617.592153</td>\n",
       "      <td>15.816871</td>\n",
       "      <td>2021-01-18</td>\n",
       "    </tr>\n",
       "    <tr>\n",
       "      <th>2</th>\n",
       "      <td>1</td>\n",
       "      <td>754.159807</td>\n",
       "      <td>6.232113</td>\n",
       "      <td>2021-04-20</td>\n",
       "    </tr>\n",
       "    <tr>\n",
       "      <th>3</th>\n",
       "      <td>1</td>\n",
       "      <td>2694.783254</td>\n",
       "      <td>18.511000</td>\n",
       "      <td>2021-08-11</td>\n",
       "    </tr>\n",
       "    <tr>\n",
       "      <th>4</th>\n",
       "      <td>1</td>\n",
       "      <td>4028.687306</td>\n",
       "      <td>26.265803</td>\n",
       "      <td>2021-08-28</td>\n",
       "    </tr>\n",
       "  </tbody>\n",
       "</table>\n",
       "</div>"
      ],
      "text/plain": [
       "   user_id     distance   duration        date\n",
       "0        1  4409.919140  25.599769  2021-01-01\n",
       "1        1  2617.592153  15.816871  2021-01-18\n",
       "2        1   754.159807   6.232113  2021-04-20\n",
       "3        1  2694.783254  18.511000  2021-08-11\n",
       "4        1  4028.687306  26.265803  2021-08-28"
      ]
     },
     "execution_count": 5,
     "metadata": {},
     "output_type": "execute_result"
    }
   ],
   "source": [
    "rides.head()"
   ]
  },
  {
   "cell_type": "code",
   "execution_count": 6,
   "id": "8f60141f",
   "metadata": {
    "scrolled": true
   },
   "outputs": [
    {
     "name": "stdout",
     "output_type": "stream",
     "text": [
      "<class 'pandas.core.frame.DataFrame'>\n",
      "RangeIndex: 18068 entries, 0 to 18067\n",
      "Data columns (total 4 columns):\n",
      " #   Column    Non-Null Count  Dtype  \n",
      "---  ------    --------------  -----  \n",
      " 0   user_id   18068 non-null  int64  \n",
      " 1   distance  18068 non-null  float64\n",
      " 2   duration  18068 non-null  float64\n",
      " 3   date      18068 non-null  object \n",
      "dtypes: float64(2), int64(1), object(1)\n",
      "memory usage: 564.8+ KB\n"
     ]
    }
   ],
   "source": [
    "rides.info()"
   ]
  },
  {
   "cell_type": "code",
   "execution_count": 7,
   "id": "d92f4bbf",
   "metadata": {},
   "outputs": [
    {
     "data": {
      "text/html": [
       "<div>\n",
       "<style scoped>\n",
       "    .dataframe tbody tr th:only-of-type {\n",
       "        vertical-align: middle;\n",
       "    }\n",
       "\n",
       "    .dataframe tbody tr th {\n",
       "        vertical-align: top;\n",
       "    }\n",
       "\n",
       "    .dataframe thead th {\n",
       "        text-align: right;\n",
       "    }\n",
       "</style>\n",
       "<table border=\"1\" class=\"dataframe\">\n",
       "  <thead>\n",
       "    <tr style=\"text-align: right;\">\n",
       "      <th></th>\n",
       "      <th>subscription_type</th>\n",
       "      <th>minute_price</th>\n",
       "      <th>start_ride_price</th>\n",
       "      <th>subscription_fee</th>\n",
       "    </tr>\n",
       "  </thead>\n",
       "  <tbody>\n",
       "    <tr>\n",
       "      <th>0</th>\n",
       "      <td>free</td>\n",
       "      <td>8</td>\n",
       "      <td>50</td>\n",
       "      <td>0</td>\n",
       "    </tr>\n",
       "    <tr>\n",
       "      <th>1</th>\n",
       "      <td>ultra</td>\n",
       "      <td>6</td>\n",
       "      <td>0</td>\n",
       "      <td>199</td>\n",
       "    </tr>\n",
       "  </tbody>\n",
       "</table>\n",
       "</div>"
      ],
      "text/plain": [
       "  subscription_type  minute_price  start_ride_price  subscription_fee\n",
       "0              free             8                50                 0\n",
       "1             ultra             6                 0               199"
      ]
     },
     "execution_count": 7,
     "metadata": {},
     "output_type": "execute_result"
    }
   ],
   "source": [
    "subscriptions"
   ]
  },
  {
   "cell_type": "code",
   "execution_count": 8,
   "id": "cd013469",
   "metadata": {
    "scrolled": true
   },
   "outputs": [
    {
     "name": "stdout",
     "output_type": "stream",
     "text": [
      "<class 'pandas.core.frame.DataFrame'>\n",
      "RangeIndex: 2 entries, 0 to 1\n",
      "Data columns (total 4 columns):\n",
      " #   Column             Non-Null Count  Dtype \n",
      "---  ------             --------------  ----- \n",
      " 0   subscription_type  2 non-null      object\n",
      " 1   minute_price       2 non-null      int64 \n",
      " 2   start_ride_price   2 non-null      int64 \n",
      " 3   subscription_fee   2 non-null      int64 \n",
      "dtypes: int64(3), object(1)\n",
      "memory usage: 192.0+ bytes\n"
     ]
    }
   ],
   "source": [
    "subscriptions.info()"
   ]
  },
  {
   "cell_type": "markdown",
   "id": "b9980814",
   "metadata": {},
   "source": [
    "Данные о пользователях, поездках пользователей и о подписках сохранены в 3 датафреймах соответственно: users, rides, subscriptions.\n",
    "Во всех датафреймах количество ненулевых записей во всех столбцах одинаковое - пропусков нет, типы данных соответстуют везде, кроме стобца с датой в таблице с поездками: object вместо datetime.\n",
    "Столбцы названы корректно, единообразно."
   ]
  },
  {
   "cell_type": "markdown",
   "id": "e3a43645",
   "metadata": {},
   "source": [
    "### Шаг 2. Предобработка данных\\\n",
    "<a id='process'></a>"
   ]
  },
  {
   "cell_type": "code",
   "execution_count": 9,
   "id": "e1a72f80",
   "metadata": {
    "scrolled": true
   },
   "outputs": [],
   "source": [
    "# Приведение данных с датой к соответствующему формату\n",
    "rides['date'] = pd.to_datetime(rides['date'], format='%Y-%m-%d')"
   ]
  },
  {
   "cell_type": "code",
   "execution_count": 10,
   "id": "7c01881a",
   "metadata": {},
   "outputs": [],
   "source": [
    "# Создание столбца номера месяца\n",
    "rides['month'] = pd.DatetimeIndex(rides['date']).month"
   ]
  },
  {
   "cell_type": "code",
   "execution_count": 11,
   "id": "29a1803b",
   "metadata": {
    "scrolled": true
   },
   "outputs": [
    {
     "data": {
      "text/plain": [
       "count                            18068\n",
       "mean     2021-06-30 19:47:21.266327296\n",
       "min                2021-01-01 00:00:00\n",
       "25%                2021-04-02 00:00:00\n",
       "50%                2021-06-30 00:00:00\n",
       "75%                2021-09-28 00:00:00\n",
       "max                2021-12-30 00:00:00\n",
       "Name: date, dtype: object"
      ]
     },
     "execution_count": 11,
     "metadata": {},
     "output_type": "execute_result"
    }
   ],
   "source": [
    "# Проверим, за какой период предоставлены данные\n",
    "rides['date'].describe(datetime_is_numeric=True)"
   ]
  },
  {
   "cell_type": "markdown",
   "id": "20303654",
   "metadata": {},
   "source": [
    "Данные предоставлены за 2021 год (без 31 декабря)."
   ]
  },
  {
   "cell_type": "code",
   "execution_count": 12,
   "id": "cc53228d",
   "metadata": {
    "scrolled": true
   },
   "outputs": [
    {
     "data": {
      "text/plain": [
       "user_id     0\n",
       "distance    0\n",
       "duration    0\n",
       "date        0\n",
       "month       0\n",
       "dtype: int64"
      ]
     },
     "execution_count": 12,
     "metadata": {},
     "output_type": "execute_result"
    }
   ],
   "source": [
    "# Проверка пропущенных значений\n",
    "rides.isna().sum()"
   ]
  },
  {
   "cell_type": "code",
   "execution_count": 13,
   "id": "6479d4ae",
   "metadata": {},
   "outputs": [
    {
     "data": {
      "text/plain": [
       "user_id              0\n",
       "name                 0\n",
       "age                  0\n",
       "city                 0\n",
       "subscription_type    0\n",
       "dtype: int64"
      ]
     },
     "execution_count": 13,
     "metadata": {},
     "output_type": "execute_result"
    }
   ],
   "source": [
    "users.isna().sum()"
   ]
  },
  {
   "cell_type": "code",
   "execution_count": 14,
   "id": "7faf5432",
   "metadata": {
    "scrolled": true
   },
   "outputs": [
    {
     "data": {
      "text/plain": [
       "subscription_type    0\n",
       "minute_price         0\n",
       "start_ride_price     0\n",
       "subscription_fee     0\n",
       "dtype: int64"
      ]
     },
     "execution_count": 14,
     "metadata": {},
     "output_type": "execute_result"
    }
   ],
   "source": [
    "subscriptions.isna().sum()"
   ]
  },
  {
   "cell_type": "markdown",
   "id": "dd94684b",
   "metadata": {},
   "source": [
    "Пропусков данных нет."
   ]
  },
  {
   "cell_type": "code",
   "execution_count": 15,
   "id": "192c8d50",
   "metadata": {},
   "outputs": [],
   "source": [
    "# Проверка дубликатов"
   ]
  },
  {
   "cell_type": "code",
   "execution_count": 16,
   "id": "8591710b",
   "metadata": {
    "scrolled": true
   },
   "outputs": [
    {
     "data": {
      "text/plain": [
       "Пятигорск         226\n",
       "Екатеринбург      206\n",
       "Ростов-на-Дону    202\n",
       "Краснодар         196\n",
       "Сочи              192\n",
       "Омск              186\n",
       "Тюмень            185\n",
       "Москва            172\n",
       "Name: city, dtype: int64"
      ]
     },
     "execution_count": 16,
     "metadata": {},
     "output_type": "execute_result"
    }
   ],
   "source": [
    "users['city'].value_counts()"
   ]
  },
  {
   "cell_type": "code",
   "execution_count": 17,
   "id": "1015b810",
   "metadata": {
    "scrolled": true
   },
   "outputs": [
    {
     "data": {
      "text/plain": [
       "31"
      ]
     },
     "execution_count": 17,
     "metadata": {},
     "output_type": "execute_result"
    }
   ],
   "source": [
    "users['user_id'].duplicated().sum()"
   ]
  },
  {
   "cell_type": "code",
   "execution_count": 18,
   "id": "78e2cbdd",
   "metadata": {},
   "outputs": [
    {
     "data": {
      "text/plain": [
       "0"
      ]
     },
     "execution_count": 18,
     "metadata": {},
     "output_type": "execute_result"
    }
   ],
   "source": [
    "users = users.drop_duplicates()\n",
    "users['user_id'].duplicated().sum()"
   ]
  },
  {
   "cell_type": "code",
   "execution_count": 19,
   "id": "a1bc59fd",
   "metadata": {
    "scrolled": true
   },
   "outputs": [
    {
     "data": {
      "text/plain": [
       "Мария        22\n",
       "Анна         22\n",
       "Дмитрий      17\n",
       "Александр    17\n",
       "Никита       16\n",
       "             ..\n",
       "Сергей        3\n",
       "Семен         2\n",
       "Тихон         1\n",
       "Радмир        1\n",
       "Милана        1\n",
       "Name: name, Length: 194, dtype: int64"
      ]
     },
     "execution_count": 19,
     "metadata": {},
     "output_type": "execute_result"
    }
   ],
   "source": [
    "users['name'].value_counts()"
   ]
  },
  {
   "cell_type": "code",
   "execution_count": 20,
   "id": "d63a481b",
   "metadata": {},
   "outputs": [
    {
     "data": {
      "text/plain": [
       "16534"
      ]
     },
     "execution_count": 20,
     "metadata": {},
     "output_type": "execute_result"
    }
   ],
   "source": [
    "rides['user_id'].duplicated().sum()"
   ]
  },
  {
   "cell_type": "code",
   "execution_count": 21,
   "id": "727962a0",
   "metadata": {},
   "outputs": [
    {
     "data": {
      "text/plain": [
       "16534"
      ]
     },
     "execution_count": 21,
     "metadata": {},
     "output_type": "execute_result"
    }
   ],
   "source": [
    "rides = rides.drop_duplicates()\n",
    "rides['user_id'].duplicated().sum()"
   ]
  },
  {
   "cell_type": "markdown",
   "id": "f277fecb",
   "metadata": {},
   "source": [
    "Проведена предобработка данных. Установлено отсутствие пропусков данных. Значения user_id в таблице rides могут повторяться, так как один и тот же пользователь может совершать неограниченное количество поездок. Но в таблице с данными о пользователях users этот параметр должен быть уникален, поэтому 31 дубликат был удален. Остальные данные без дубликатов в едином формате (без опечаток)."
   ]
  },
  {
   "cell_type": "markdown",
   "id": "54db596d",
   "metadata": {},
   "source": [
    "### Шаг 3. Исследовательский анализ данных\n",
    "<a id='analysis'></a>"
   ]
  },
  {
   "cell_type": "markdown",
   "id": "98b34d1b",
   "metadata": {},
   "source": [
    "#### Частота встречаемости городов"
   ]
  },
  {
   "cell_type": "code",
   "execution_count": 22,
   "id": "16cd294e",
   "metadata": {
    "scrolled": true
   },
   "outputs": [
    {
     "data": {
      "text/plain": [
       "Пятигорск         219\n",
       "Екатеринбург      204\n",
       "Ростов-на-Дону    198\n",
       "Краснодар         193\n",
       "Сочи              189\n",
       "Омск              183\n",
       "Тюмень            180\n",
       "Москва            168\n",
       "Name: city, dtype: int64"
      ]
     },
     "execution_count": 22,
     "metadata": {},
     "output_type": "execute_result"
    }
   ],
   "source": [
    "users['city'].value_counts()"
   ]
  },
  {
   "cell_type": "code",
   "execution_count": 23,
   "id": "82a83bda",
   "metadata": {},
   "outputs": [
    {
     "data": {
      "image/png": "[encoded data removed]",
      "text/plain": [
       "<Figure size 640x480 with 1 Axes>"
      ]
     },
     "metadata": {},
     "output_type": "display_data"
    }
   ],
   "source": [
    "users['city'].value_counts().plot.barh(title='Частота встречаемости городов')\n",
    "plt.ylabel('Город')\n",
    "plt.xlabel('Частота')\n",
    "plt.show()"
   ]
  },
  {
   "cell_type": "code",
   "execution_count": 24,
   "id": "cf3f3e27",
   "metadata": {},
   "outputs": [
    {
     "data": {
      "text/plain": [
       "count          1534\n",
       "unique            8\n",
       "top       Пятигорск\n",
       "freq            219\n",
       "Name: city, dtype: object"
      ]
     },
     "execution_count": 24,
     "metadata": {},
     "output_type": "execute_result"
    }
   ],
   "source": [
    "users['city'].describe()"
   ]
  },
  {
   "cell_type": "markdown",
   "id": "a6ff6877",
   "metadata": {},
   "source": [
    "Чаще всего сервисом пользуются в Пятигорске, реже - в Москве. "
   ]
  },
  {
   "cell_type": "markdown",
   "id": "651c261e",
   "metadata": {},
   "source": [
    "#### Соотношение пользователей с подпиской и без подписки"
   ]
  },
  {
   "cell_type": "code",
   "execution_count": 25,
   "id": "293ca78e",
   "metadata": {},
   "outputs": [],
   "source": [
    "ultra = users[users['subscription_type'] == 'ultra']['subscription_type'].count()\n",
    "free = users[users['subscription_type'] == 'free']['subscription_type'].count()"
   ]
  },
  {
   "cell_type": "code",
   "execution_count": 26,
   "id": "ecfb804d",
   "metadata": {},
   "outputs": [
    {
     "data": {
      "text/plain": [
       "0.837125748502994"
      ]
     },
     "execution_count": 26,
     "metadata": {},
     "output_type": "execute_result"
    }
   ],
   "source": [
    "ratio = ultra / free\n",
    "ratio"
   ]
  },
  {
   "cell_type": "code",
   "execution_count": 27,
   "id": "230b4780",
   "metadata": {},
   "outputs": [
    {
     "data": {
      "image/png": "[encoded data removed]",
      "text/plain": [
       "<Figure size 1000x600 with 1 Axes>"
      ]
     },
     "metadata": {},
     "output_type": "display_data"
    }
   ],
   "source": [
    "plt.figure(figsize=(10, 6))\n",
    "users['subscription_type'].value_counts().plot.pie(title='Соотношение пользователей с подпиской и без подписки',\n",
    "                                                   autopct='%1.1f%%', \n",
    "                                                   startangle=90,\n",
    "                                                   colors = ['#C0C0C0', '#32CD32'],\n",
    "                                                   wedgeprops={'edgecolor': 'black'})\n",
    "plt.ylabel('')\n",
    "plt.show()"
   ]
  },
  {
   "cell_type": "markdown",
   "id": "9232a7a1",
   "metadata": {},
   "source": [
    "Пользователей с подпиской Ultra примерно на 10% меньше, чем пользователей без подписки. Достаточно высокий показатель для платных подписок."
   ]
  },
  {
   "cell_type": "markdown",
   "id": "756d74f8",
   "metadata": {},
   "source": [
    "#### Возраст пользователей"
   ]
  },
  {
   "cell_type": "code",
   "execution_count": 28,
   "id": "c3060afa",
   "metadata": {
    "scrolled": true
   },
   "outputs": [
    {
     "data": {
      "text/plain": [
       "count    1534.000000\n",
       "mean       24.903520\n",
       "std         4.572367\n",
       "min        12.000000\n",
       "25%        22.000000\n",
       "50%        25.000000\n",
       "75%        28.000000\n",
       "max        43.000000\n",
       "Name: age, dtype: float64"
      ]
     },
     "execution_count": 28,
     "metadata": {},
     "output_type": "execute_result"
    }
   ],
   "source": [
    "users['age'].describe()"
   ]
  },
  {
   "cell_type": "code",
   "execution_count": 29,
   "id": "e17ce39c",
   "metadata": {},
   "outputs": [
    {
     "data": {
      "image/png": "[encoded data removed]",
      "text/plain": [
       "<Figure size 1000x500 with 1 Axes>"
      ]
     },
     "metadata": {},
     "output_type": "display_data"
    }
   ],
   "source": [
    "plt.figure(figsize=(10, 5))\n",
    "users['age'].hist(bins=20,\n",
    "                  color='blue',\n",
    "                  edgecolor='black')\n",
    "plt.title('Распределение возраста пользователей по частоте')\n",
    "plt.xlabel('Возраст пользователей, лет')\n",
    "plt.ylabel('Частота')\n",
    "plt.show()"
   ]
  },
  {
   "cell_type": "markdown",
   "id": "5e4afaea",
   "metadata": {},
   "source": [
    "Среднему пользователю сервиса аренды самокатов 25 лет, самым молодым пользователям - 12 лет, самым взрослым - 43 года."
   ]
  },
  {
   "cell_type": "markdown",
   "id": "cf914ec4",
   "metadata": {},
   "source": [
    "#### Расстояние, которое пользователь преодолел за одну поездку"
   ]
  },
  {
   "cell_type": "code",
   "execution_count": 30,
   "id": "88c5e415",
   "metadata": {},
   "outputs": [
    {
     "data": {
      "text/plain": [
       "count    18068.000000\n",
       "mean      3070.659976\n",
       "std       1116.831209\n",
       "min          0.855683\n",
       "25%       2543.226360\n",
       "50%       3133.609994\n",
       "75%       3776.222735\n",
       "max       7211.007745\n",
       "Name: distance, dtype: float64"
      ]
     },
     "execution_count": 30,
     "metadata": {},
     "output_type": "execute_result"
    }
   ],
   "source": [
    "rides['distance'].describe()"
   ]
  },
  {
   "cell_type": "code",
   "execution_count": 31,
   "id": "9dd02d5f",
   "metadata": {},
   "outputs": [
    {
     "data": {
      "image/png": "[encoded data removed]",
      "text/plain": [
       "<Figure size 1000x500 with 1 Axes>"
      ]
     },
     "metadata": {},
     "output_type": "display_data"
    }
   ],
   "source": [
    "plt.figure(figsize=(10, 5))\n",
    "plt.hist(rides['distance'], bins=50, color = 'blue', edgecolor = 'black')\n",
    "plt.title('Расстояние, которое пользователь преодолел за одну поездку')\n",
    "plt.xlabel('Расстояние за одну поездку, м')\n",
    "plt.ylabel('Частота')\n",
    "plt.show()"
   ]
  },
  {
   "cell_type": "code",
   "execution_count": 32,
   "id": "e4b8eaa5",
   "metadata": {
    "scrolled": true
   },
   "outputs": [
    {
     "data": {
      "image/png": "[encoded data removed]",
      "text/plain": [
       "<Figure size 640x480 with 1 Axes>"
      ]
     },
     "metadata": {},
     "output_type": "display_data"
    }
   ],
   "source": [
    "rides['distance'].plot.box(title='Ящик с усами для расстояния одной поездки')\n",
    "plt.show()"
   ]
  },
  {
   "cell_type": "markdown",
   "id": "038ecbb2",
   "metadata": {},
   "source": [
    "Видно, что пользователи берут самокаты для разных целей. Есть очень короткие поездки (менее метра - похоже на ошибку), есть очень длинные (7211 м). В среднем, пользователь проезжает 3133 метров(для бимодального распределения вообще лучше разделить данные на две группы).\n",
    "Данные о расстояниях поездок явно делятся примерно на 1500 метров. Группа коротких поездок может быть связана со случайными пользователями (ошибки или испытания нового способа передвижения) или с пользователями с платной подпиской, для которых старт поездки бесплатен. Длинные поездки могут быть связаны с использованием самоката как досуга или средства осмотра города туристами. Также может существовать категория пользователей, которые проезжают небольшие расстояния до метро/остановки автобуса, а есть пользователи, кто едет до конечного пункта. Далее посмотрим, влияет ли на расстояние тип подписки."
   ]
  },
  {
   "cell_type": "markdown",
   "id": "585bf914",
   "metadata": {},
   "source": [
    "#### Продолжительность поездок"
   ]
  },
  {
   "cell_type": "code",
   "execution_count": 33,
   "id": "4bc78da8",
   "metadata": {
    "scrolled": true
   },
   "outputs": [
    {
     "data": {
      "text/plain": [
       "count    18068.000000\n",
       "mean        17.805011\n",
       "std          6.091051\n",
       "min          0.500000\n",
       "25%         13.597563\n",
       "50%         17.678395\n",
       "75%         21.724800\n",
       "max         40.823963\n",
       "Name: duration, dtype: float64"
      ]
     },
     "execution_count": 33,
     "metadata": {},
     "output_type": "execute_result"
    }
   ],
   "source": [
    "rides['duration'].describe()"
   ]
  },
  {
   "cell_type": "code",
   "execution_count": 34,
   "id": "f8ec35a8",
   "metadata": {},
   "outputs": [
    {
     "data": {
      "image/png": "[encoded data removed]",
      "text/plain": [
       "<Figure size 1000x500 with 1 Axes>"
      ]
     },
     "metadata": {},
     "output_type": "display_data"
    }
   ],
   "source": [
    "plt.figure(figsize=(10, 5))\n",
    "plt.hist(rides['duration'],\n",
    "         bins=40,\n",
    "         color = 'blue',\n",
    "         edgecolor = 'black')\n",
    "plt.title('Продолжительность поездок')\n",
    "plt.xlabel('Продолжительность поездки, мин')\n",
    "plt.ylabel('Частота')\n",
    "plt.show()"
   ]
  },
  {
   "cell_type": "code",
   "execution_count": 35,
   "id": "754e48e4",
   "metadata": {},
   "outputs": [
    {
     "data": {
      "image/png": "[encoded data removed]",
      "text/plain": [
       "<Figure size 640x480 with 1 Axes>"
      ]
     },
     "metadata": {},
     "output_type": "display_data"
    }
   ],
   "source": [
    "rides['duration'].plot.box(title='Ящик с усами для продолжительности одной поездки')\n",
    "plt.show()"
   ]
  },
  {
   "cell_type": "markdown",
   "id": "16aaef2e",
   "metadata": {},
   "source": [
    "Очень короткие поездки также похожи на ошибку - менее минуты. Скорее всего, пользователь передумал или не разобрался в работе сервиса и отменил поездку. Максимальная продолжительность поездки составляет около 41 минуты. В среднем, пользователи проводят в поездке около 17.7 минут."
   ]
  },
  {
   "cell_type": "markdown",
   "id": "a35a3a8d",
   "metadata": {},
   "source": [
    "При первичном анализе данных установлено:\n",
    "- Чаще всего сервисом пользуются в Пятигорске, реже - в Москве.\n",
    "- Пользователей с подпиской Ultra примерно на 25% меньше, чем пользователей без подписки. Достаточно высокий показатель для платных подписок.\n",
    "- Среднему пользователю сервиса аренды самокатов 25 лет, самым молодым пользователям - 12 лет, самым взрослым - 43 года.\n",
    "- Видно, что пользователи берут самокаты для разных целей. Есть очень короткие поездки (менее метра - похоже на ошибку), есть очень длинные (7211 м). В среднем, пользователь проезжает 3133 метров(для бимодального распределения вообще лучше разделить данные на две группы до 1500 м и более 1500).\n",
    "- Очень короткие поездки также похожи на ошибку - менее минуты. Скорее всего, пользователь передумал или не разобрался в работе сервиса и отменил поездку. Максимальная продолжительность поездки составляет около 41 минуты. В среднем, пользователи проводят в поездке около 17.7 минут."
   ]
  },
  {
   "cell_type": "markdown",
   "id": "46532cba",
   "metadata": {},
   "source": [
    "### Шаг 4. Объединение данных\n",
    "<a id='merge'></a>"
   ]
  },
  {
   "cell_type": "code",
   "execution_count": 36,
   "id": "ba572aae",
   "metadata": {
    "scrolled": true
   },
   "outputs": [
    {
     "data": {
      "text/html": [
       "<div>\n",
       "<style scoped>\n",
       "    .dataframe tbody tr th:only-of-type {\n",
       "        vertical-align: middle;\n",
       "    }\n",
       "\n",
       "    .dataframe tbody tr th {\n",
       "        vertical-align: top;\n",
       "    }\n",
       "\n",
       "    .dataframe thead th {\n",
       "        text-align: right;\n",
       "    }\n",
       "</style>\n",
       "<table border=\"1\" class=\"dataframe\">\n",
       "  <thead>\n",
       "    <tr style=\"text-align: right;\">\n",
       "      <th></th>\n",
       "      <th>user_id</th>\n",
       "      <th>name</th>\n",
       "      <th>age</th>\n",
       "      <th>city</th>\n",
       "      <th>subscription_type</th>\n",
       "      <th>distance</th>\n",
       "      <th>duration</th>\n",
       "      <th>date</th>\n",
       "      <th>month</th>\n",
       "      <th>minute_price</th>\n",
       "      <th>start_ride_price</th>\n",
       "      <th>subscription_fee</th>\n",
       "    </tr>\n",
       "  </thead>\n",
       "  <tbody>\n",
       "    <tr>\n",
       "      <th>0</th>\n",
       "      <td>1</td>\n",
       "      <td>Кира</td>\n",
       "      <td>22</td>\n",
       "      <td>Тюмень</td>\n",
       "      <td>ultra</td>\n",
       "      <td>4409.919140</td>\n",
       "      <td>25.599769</td>\n",
       "      <td>2021-01-01</td>\n",
       "      <td>1</td>\n",
       "      <td>6</td>\n",
       "      <td>0</td>\n",
       "      <td>199</td>\n",
       "    </tr>\n",
       "    <tr>\n",
       "      <th>1</th>\n",
       "      <td>1</td>\n",
       "      <td>Кира</td>\n",
       "      <td>22</td>\n",
       "      <td>Тюмень</td>\n",
       "      <td>ultra</td>\n",
       "      <td>2617.592153</td>\n",
       "      <td>15.816871</td>\n",
       "      <td>2021-01-18</td>\n",
       "      <td>1</td>\n",
       "      <td>6</td>\n",
       "      <td>0</td>\n",
       "      <td>199</td>\n",
       "    </tr>\n",
       "    <tr>\n",
       "      <th>2</th>\n",
       "      <td>1</td>\n",
       "      <td>Кира</td>\n",
       "      <td>22</td>\n",
       "      <td>Тюмень</td>\n",
       "      <td>ultra</td>\n",
       "      <td>754.159807</td>\n",
       "      <td>6.232113</td>\n",
       "      <td>2021-04-20</td>\n",
       "      <td>4</td>\n",
       "      <td>6</td>\n",
       "      <td>0</td>\n",
       "      <td>199</td>\n",
       "    </tr>\n",
       "    <tr>\n",
       "      <th>3</th>\n",
       "      <td>1</td>\n",
       "      <td>Кира</td>\n",
       "      <td>22</td>\n",
       "      <td>Тюмень</td>\n",
       "      <td>ultra</td>\n",
       "      <td>2694.783254</td>\n",
       "      <td>18.511000</td>\n",
       "      <td>2021-08-11</td>\n",
       "      <td>8</td>\n",
       "      <td>6</td>\n",
       "      <td>0</td>\n",
       "      <td>199</td>\n",
       "    </tr>\n",
       "    <tr>\n",
       "      <th>4</th>\n",
       "      <td>1</td>\n",
       "      <td>Кира</td>\n",
       "      <td>22</td>\n",
       "      <td>Тюмень</td>\n",
       "      <td>ultra</td>\n",
       "      <td>4028.687306</td>\n",
       "      <td>26.265803</td>\n",
       "      <td>2021-08-28</td>\n",
       "      <td>8</td>\n",
       "      <td>6</td>\n",
       "      <td>0</td>\n",
       "      <td>199</td>\n",
       "    </tr>\n",
       "  </tbody>\n",
       "</table>\n",
       "</div>"
      ],
      "text/plain": [
       "   user_id  name  age    city subscription_type     distance   duration  \\\n",
       "0        1  Кира   22  Тюмень             ultra  4409.919140  25.599769   \n",
       "1        1  Кира   22  Тюмень             ultra  2617.592153  15.816871   \n",
       "2        1  Кира   22  Тюмень             ultra   754.159807   6.232113   \n",
       "3        1  Кира   22  Тюмень             ultra  2694.783254  18.511000   \n",
       "4        1  Кира   22  Тюмень             ultra  4028.687306  26.265803   \n",
       "\n",
       "        date  month  minute_price  start_ride_price  subscription_fee  \n",
       "0 2021-01-01      1             6                 0               199  \n",
       "1 2021-01-18      1             6                 0               199  \n",
       "2 2021-04-20      4             6                 0               199  \n",
       "3 2021-08-11      8             6                 0               199  \n",
       "4 2021-08-28      8             6                 0               199  "
      ]
     },
     "execution_count": 36,
     "metadata": {},
     "output_type": "execute_result"
    }
   ],
   "source": [
    "# Объединим информацию о пользователях, поездках и подписках в одну таблицу df.\n",
    "df = users.merge(\n",
    "    rides,\n",
    "    on='user_id')\n",
    "df = df.merge(\n",
    "    subscriptions,\n",
    "    on='subscription_type')\n",
    "df.head()"
   ]
  },
  {
   "cell_type": "code",
   "execution_count": 37,
   "id": "b777cb40",
   "metadata": {},
   "outputs": [
    {
     "name": "stdout",
     "output_type": "stream",
     "text": [
      "<class 'pandas.core.frame.DataFrame'>\n",
      "Int64Index: 18068 entries, 0 to 18067\n",
      "Data columns (total 12 columns):\n",
      " #   Column             Non-Null Count  Dtype         \n",
      "---  ------             --------------  -----         \n",
      " 0   user_id            18068 non-null  int64         \n",
      " 1   name               18068 non-null  object        \n",
      " 2   age                18068 non-null  int64         \n",
      " 3   city               18068 non-null  object        \n",
      " 4   subscription_type  18068 non-null  object        \n",
      " 5   distance           18068 non-null  float64       \n",
      " 6   duration           18068 non-null  float64       \n",
      " 7   date               18068 non-null  datetime64[ns]\n",
      " 8   month              18068 non-null  int64         \n",
      " 9   minute_price       18068 non-null  int64         \n",
      " 10  start_ride_price   18068 non-null  int64         \n",
      " 11  subscription_fee   18068 non-null  int64         \n",
      "dtypes: datetime64[ns](1), float64(2), int64(6), object(3)\n",
      "memory usage: 1.8+ MB\n"
     ]
    }
   ],
   "source": [
    "df.info()"
   ]
  },
  {
   "cell_type": "code",
   "execution_count": 38,
   "id": "249d56f2",
   "metadata": {
    "scrolled": true
   },
   "outputs": [
    {
     "name": "stdout",
     "output_type": "stream",
     "text": [
      "<class 'pandas.core.frame.DataFrame'>\n",
      "Int64Index: 11568 entries, 6500 to 18067\n",
      "Data columns (total 12 columns):\n",
      " #   Column             Non-Null Count  Dtype         \n",
      "---  ------             --------------  -----         \n",
      " 0   user_id            11568 non-null  int64         \n",
      " 1   name               11568 non-null  object        \n",
      " 2   age                11568 non-null  int64         \n",
      " 3   city               11568 non-null  object        \n",
      " 4   subscription_type  11568 non-null  object        \n",
      " 5   distance           11568 non-null  float64       \n",
      " 6   duration           11568 non-null  float64       \n",
      " 7   date               11568 non-null  datetime64[ns]\n",
      " 8   month              11568 non-null  int64         \n",
      " 9   minute_price       11568 non-null  int64         \n",
      " 10  start_ride_price   11568 non-null  int64         \n",
      " 11  subscription_fee   11568 non-null  int64         \n",
      "dtypes: datetime64[ns](1), float64(2), int64(6), object(3)\n",
      "memory usage: 1.1+ MB\n"
     ]
    }
   ],
   "source": [
    "# Отдельно создадим таблицы с информацией о пользователях с бесплатной и платной подпиской.\n",
    "df_free = df[df['subscription_type'] == 'free']\n",
    "df_free.info()"
   ]
  },
  {
   "cell_type": "code",
   "execution_count": 39,
   "id": "4a62d31d",
   "metadata": {},
   "outputs": [
    {
     "name": "stdout",
     "output_type": "stream",
     "text": [
      "<class 'pandas.core.frame.DataFrame'>\n",
      "Int64Index: 6500 entries, 0 to 6499\n",
      "Data columns (total 12 columns):\n",
      " #   Column             Non-Null Count  Dtype         \n",
      "---  ------             --------------  -----         \n",
      " 0   user_id            6500 non-null   int64         \n",
      " 1   name               6500 non-null   object        \n",
      " 2   age                6500 non-null   int64         \n",
      " 3   city               6500 non-null   object        \n",
      " 4   subscription_type  6500 non-null   object        \n",
      " 5   distance           6500 non-null   float64       \n",
      " 6   duration           6500 non-null   float64       \n",
      " 7   date               6500 non-null   datetime64[ns]\n",
      " 8   month              6500 non-null   int64         \n",
      " 9   minute_price       6500 non-null   int64         \n",
      " 10  start_ride_price   6500 non-null   int64         \n",
      " 11  subscription_fee   6500 non-null   int64         \n",
      "dtypes: datetime64[ns](1), float64(2), int64(6), object(3)\n",
      "memory usage: 660.2+ KB\n"
     ]
    }
   ],
   "source": [
    "df_ultra = df[df['subscription_type'] == 'ultra']\n",
    "df_ultra.info()"
   ]
  },
  {
   "cell_type": "code",
   "execution_count": 40,
   "id": "fece2fe7",
   "metadata": {},
   "outputs": [
    {
     "data": {
      "image/png": "[encoded data removed]",
      "text/plain": [
       "<Figure size 1000x500 with 1 Axes>"
      ]
     },
     "metadata": {},
     "output_type": "display_data"
    }
   ],
   "source": [
    "plt.figure(figsize=(10,5))\n",
    "plt.hist(df_free['distance'],\n",
    "         bins=60,\n",
    "         color = 'blue',\n",
    "         edgecolor = 'black',\n",
    "         range=[0,7000])\n",
    "plt.title('Расстояние, которое пользователь с бесплатным тарифом преодолел за одну поездку')\n",
    "plt.xlabel('Дистанция одной поездки, м')\n",
    "plt.ylabel('Частота')\n",
    "plt.show()"
   ]
  },
  {
   "cell_type": "code",
   "execution_count": 41,
   "id": "26aaa9c9",
   "metadata": {},
   "outputs": [
    {
     "data": {
      "text/plain": [
       "count    11568.000000\n",
       "mean      3045.495282\n",
       "std       1246.173806\n",
       "min          0.855683\n",
       "25%       2366.562689\n",
       "50%       3114.648465\n",
       "75%       3905.697894\n",
       "max       7211.007745\n",
       "Name: distance, dtype: float64"
      ]
     },
     "execution_count": 41,
     "metadata": {},
     "output_type": "execute_result"
    }
   ],
   "source": [
    "df_free['distance'].describe()"
   ]
  },
  {
   "cell_type": "code",
   "execution_count": 42,
   "id": "1fc5c9fd",
   "metadata": {
    "scrolled": true
   },
   "outputs": [
    {
     "data": {
      "image/png": "[encoded data removed]",
      "text/plain": [
       "<Figure size 1000x500 with 1 Axes>"
      ]
     },
     "metadata": {},
     "output_type": "display_data"
    }
   ],
   "source": [
    "plt.figure(figsize=(10,5))\n",
    "plt.hist(df_ultra['distance'],\n",
    "         bins=50,\n",
    "         color = 'blue',\n",
    "         edgecolor = 'black',\n",
    "         range=[0,7000])\n",
    "plt.title('Расстояние, которое пользователь с подпиской \"Ultra\" преодолел за одну поездку')\n",
    "plt.xlabel('Дистанция одной поездки, м')\n",
    "plt.ylabel('Частота')\n",
    "plt.show()"
   ]
  },
  {
   "cell_type": "code",
   "execution_count": 43,
   "id": "4460ad1d",
   "metadata": {},
   "outputs": [
    {
     "data": {
      "text/plain": [
       "count    6500.000000\n",
       "mean     3115.445388\n",
       "std       836.895330\n",
       "min       244.210438\n",
       "25%      2785.444017\n",
       "50%      3148.637229\n",
       "75%      3560.574425\n",
       "max      5699.769662\n",
       "Name: distance, dtype: float64"
      ]
     },
     "execution_count": 43,
     "metadata": {},
     "output_type": "execute_result"
    }
   ],
   "source": [
    "df_ultra['distance'].describe()"
   ]
  },
  {
   "cell_type": "markdown",
   "id": "8db74f59",
   "metadata": {},
   "source": [
    "Распределение дистанций пользователей стремится к нормальному, однако выделяется группа пользователейЮ которые проехали значительно меньшее расстояние (до 1500 м), причем больше таких пользователей среди пользователей без подписки. Возможно, это говорит о том, что часть людей использует сервис или даже самокат впервые, и решили закончить поездку раньше из-за дискомфорта передвижения или пользования сервисом.\n",
    "\n",
    "Для пользователей с платной подпиской логичнее предположить, что они уже знакомы с сервисом и самокатами, поэтому и приобрели подписку, а короткие поездки связаны с отсутствием оплаты за старт поездки - выгодно брать самокат и на короткие расстояния."
   ]
  },
  {
   "cell_type": "code",
   "execution_count": 44,
   "id": "fb858a4a",
   "metadata": {
    "scrolled": true
   },
   "outputs": [
    {
     "data": {
      "image/png": "[encoded data removed]",
      "text/plain": [
       "<Figure size 1000x500 with 1 Axes>"
      ]
     },
     "metadata": {},
     "output_type": "display_data"
    }
   ],
   "source": [
    "plt.figure(figsize=(10,5))\n",
    "\n",
    "plt.hist(df_free['duration'],\n",
    "         bins=35,\n",
    "         color='blue',\n",
    "         edgecolor='black',\n",
    "         alpha=0.5, \n",
    "         label='Бесплатный тариф')\n",
    "\n",
    "plt.hist(df_ultra['duration'],\n",
    "         bins=35, \n",
    "         color='green',\n",
    "         edgecolor='black',\n",
    "         alpha=0.5, \n",
    "         label='Подписка \"Ultra\"')\n",
    "\n",
    "plt.title('Продолжительность поездок пользователей с разными тарифами')\n",
    "plt.xlabel('Длительность одной поездки, мин')\n",
    "plt.ylabel('Частота')\n",
    "\n",
    "\n",
    "plt.legend()\n",
    "plt.show()"
   ]
  },
  {
   "cell_type": "code",
   "execution_count": 45,
   "id": "0ec8c6f0",
   "metadata": {
    "scrolled": false
   },
   "outputs": [
    {
     "data": {
      "text/html": [
       "<div>\n",
       "<style scoped>\n",
       "    .dataframe tbody tr th:only-of-type {\n",
       "        vertical-align: middle;\n",
       "    }\n",
       "\n",
       "    .dataframe tbody tr th {\n",
       "        vertical-align: top;\n",
       "    }\n",
       "\n",
       "    .dataframe thead th {\n",
       "        text-align: right;\n",
       "    }\n",
       "</style>\n",
       "<table border=\"1\" class=\"dataframe\">\n",
       "  <thead>\n",
       "    <tr style=\"text-align: right;\">\n",
       "      <th></th>\n",
       "      <th>subscription_type</th>\n",
       "      <th>city</th>\n",
       "      <th>distance</th>\n",
       "      <th>duration</th>\n",
       "      <th>month</th>\n",
       "    </tr>\n",
       "  </thead>\n",
       "  <tbody>\n",
       "    <tr>\n",
       "      <th>6531</th>\n",
       "      <td>free</td>\n",
       "      <td>Екатеринбург</td>\n",
       "      <td>4196.445201</td>\n",
       "      <td>0.5</td>\n",
       "      <td>8</td>\n",
       "    </tr>\n",
       "    <tr>\n",
       "      <th>6570</th>\n",
       "      <td>free</td>\n",
       "      <td>Ростов-на-Дону</td>\n",
       "      <td>4830.824371</td>\n",
       "      <td>0.5</td>\n",
       "      <td>10</td>\n",
       "    </tr>\n",
       "    <tr>\n",
       "      <th>6680</th>\n",
       "      <td>free</td>\n",
       "      <td>Москва</td>\n",
       "      <td>4684.004397</td>\n",
       "      <td>0.5</td>\n",
       "      <td>3</td>\n",
       "    </tr>\n",
       "    <tr>\n",
       "      <th>6695</th>\n",
       "      <td>free</td>\n",
       "      <td>Краснодар</td>\n",
       "      <td>5215.642710</td>\n",
       "      <td>0.5</td>\n",
       "      <td>2</td>\n",
       "    </tr>\n",
       "    <tr>\n",
       "      <th>6768</th>\n",
       "      <td>free</td>\n",
       "      <td>Москва</td>\n",
       "      <td>5197.436649</td>\n",
       "      <td>0.5</td>\n",
       "      <td>2</td>\n",
       "    </tr>\n",
       "    <tr>\n",
       "      <th>...</th>\n",
       "      <td>...</td>\n",
       "      <td>...</td>\n",
       "      <td>...</td>\n",
       "      <td>...</td>\n",
       "      <td>...</td>\n",
       "    </tr>\n",
       "    <tr>\n",
       "      <th>17004</th>\n",
       "      <td>free</td>\n",
       "      <td>Пятигорск</td>\n",
       "      <td>5531.335845</td>\n",
       "      <td>0.5</td>\n",
       "      <td>1</td>\n",
       "    </tr>\n",
       "    <tr>\n",
       "      <th>17242</th>\n",
       "      <td>free</td>\n",
       "      <td>Сочи</td>\n",
       "      <td>6724.932981</td>\n",
       "      <td>0.5</td>\n",
       "      <td>1</td>\n",
       "    </tr>\n",
       "    <tr>\n",
       "      <th>17314</th>\n",
       "      <td>free</td>\n",
       "      <td>Екатеринбург</td>\n",
       "      <td>4445.481070</td>\n",
       "      <td>0.5</td>\n",
       "      <td>3</td>\n",
       "    </tr>\n",
       "    <tr>\n",
       "      <th>17505</th>\n",
       "      <td>free</td>\n",
       "      <td>Москва</td>\n",
       "      <td>5722.551787</td>\n",
       "      <td>0.5</td>\n",
       "      <td>2</td>\n",
       "    </tr>\n",
       "    <tr>\n",
       "      <th>17909</th>\n",
       "      <td>free</td>\n",
       "      <td>Москва</td>\n",
       "      <td>4103.998874</td>\n",
       "      <td>0.5</td>\n",
       "      <td>6</td>\n",
       "    </tr>\n",
       "  </tbody>\n",
       "</table>\n",
       "<p>95 rows × 5 columns</p>\n",
       "</div>"
      ],
      "text/plain": [
       "      subscription_type            city     distance  duration  month\n",
       "6531               free    Екатеринбург  4196.445201       0.5      8\n",
       "6570               free  Ростов-на-Дону  4830.824371       0.5     10\n",
       "6680               free          Москва  4684.004397       0.5      3\n",
       "6695               free       Краснодар  5215.642710       0.5      2\n",
       "6768               free          Москва  5197.436649       0.5      2\n",
       "...                 ...             ...          ...       ...    ...\n",
       "17004              free       Пятигорск  5531.335845       0.5      1\n",
       "17242              free            Сочи  6724.932981       0.5      1\n",
       "17314              free    Екатеринбург  4445.481070       0.5      3\n",
       "17505              free          Москва  5722.551787       0.5      2\n",
       "17909              free          Москва  4103.998874       0.5      6\n",
       "\n",
       "[95 rows x 5 columns]"
      ]
     },
     "execution_count": 45,
     "metadata": {},
     "output_type": "execute_result"
    }
   ],
   "source": [
    "# Проверим аномально короткие поездки у пользователей с бесплатной подпиской \n",
    "df.query('duration < 1')[['subscription_type', 'city', 'distance','duration', 'month']]"
   ]
  },
  {
   "cell_type": "markdown",
   "id": "8f73c943",
   "metadata": {},
   "source": [
    "Все аномально короткие поездки совершены за 0.5 минуты на расстояния, превышающие скоростные возможности самокатов. Может быть, произошел сбой программы, время записалось неправильно.\n",
    "Лучше удалить эти данные (95 строк из 18 тыс - менее 1%)"
   ]
  },
  {
   "cell_type": "code",
   "execution_count": 46,
   "id": "11524a1e",
   "metadata": {},
   "outputs": [
    {
     "data": {
      "text/plain": [
       "0"
      ]
     },
     "execution_count": 46,
     "metadata": {},
     "output_type": "execute_result"
    }
   ],
   "source": [
    "# Удаление данных с аномально короткими поездками\n",
    "df = df.loc[df['duration'] > 0.5]\n",
    "df.query('duration < 1')['duration'].count()"
   ]
  },
  {
   "cell_type": "code",
   "execution_count": 47,
   "id": "f4e12573",
   "metadata": {},
   "outputs": [
    {
     "data": {
      "image/png": "[encoded data removed]",
      "text/plain": [
       "<Figure size 1000x500 with 1 Axes>"
      ]
     },
     "metadata": {},
     "output_type": "display_data"
    }
   ],
   "source": [
    "plt.figure(figsize=(10,5))\n",
    "\n",
    "plt.hist(df_free['duration'],\n",
    "         bins=35,\n",
    "         color='blue',\n",
    "         edgecolor='black',\n",
    "         alpha=0.5, \n",
    "         label='Бесплатный тариф')\n",
    "\n",
    "plt.hist(df_ultra['duration'],\n",
    "         bins=35, \n",
    "         color='green',\n",
    "         edgecolor='black',\n",
    "         alpha=0.5, \n",
    "         label='Подписка \"Ultra\"')\n",
    "\n",
    "plt.title('Продолжительность поездок пользователей с разными тарифами')\n",
    "plt.xlabel('Длительность одной поездки, мин')\n",
    "plt.ylabel('Частота')\n",
    "\n",
    "\n",
    "plt.legend()\n",
    "plt.show()"
   ]
  },
  {
   "cell_type": "code",
   "execution_count": 48,
   "id": "38355f99",
   "metadata": {
    "scrolled": false
   },
   "outputs": [
    {
     "data": {
      "text/html": [
       "<div>\n",
       "<style scoped>\n",
       "    .dataframe tbody tr th:only-of-type {\n",
       "        vertical-align: middle;\n",
       "    }\n",
       "\n",
       "    .dataframe tbody tr th {\n",
       "        vertical-align: top;\n",
       "    }\n",
       "\n",
       "    .dataframe thead th {\n",
       "        text-align: right;\n",
       "    }\n",
       "</style>\n",
       "<table border=\"1\" class=\"dataframe\">\n",
       "  <thead>\n",
       "    <tr style=\"text-align: right;\">\n",
       "      <th></th>\n",
       "      <th>subscription_type</th>\n",
       "      <th>distance</th>\n",
       "      <th>duration</th>\n",
       "      <th>month</th>\n",
       "    </tr>\n",
       "  </thead>\n",
       "  <tbody>\n",
       "    <tr>\n",
       "      <th>6691</th>\n",
       "      <td>free</td>\n",
       "      <td>23.963062</td>\n",
       "      <td>2.053251</td>\n",
       "      <td>11</td>\n",
       "    </tr>\n",
       "    <tr>\n",
       "      <th>6801</th>\n",
       "      <td>free</td>\n",
       "      <td>102.323624</td>\n",
       "      <td>2.292353</td>\n",
       "      <td>9</td>\n",
       "    </tr>\n",
       "    <tr>\n",
       "      <th>6850</th>\n",
       "      <td>free</td>\n",
       "      <td>30.473763</td>\n",
       "      <td>3.166221</td>\n",
       "      <td>5</td>\n",
       "    </tr>\n",
       "    <tr>\n",
       "      <th>7353</th>\n",
       "      <td>free</td>\n",
       "      <td>568.970941</td>\n",
       "      <td>3.137942</td>\n",
       "      <td>4</td>\n",
       "    </tr>\n",
       "    <tr>\n",
       "      <th>7453</th>\n",
       "      <td>free</td>\n",
       "      <td>273.136262</td>\n",
       "      <td>2.744917</td>\n",
       "      <td>2</td>\n",
       "    </tr>\n",
       "  </tbody>\n",
       "</table>\n",
       "</div>"
      ],
      "text/plain": [
       "     subscription_type    distance  duration  month\n",
       "6691              free   23.963062  2.053251     11\n",
       "6801              free  102.323624  2.292353      9\n",
       "6850              free   30.473763  3.166221      5\n",
       "7353              free  568.970941  3.137942      4\n",
       "7453              free  273.136262  2.744917      2"
      ]
     },
     "execution_count": 48,
     "metadata": {},
     "output_type": "execute_result"
    }
   ],
   "source": [
    "df.query('duration < 3.5')[['subscription_type',  'distance','duration', 'month']].head()"
   ]
  },
  {
   "cell_type": "code",
   "execution_count": 49,
   "id": "0a5c7afa",
   "metadata": {},
   "outputs": [
    {
     "data": {
      "text/plain": [
       "count    17973.000000\n",
       "mean        17.896480\n",
       "std          5.975424\n",
       "min          2.035632\n",
       "25%         13.670439\n",
       "50%         17.714122\n",
       "75%         21.747016\n",
       "max         40.823963\n",
       "Name: duration, dtype: float64"
      ]
     },
     "execution_count": 49,
     "metadata": {},
     "output_type": "execute_result"
    }
   ],
   "source": [
    "df['duration'].describe()"
   ]
  },
  {
   "cell_type": "code",
   "execution_count": 50,
   "id": "9d1f2dd2",
   "metadata": {
    "scrolled": true
   },
   "outputs": [
    {
     "data": {
      "text/plain": [
       "count    17973.000000\n",
       "mean      3059.863833\n",
       "std       1108.814612\n",
       "min          0.855683\n",
       "25%       2538.839628\n",
       "50%       3129.029255\n",
       "75%       3762.636244\n",
       "max       7066.003772\n",
       "Name: distance, dtype: float64"
      ]
     },
     "execution_count": 50,
     "metadata": {},
     "output_type": "execute_result"
    }
   ],
   "source": [
    "df['distance'].describe()"
   ]
  },
  {
   "cell_type": "markdown",
   "id": "f6e0edca",
   "metadata": {},
   "source": [
    "После удаления аномально коротких поездок другие короткие поездки выглядят правдоподобнее - пользователи без подписки, проезжают адекватное расстояние за маленькое время. Возможно, самокат не подошел им как средство передвижения.\n",
    "Средняя продолжительность поездки: 17.71, минимальная: 2.03, максимальная - 40.82 минут."
   ]
  },
  {
   "cell_type": "code",
   "execution_count": 51,
   "id": "5e237a2f",
   "metadata": {},
   "outputs": [
    {
     "name": "stdout",
     "output_type": "stream",
     "text": [
      "Средняя длительность поездки больше у пользователей с подпиской \"Ultra\" и составляет 18.18 минут.\n"
     ]
    }
   ],
   "source": [
    " if df_free['duration'].median() > df_ultra['duration'].median():\n",
    "    print('Средняя длительность поездки больше у пользователей с бесплатным тарифоми составляет',\n",
    "          round(df_free['duration'].median(),2), 'минут.')\n",
    "else:\n",
    "    print('Средняя длительность поездки больше у пользователей с подпиской \"Ultra\" и составляет',\n",
    "          round(df_ultra['duration'].median(), 2), 'минут.')"
   ]
  },
  {
   "cell_type": "markdown",
   "id": "b8557350",
   "metadata": {},
   "source": [
    "У пользователей с бесплатным тарифом есть почти нулевые по длительности поездки - 0.5, возможно, связаны с ошибкой учета времени. Удалены 95 строк данных с аномалиями (+ по этим данным не рассчитать выручку).\n",
    "Средняя длительность поездки больше у пользователей с подпиской \"Ultra\" - 18.18 минут."
   ]
  },
  {
   "cell_type": "markdown",
   "id": "297d9c63",
   "metadata": {},
   "source": [
    "### Шаг 5. Подсчёт выручки\n",
    "<a id='revenue'></a>"
   ]
  },
  {
   "cell_type": "code",
   "execution_count": 52,
   "id": "f17e5526",
   "metadata": {},
   "outputs": [],
   "source": [
    "# Округление продолжительности в большую сторону до целого\n",
    "df['duration'] = np.ceil(df['duration']) "
   ]
  },
  {
   "cell_type": "code",
   "execution_count": 53,
   "id": "da19fe34",
   "metadata": {
    "scrolled": false
   },
   "outputs": [
    {
     "data": {
      "text/html": [
       "<div>\n",
       "<style scoped>\n",
       "    .dataframe tbody tr th:only-of-type {\n",
       "        vertical-align: middle;\n",
       "    }\n",
       "\n",
       "    .dataframe tbody tr th {\n",
       "        vertical-align: top;\n",
       "    }\n",
       "\n",
       "    .dataframe thead th {\n",
       "        text-align: right;\n",
       "    }\n",
       "</style>\n",
       "<table border=\"1\" class=\"dataframe\">\n",
       "  <thead>\n",
       "    <tr style=\"text-align: right;\">\n",
       "      <th></th>\n",
       "      <th>user_id</th>\n",
       "      <th>month</th>\n",
       "      <th>sum_distance</th>\n",
       "      <th>quantity</th>\n",
       "      <th>sum_duration</th>\n",
       "    </tr>\n",
       "  </thead>\n",
       "  <tbody>\n",
       "    <tr>\n",
       "      <th>0</th>\n",
       "      <td>1</td>\n",
       "      <td>1</td>\n",
       "      <td>7027.511294</td>\n",
       "      <td>2.0</td>\n",
       "      <td>42.0</td>\n",
       "    </tr>\n",
       "    <tr>\n",
       "      <th>1</th>\n",
       "      <td>1</td>\n",
       "      <td>4</td>\n",
       "      <td>754.159807</td>\n",
       "      <td>1.0</td>\n",
       "      <td>7.0</td>\n",
       "    </tr>\n",
       "    <tr>\n",
       "      <th>2</th>\n",
       "      <td>1</td>\n",
       "      <td>8</td>\n",
       "      <td>6723.470560</td>\n",
       "      <td>2.0</td>\n",
       "      <td>46.0</td>\n",
       "    </tr>\n",
       "    <tr>\n",
       "      <th>3</th>\n",
       "      <td>1</td>\n",
       "      <td>10</td>\n",
       "      <td>5809.911100</td>\n",
       "      <td>2.0</td>\n",
       "      <td>32.0</td>\n",
       "    </tr>\n",
       "    <tr>\n",
       "      <th>4</th>\n",
       "      <td>1</td>\n",
       "      <td>11</td>\n",
       "      <td>7003.499363</td>\n",
       "      <td>3.0</td>\n",
       "      <td>56.0</td>\n",
       "    </tr>\n",
       "    <tr>\n",
       "      <th>...</th>\n",
       "      <td>...</td>\n",
       "      <td>...</td>\n",
       "      <td>...</td>\n",
       "      <td>...</td>\n",
       "      <td>...</td>\n",
       "    </tr>\n",
       "    <tr>\n",
       "      <th>11295</th>\n",
       "      <td>1534</td>\n",
       "      <td>6</td>\n",
       "      <td>3409.468534</td>\n",
       "      <td>2.0</td>\n",
       "      <td>26.0</td>\n",
       "    </tr>\n",
       "    <tr>\n",
       "      <th>11296</th>\n",
       "      <td>1534</td>\n",
       "      <td>8</td>\n",
       "      <td>7622.453034</td>\n",
       "      <td>2.0</td>\n",
       "      <td>48.0</td>\n",
       "    </tr>\n",
       "    <tr>\n",
       "      <th>11297</th>\n",
       "      <td>1534</td>\n",
       "      <td>9</td>\n",
       "      <td>4928.173852</td>\n",
       "      <td>1.0</td>\n",
       "      <td>23.0</td>\n",
       "    </tr>\n",
       "    <tr>\n",
       "      <th>11298</th>\n",
       "      <td>1534</td>\n",
       "      <td>11</td>\n",
       "      <td>13350.015305</td>\n",
       "      <td>4.0</td>\n",
       "      <td>78.0</td>\n",
       "    </tr>\n",
       "    <tr>\n",
       "      <th>11299</th>\n",
       "      <td>1534</td>\n",
       "      <td>12</td>\n",
       "      <td>2371.711192</td>\n",
       "      <td>1.0</td>\n",
       "      <td>16.0</td>\n",
       "    </tr>\n",
       "  </tbody>\n",
       "</table>\n",
       "<p>11300 rows × 5 columns</p>\n",
       "</div>"
      ],
      "text/plain": [
       "       user_id  month  sum_distance  quantity  sum_duration\n",
       "0            1      1   7027.511294       2.0          42.0\n",
       "1            1      4    754.159807       1.0           7.0\n",
       "2            1      8   6723.470560       2.0          46.0\n",
       "3            1     10   5809.911100       2.0          32.0\n",
       "4            1     11   7003.499363       3.0          56.0\n",
       "...        ...    ...           ...       ...           ...\n",
       "11295     1534      6   3409.468534       2.0          26.0\n",
       "11296     1534      8   7622.453034       2.0          48.0\n",
       "11297     1534      9   4928.173852       1.0          23.0\n",
       "11298     1534     11  13350.015305       4.0          78.0\n",
       "11299     1534     12   2371.711192       1.0          16.0\n",
       "\n",
       "[11300 rows x 5 columns]"
      ]
     },
     "execution_count": 53,
     "metadata": {},
     "output_type": "execute_result"
    }
   ],
   "source": [
    "# Создание датафрейма с агрегированными данными о поездках на основе датафрейма с объединёнными данными\n",
    "agg_data = df.pivot_table(\n",
    "    index=['user_id', 'month'],\n",
    "    values=['distance', 'duration', 'subscription_type'],\n",
    "    aggfunc={'distance': sum,\n",
    "             'duration': [sum, len],\n",
    "             }\n",
    ")\n",
    "agg_data.columns = ['sum_distance', 'quantity', 'sum_duration']\n",
    "agg_data = agg_data.reset_index()\n",
    "agg_data "
   ]
  },
  {
   "cell_type": "code",
   "execution_count": 54,
   "id": "ddfba2ad",
   "metadata": {},
   "outputs": [
    {
     "data": {
      "text/html": [
       "<div>\n",
       "<style scoped>\n",
       "    .dataframe tbody tr th:only-of-type {\n",
       "        vertical-align: middle;\n",
       "    }\n",
       "\n",
       "    .dataframe tbody tr th {\n",
       "        vertical-align: top;\n",
       "    }\n",
       "\n",
       "    .dataframe thead th {\n",
       "        text-align: right;\n",
       "    }\n",
       "</style>\n",
       "<table border=\"1\" class=\"dataframe\">\n",
       "  <thead>\n",
       "    <tr style=\"text-align: right;\">\n",
       "      <th></th>\n",
       "      <th>user_id</th>\n",
       "      <th>month</th>\n",
       "      <th>sum_distance</th>\n",
       "      <th>quantity</th>\n",
       "      <th>sum_duration</th>\n",
       "      <th>index</th>\n",
       "      <th>subscription_type</th>\n",
       "      <th>minute_price</th>\n",
       "      <th>start_ride_price</th>\n",
       "      <th>subscription_fee</th>\n",
       "    </tr>\n",
       "  </thead>\n",
       "  <tbody>\n",
       "    <tr>\n",
       "      <th>0</th>\n",
       "      <td>1</td>\n",
       "      <td>1</td>\n",
       "      <td>7027.511294</td>\n",
       "      <td>2.0</td>\n",
       "      <td>42.0</td>\n",
       "      <td>0</td>\n",
       "      <td>ultra</td>\n",
       "      <td>6</td>\n",
       "      <td>0</td>\n",
       "      <td>199</td>\n",
       "    </tr>\n",
       "    <tr>\n",
       "      <th>1</th>\n",
       "      <td>1</td>\n",
       "      <td>1</td>\n",
       "      <td>7027.511294</td>\n",
       "      <td>2.0</td>\n",
       "      <td>42.0</td>\n",
       "      <td>1</td>\n",
       "      <td>ultra</td>\n",
       "      <td>6</td>\n",
       "      <td>0</td>\n",
       "      <td>199</td>\n",
       "    </tr>\n",
       "    <tr>\n",
       "      <th>2</th>\n",
       "      <td>1</td>\n",
       "      <td>1</td>\n",
       "      <td>7027.511294</td>\n",
       "      <td>2.0</td>\n",
       "      <td>42.0</td>\n",
       "      <td>2</td>\n",
       "      <td>ultra</td>\n",
       "      <td>6</td>\n",
       "      <td>0</td>\n",
       "      <td>199</td>\n",
       "    </tr>\n",
       "    <tr>\n",
       "      <th>3</th>\n",
       "      <td>1</td>\n",
       "      <td>1</td>\n",
       "      <td>7027.511294</td>\n",
       "      <td>2.0</td>\n",
       "      <td>42.0</td>\n",
       "      <td>3</td>\n",
       "      <td>ultra</td>\n",
       "      <td>6</td>\n",
       "      <td>0</td>\n",
       "      <td>199</td>\n",
       "    </tr>\n",
       "    <tr>\n",
       "      <th>4</th>\n",
       "      <td>1</td>\n",
       "      <td>1</td>\n",
       "      <td>7027.511294</td>\n",
       "      <td>2.0</td>\n",
       "      <td>42.0</td>\n",
       "      <td>4</td>\n",
       "      <td>ultra</td>\n",
       "      <td>6</td>\n",
       "      <td>0</td>\n",
       "      <td>199</td>\n",
       "    </tr>\n",
       "    <tr>\n",
       "      <th>...</th>\n",
       "      <td>...</td>\n",
       "      <td>...</td>\n",
       "      <td>...</td>\n",
       "      <td>...</td>\n",
       "      <td>...</td>\n",
       "      <td>...</td>\n",
       "      <td>...</td>\n",
       "      <td>...</td>\n",
       "      <td>...</td>\n",
       "      <td>...</td>\n",
       "    </tr>\n",
       "    <tr>\n",
       "      <th>142332</th>\n",
       "      <td>1534</td>\n",
       "      <td>12</td>\n",
       "      <td>2371.711192</td>\n",
       "      <td>1.0</td>\n",
       "      <td>16.0</td>\n",
       "      <td>18063</td>\n",
       "      <td>free</td>\n",
       "      <td>8</td>\n",
       "      <td>50</td>\n",
       "      <td>0</td>\n",
       "    </tr>\n",
       "    <tr>\n",
       "      <th>142333</th>\n",
       "      <td>1534</td>\n",
       "      <td>12</td>\n",
       "      <td>2371.711192</td>\n",
       "      <td>1.0</td>\n",
       "      <td>16.0</td>\n",
       "      <td>18064</td>\n",
       "      <td>free</td>\n",
       "      <td>8</td>\n",
       "      <td>50</td>\n",
       "      <td>0</td>\n",
       "    </tr>\n",
       "    <tr>\n",
       "      <th>142334</th>\n",
       "      <td>1534</td>\n",
       "      <td>12</td>\n",
       "      <td>2371.711192</td>\n",
       "      <td>1.0</td>\n",
       "      <td>16.0</td>\n",
       "      <td>18065</td>\n",
       "      <td>free</td>\n",
       "      <td>8</td>\n",
       "      <td>50</td>\n",
       "      <td>0</td>\n",
       "    </tr>\n",
       "    <tr>\n",
       "      <th>142335</th>\n",
       "      <td>1534</td>\n",
       "      <td>12</td>\n",
       "      <td>2371.711192</td>\n",
       "      <td>1.0</td>\n",
       "      <td>16.0</td>\n",
       "      <td>18066</td>\n",
       "      <td>free</td>\n",
       "      <td>8</td>\n",
       "      <td>50</td>\n",
       "      <td>0</td>\n",
       "    </tr>\n",
       "    <tr>\n",
       "      <th>142336</th>\n",
       "      <td>1534</td>\n",
       "      <td>12</td>\n",
       "      <td>2371.711192</td>\n",
       "      <td>1.0</td>\n",
       "      <td>16.0</td>\n",
       "      <td>18067</td>\n",
       "      <td>free</td>\n",
       "      <td>8</td>\n",
       "      <td>50</td>\n",
       "      <td>0</td>\n",
       "    </tr>\n",
       "  </tbody>\n",
       "</table>\n",
       "<p>142337 rows × 10 columns</p>\n",
       "</div>"
      ],
      "text/plain": [
       "        user_id  month  sum_distance  quantity  sum_duration  index  \\\n",
       "0             1      1   7027.511294       2.0          42.0      0   \n",
       "1             1      1   7027.511294       2.0          42.0      1   \n",
       "2             1      1   7027.511294       2.0          42.0      2   \n",
       "3             1      1   7027.511294       2.0          42.0      3   \n",
       "4             1      1   7027.511294       2.0          42.0      4   \n",
       "...         ...    ...           ...       ...           ...    ...   \n",
       "142332     1534     12   2371.711192       1.0          16.0  18063   \n",
       "142333     1534     12   2371.711192       1.0          16.0  18064   \n",
       "142334     1534     12   2371.711192       1.0          16.0  18065   \n",
       "142335     1534     12   2371.711192       1.0          16.0  18066   \n",
       "142336     1534     12   2371.711192       1.0          16.0  18067   \n",
       "\n",
       "       subscription_type  minute_price  start_ride_price  subscription_fee  \n",
       "0                  ultra             6                 0               199  \n",
       "1                  ultra             6                 0               199  \n",
       "2                  ultra             6                 0               199  \n",
       "3                  ultra             6                 0               199  \n",
       "4                  ultra             6                 0               199  \n",
       "...                  ...           ...               ...               ...  \n",
       "142332              free             8                50                 0  \n",
       "142333              free             8                50                 0  \n",
       "142334              free             8                50                 0  \n",
       "142335              free             8                50                 0  \n",
       "142336              free             8                50                 0  \n",
       "\n",
       "[142337 rows x 10 columns]"
      ]
     },
     "execution_count": 54,
     "metadata": {},
     "output_type": "execute_result"
    }
   ],
   "source": [
    "# Добавление столбцов с параметрами для расчета выручки от каждого пользователя за месяц\n",
    "agg_data_merged = agg_data.merge(\n",
    "    df[['user_id', 'subscription_type', 'minute_price','start_ride_price', 'subscription_fee']].reset_index(),\n",
    "    on='user_id',\n",
    "    how='left')\n",
    "agg_data_merged"
   ]
  },
  {
   "cell_type": "code",
   "execution_count": 55,
   "id": "9c9169c7",
   "metadata": {},
   "outputs": [
    {
     "data": {
      "text/html": [
       "<div>\n",
       "<style scoped>\n",
       "    .dataframe tbody tr th:only-of-type {\n",
       "        vertical-align: middle;\n",
       "    }\n",
       "\n",
       "    .dataframe tbody tr th {\n",
       "        vertical-align: top;\n",
       "    }\n",
       "\n",
       "    .dataframe thead th {\n",
       "        text-align: right;\n",
       "    }\n",
       "</style>\n",
       "<table border=\"1\" class=\"dataframe\">\n",
       "  <thead>\n",
       "    <tr style=\"text-align: right;\">\n",
       "      <th></th>\n",
       "      <th>user_id</th>\n",
       "      <th>month</th>\n",
       "      <th>sum_distance</th>\n",
       "      <th>quantity</th>\n",
       "      <th>sum_duration</th>\n",
       "      <th>index</th>\n",
       "      <th>subscription_type</th>\n",
       "      <th>minute_price</th>\n",
       "      <th>start_ride_price</th>\n",
       "      <th>subscription_fee</th>\n",
       "    </tr>\n",
       "  </thead>\n",
       "  <tbody>\n",
       "    <tr>\n",
       "      <th>0</th>\n",
       "      <td>1</td>\n",
       "      <td>1</td>\n",
       "      <td>7027.511294</td>\n",
       "      <td>2.0</td>\n",
       "      <td>42.0</td>\n",
       "      <td>0</td>\n",
       "      <td>ultra</td>\n",
       "      <td>6</td>\n",
       "      <td>0</td>\n",
       "      <td>199</td>\n",
       "    </tr>\n",
       "    <tr>\n",
       "      <th>1</th>\n",
       "      <td>1</td>\n",
       "      <td>4</td>\n",
       "      <td>754.159807</td>\n",
       "      <td>1.0</td>\n",
       "      <td>7.0</td>\n",
       "      <td>0</td>\n",
       "      <td>ultra</td>\n",
       "      <td>6</td>\n",
       "      <td>0</td>\n",
       "      <td>199</td>\n",
       "    </tr>\n",
       "    <tr>\n",
       "      <th>2</th>\n",
       "      <td>1</td>\n",
       "      <td>8</td>\n",
       "      <td>6723.470560</td>\n",
       "      <td>2.0</td>\n",
       "      <td>46.0</td>\n",
       "      <td>0</td>\n",
       "      <td>ultra</td>\n",
       "      <td>6</td>\n",
       "      <td>0</td>\n",
       "      <td>199</td>\n",
       "    </tr>\n",
       "    <tr>\n",
       "      <th>3</th>\n",
       "      <td>1</td>\n",
       "      <td>10</td>\n",
       "      <td>5809.911100</td>\n",
       "      <td>2.0</td>\n",
       "      <td>32.0</td>\n",
       "      <td>0</td>\n",
       "      <td>ultra</td>\n",
       "      <td>6</td>\n",
       "      <td>0</td>\n",
       "      <td>199</td>\n",
       "    </tr>\n",
       "    <tr>\n",
       "      <th>4</th>\n",
       "      <td>1</td>\n",
       "      <td>11</td>\n",
       "      <td>7003.499363</td>\n",
       "      <td>3.0</td>\n",
       "      <td>56.0</td>\n",
       "      <td>0</td>\n",
       "      <td>ultra</td>\n",
       "      <td>6</td>\n",
       "      <td>0</td>\n",
       "      <td>199</td>\n",
       "    </tr>\n",
       "    <tr>\n",
       "      <th>...</th>\n",
       "      <td>...</td>\n",
       "      <td>...</td>\n",
       "      <td>...</td>\n",
       "      <td>...</td>\n",
       "      <td>...</td>\n",
       "      <td>...</td>\n",
       "      <td>...</td>\n",
       "      <td>...</td>\n",
       "      <td>...</td>\n",
       "      <td>...</td>\n",
       "    </tr>\n",
       "    <tr>\n",
       "      <th>11295</th>\n",
       "      <td>1534</td>\n",
       "      <td>6</td>\n",
       "      <td>3409.468534</td>\n",
       "      <td>2.0</td>\n",
       "      <td>26.0</td>\n",
       "      <td>18055</td>\n",
       "      <td>free</td>\n",
       "      <td>8</td>\n",
       "      <td>50</td>\n",
       "      <td>0</td>\n",
       "    </tr>\n",
       "    <tr>\n",
       "      <th>11296</th>\n",
       "      <td>1534</td>\n",
       "      <td>8</td>\n",
       "      <td>7622.453034</td>\n",
       "      <td>2.0</td>\n",
       "      <td>48.0</td>\n",
       "      <td>18055</td>\n",
       "      <td>free</td>\n",
       "      <td>8</td>\n",
       "      <td>50</td>\n",
       "      <td>0</td>\n",
       "    </tr>\n",
       "    <tr>\n",
       "      <th>11297</th>\n",
       "      <td>1534</td>\n",
       "      <td>9</td>\n",
       "      <td>4928.173852</td>\n",
       "      <td>1.0</td>\n",
       "      <td>23.0</td>\n",
       "      <td>18055</td>\n",
       "      <td>free</td>\n",
       "      <td>8</td>\n",
       "      <td>50</td>\n",
       "      <td>0</td>\n",
       "    </tr>\n",
       "    <tr>\n",
       "      <th>11298</th>\n",
       "      <td>1534</td>\n",
       "      <td>11</td>\n",
       "      <td>13350.015305</td>\n",
       "      <td>4.0</td>\n",
       "      <td>78.0</td>\n",
       "      <td>18055</td>\n",
       "      <td>free</td>\n",
       "      <td>8</td>\n",
       "      <td>50</td>\n",
       "      <td>0</td>\n",
       "    </tr>\n",
       "    <tr>\n",
       "      <th>11299</th>\n",
       "      <td>1534</td>\n",
       "      <td>12</td>\n",
       "      <td>2371.711192</td>\n",
       "      <td>1.0</td>\n",
       "      <td>16.0</td>\n",
       "      <td>18055</td>\n",
       "      <td>free</td>\n",
       "      <td>8</td>\n",
       "      <td>50</td>\n",
       "      <td>0</td>\n",
       "    </tr>\n",
       "  </tbody>\n",
       "</table>\n",
       "<p>11300 rows × 10 columns</p>\n",
       "</div>"
      ],
      "text/plain": [
       "       user_id  month  sum_distance  quantity  sum_duration  index  \\\n",
       "0            1      1   7027.511294       2.0          42.0      0   \n",
       "1            1      4    754.159807       1.0           7.0      0   \n",
       "2            1      8   6723.470560       2.0          46.0      0   \n",
       "3            1     10   5809.911100       2.0          32.0      0   \n",
       "4            1     11   7003.499363       3.0          56.0      0   \n",
       "...        ...    ...           ...       ...           ...    ...   \n",
       "11295     1534      6   3409.468534       2.0          26.0  18055   \n",
       "11296     1534      8   7622.453034       2.0          48.0  18055   \n",
       "11297     1534      9   4928.173852       1.0          23.0  18055   \n",
       "11298     1534     11  13350.015305       4.0          78.0  18055   \n",
       "11299     1534     12   2371.711192       1.0          16.0  18055   \n",
       "\n",
       "      subscription_type  minute_price  start_ride_price  subscription_fee  \n",
       "0                 ultra             6                 0               199  \n",
       "1                 ultra             6                 0               199  \n",
       "2                 ultra             6                 0               199  \n",
       "3                 ultra             6                 0               199  \n",
       "4                 ultra             6                 0               199  \n",
       "...                 ...           ...               ...               ...  \n",
       "11295              free             8                50                 0  \n",
       "11296              free             8                50                 0  \n",
       "11297              free             8                50                 0  \n",
       "11298              free             8                50                 0  \n",
       "11299              free             8                50                 0  \n",
       "\n",
       "[11300 rows x 10 columns]"
      ]
     },
     "execution_count": 55,
     "metadata": {},
     "output_type": "execute_result"
    }
   ],
   "source": [
    "agg_data_merged = agg_data_merged.drop_duplicates(subset=['user_id', 'month']).reset_index(drop='True')\n",
    "agg_data_merged"
   ]
  },
  {
   "cell_type": "code",
   "execution_count": 56,
   "id": "2864312d",
   "metadata": {},
   "outputs": [
    {
     "data": {
      "text/html": [
       "<div>\n",
       "<style scoped>\n",
       "    .dataframe tbody tr th:only-of-type {\n",
       "        vertical-align: middle;\n",
       "    }\n",
       "\n",
       "    .dataframe tbody tr th {\n",
       "        vertical-align: top;\n",
       "    }\n",
       "\n",
       "    .dataframe thead th {\n",
       "        text-align: right;\n",
       "    }\n",
       "</style>\n",
       "<table border=\"1\" class=\"dataframe\">\n",
       "  <thead>\n",
       "    <tr style=\"text-align: right;\">\n",
       "      <th></th>\n",
       "      <th>user_id</th>\n",
       "      <th>month</th>\n",
       "      <th>sum_distance</th>\n",
       "      <th>quantity</th>\n",
       "      <th>sum_duration</th>\n",
       "      <th>index</th>\n",
       "      <th>subscription_type</th>\n",
       "      <th>minute_price</th>\n",
       "      <th>start_ride_price</th>\n",
       "      <th>subscription_fee</th>\n",
       "      <th>revenue</th>\n",
       "    </tr>\n",
       "  </thead>\n",
       "  <tbody>\n",
       "    <tr>\n",
       "      <th>0</th>\n",
       "      <td>1</td>\n",
       "      <td>1</td>\n",
       "      <td>7027.511294</td>\n",
       "      <td>2.0</td>\n",
       "      <td>42.0</td>\n",
       "      <td>0</td>\n",
       "      <td>ultra</td>\n",
       "      <td>6</td>\n",
       "      <td>0</td>\n",
       "      <td>199</td>\n",
       "      <td>451.0</td>\n",
       "    </tr>\n",
       "    <tr>\n",
       "      <th>1</th>\n",
       "      <td>1</td>\n",
       "      <td>4</td>\n",
       "      <td>754.159807</td>\n",
       "      <td>1.0</td>\n",
       "      <td>7.0</td>\n",
       "      <td>0</td>\n",
       "      <td>ultra</td>\n",
       "      <td>6</td>\n",
       "      <td>0</td>\n",
       "      <td>199</td>\n",
       "      <td>241.0</td>\n",
       "    </tr>\n",
       "    <tr>\n",
       "      <th>2</th>\n",
       "      <td>1</td>\n",
       "      <td>8</td>\n",
       "      <td>6723.470560</td>\n",
       "      <td>2.0</td>\n",
       "      <td>46.0</td>\n",
       "      <td>0</td>\n",
       "      <td>ultra</td>\n",
       "      <td>6</td>\n",
       "      <td>0</td>\n",
       "      <td>199</td>\n",
       "      <td>475.0</td>\n",
       "    </tr>\n",
       "    <tr>\n",
       "      <th>3</th>\n",
       "      <td>1</td>\n",
       "      <td>10</td>\n",
       "      <td>5809.911100</td>\n",
       "      <td>2.0</td>\n",
       "      <td>32.0</td>\n",
       "      <td>0</td>\n",
       "      <td>ultra</td>\n",
       "      <td>6</td>\n",
       "      <td>0</td>\n",
       "      <td>199</td>\n",
       "      <td>391.0</td>\n",
       "    </tr>\n",
       "    <tr>\n",
       "      <th>4</th>\n",
       "      <td>1</td>\n",
       "      <td>11</td>\n",
       "      <td>7003.499363</td>\n",
       "      <td>3.0</td>\n",
       "      <td>56.0</td>\n",
       "      <td>0</td>\n",
       "      <td>ultra</td>\n",
       "      <td>6</td>\n",
       "      <td>0</td>\n",
       "      <td>199</td>\n",
       "      <td>535.0</td>\n",
       "    </tr>\n",
       "    <tr>\n",
       "      <th>...</th>\n",
       "      <td>...</td>\n",
       "      <td>...</td>\n",
       "      <td>...</td>\n",
       "      <td>...</td>\n",
       "      <td>...</td>\n",
       "      <td>...</td>\n",
       "      <td>...</td>\n",
       "      <td>...</td>\n",
       "      <td>...</td>\n",
       "      <td>...</td>\n",
       "      <td>...</td>\n",
       "    </tr>\n",
       "    <tr>\n",
       "      <th>11295</th>\n",
       "      <td>1534</td>\n",
       "      <td>6</td>\n",
       "      <td>3409.468534</td>\n",
       "      <td>2.0</td>\n",
       "      <td>26.0</td>\n",
       "      <td>18055</td>\n",
       "      <td>free</td>\n",
       "      <td>8</td>\n",
       "      <td>50</td>\n",
       "      <td>0</td>\n",
       "      <td>308.0</td>\n",
       "    </tr>\n",
       "    <tr>\n",
       "      <th>11296</th>\n",
       "      <td>1534</td>\n",
       "      <td>8</td>\n",
       "      <td>7622.453034</td>\n",
       "      <td>2.0</td>\n",
       "      <td>48.0</td>\n",
       "      <td>18055</td>\n",
       "      <td>free</td>\n",
       "      <td>8</td>\n",
       "      <td>50</td>\n",
       "      <td>0</td>\n",
       "      <td>484.0</td>\n",
       "    </tr>\n",
       "    <tr>\n",
       "      <th>11297</th>\n",
       "      <td>1534</td>\n",
       "      <td>9</td>\n",
       "      <td>4928.173852</td>\n",
       "      <td>1.0</td>\n",
       "      <td>23.0</td>\n",
       "      <td>18055</td>\n",
       "      <td>free</td>\n",
       "      <td>8</td>\n",
       "      <td>50</td>\n",
       "      <td>0</td>\n",
       "      <td>234.0</td>\n",
       "    </tr>\n",
       "    <tr>\n",
       "      <th>11298</th>\n",
       "      <td>1534</td>\n",
       "      <td>11</td>\n",
       "      <td>13350.015305</td>\n",
       "      <td>4.0</td>\n",
       "      <td>78.0</td>\n",
       "      <td>18055</td>\n",
       "      <td>free</td>\n",
       "      <td>8</td>\n",
       "      <td>50</td>\n",
       "      <td>0</td>\n",
       "      <td>824.0</td>\n",
       "    </tr>\n",
       "    <tr>\n",
       "      <th>11299</th>\n",
       "      <td>1534</td>\n",
       "      <td>12</td>\n",
       "      <td>2371.711192</td>\n",
       "      <td>1.0</td>\n",
       "      <td>16.0</td>\n",
       "      <td>18055</td>\n",
       "      <td>free</td>\n",
       "      <td>8</td>\n",
       "      <td>50</td>\n",
       "      <td>0</td>\n",
       "      <td>178.0</td>\n",
       "    </tr>\n",
       "  </tbody>\n",
       "</table>\n",
       "<p>11300 rows × 11 columns</p>\n",
       "</div>"
      ],
      "text/plain": [
       "       user_id  month  sum_distance  quantity  sum_duration  index  \\\n",
       "0            1      1   7027.511294       2.0          42.0      0   \n",
       "1            1      4    754.159807       1.0           7.0      0   \n",
       "2            1      8   6723.470560       2.0          46.0      0   \n",
       "3            1     10   5809.911100       2.0          32.0      0   \n",
       "4            1     11   7003.499363       3.0          56.0      0   \n",
       "...        ...    ...           ...       ...           ...    ...   \n",
       "11295     1534      6   3409.468534       2.0          26.0  18055   \n",
       "11296     1534      8   7622.453034       2.0          48.0  18055   \n",
       "11297     1534      9   4928.173852       1.0          23.0  18055   \n",
       "11298     1534     11  13350.015305       4.0          78.0  18055   \n",
       "11299     1534     12   2371.711192       1.0          16.0  18055   \n",
       "\n",
       "      subscription_type  minute_price  start_ride_price  subscription_fee  \\\n",
       "0                 ultra             6                 0               199   \n",
       "1                 ultra             6                 0               199   \n",
       "2                 ultra             6                 0               199   \n",
       "3                 ultra             6                 0               199   \n",
       "4                 ultra             6                 0               199   \n",
       "...                 ...           ...               ...               ...   \n",
       "11295              free             8                50                 0   \n",
       "11296              free             8                50                 0   \n",
       "11297              free             8                50                 0   \n",
       "11298              free             8                50                 0   \n",
       "11299              free             8                50                 0   \n",
       "\n",
       "       revenue  \n",
       "0        451.0  \n",
       "1        241.0  \n",
       "2        475.0  \n",
       "3        391.0  \n",
       "4        535.0  \n",
       "...        ...  \n",
       "11295    308.0  \n",
       "11296    484.0  \n",
       "11297    234.0  \n",
       "11298    824.0  \n",
       "11299    178.0  \n",
       "\n",
       "[11300 rows x 11 columns]"
      ]
     },
     "execution_count": 56,
     "metadata": {},
     "output_type": "execute_result"
    }
   ],
   "source": [
    "# Вычислим выручку за месяц от каждого пользователя\n",
    "agg_data_merged['revenue'] = (\n",
    "    agg_data_merged['start_ride_price']\n",
    "    * agg_data_merged['quantity']\n",
    "    + agg_data_merged['minute_price']\n",
    "    * agg_data_merged['sum_duration']\n",
    "    + agg_data_merged['subscription_fee']\n",
    ")\n",
    "agg_data_merged"
   ]
  },
  {
   "cell_type": "markdown",
   "id": "29ce4e3b",
   "metadata": {},
   "source": [
    "Создана сводная таблица с данными по каждому пользователю. Также рассчитана выручка за месяц от каждого пользователя в столбце revenue."
   ]
  },
  {
   "cell_type": "markdown",
   "id": "8763d9b1",
   "metadata": {},
   "source": [
    "### Шаг 6. Проверка гипотез\n",
    "<a id='hypothesis'></a>"
   ]
  },
  {
   "cell_type": "markdown",
   "id": "ec692eda",
   "metadata": {},
   "source": [
    "#### Тратят ли пользователи с подпиской больше времени на поездки?"
   ]
  },
  {
   "cell_type": "markdown",
   "id": "72dd9567",
   "metadata": {},
   "source": [
    "Нулевая гипотеза: пользователи с подпиской тратят на поездки столько же времени, как и пользователи без подписки.   \n",
    "Альтернативная гипотеза: пользователи с платной подпиской тратят больше времени на поездки, чем пользователи без нее."
   ]
  },
  {
   "cell_type": "code",
   "execution_count": 72,
   "id": "baac103d",
   "metadata": {},
   "outputs": [
    {
     "name": "stdout",
     "output_type": "stream",
     "text": [
      "Отвергаем нулевую гипотезу.\n",
      "Среднее значение первой генеральной совокупности больше среднего значения второй генеральной совокупности.\n",
      "Пользователи с платной подпиской тратят больше времени на поездки, чем пользователи без нее. Шанс ошибочно отвергнуть нулевую гипотезу равен 5.675781377128977e-35%.\n"
     ]
    }
   ],
   "source": [
    "# Проверим нулевую гипотезу.\n",
    "alpha = 0.05 # уровень статистической значимости\n",
    "# если p-value окажется меньше него, отвергнем гипотезу\n",
    "\n",
    "results = st.ttest_ind(df_ultra['duration'],\n",
    "                       df_free['duration'],\n",
    "                       alternative='greater',\n",
    "                       equal_var=False)\n",
    "\n",
    "\n",
    "if results.pvalue < alpha:\n",
    "    print(f'Отвергаем нулевую гипотезу.\\nСреднее значение первой генеральной совокупности больше среднего значения второй генеральной совокупности.\\nПользователи с платной подпиской тратят больше времени на поездки, чем пользователи без нее. Шанс ошибочно отвергнуть нулевую гипотезу равен {results.pvalue * 100}%.')\n",
    "else:\n",
    "    print(f'Не отвергаем нулевую гипотезу. \\n Пользователи с подпиской тратят столько же времени, сколько и пользователи без подписки.') "
   ]
  },
  {
   "cell_type": "markdown",
   "id": "65cf880f",
   "metadata": {},
   "source": [
    "Так как пользователи с платной подпиской в среднем тратят больше времени на поездки, они могут быть выгоднее для компании."
   ]
  },
  {
   "cell_type": "markdown",
   "id": "c2ec21fe",
   "metadata": {},
   "source": [
    "#### Можно ли сказать, что среднее расстояние, которое проезжают пользователи с подпиской за одну поездку, не превышает оптимальное с точки зрения износа самоката? "
   ]
  },
  {
   "cell_type": "markdown",
   "id": "ef3a1125",
   "metadata": {},
   "source": [
    "Нулевая гипотеза: среднее рассстояние, которое проезжают пользователи с подпиской за одну поездку, равно 3130 метров.    \n",
    "Альтернативная гипотеза: среднее расстояние, которое проезжают пользователи с подпиской за одну поездку, больше 3130 метров."
   ]
  },
  {
   "cell_type": "code",
   "execution_count": 58,
   "id": "77309b73",
   "metadata": {},
   "outputs": [
    {
     "name": "stdout",
     "output_type": "stream",
     "text": [
      "Не отвергаем нулевую гипотезу. Среднее расстояние пользователей с платной подпиской равно 3130 метров.\n"
     ]
    }
   ],
   "source": [
    "# Проверим нулевую гипотезу.\n",
    "\n",
    "alpha = 0.05 # уровень статистической значимости\n",
    "# если p-value окажется меньше него, отвергнем гипотезу\n",
    "\n",
    "optimal_distance = 3130 # оптимальное расстояние с точки зрения износа самоката\n",
    "\n",
    "results = st.ttest_1samp(df_ultra['distance'],\n",
    "                                  optimal_distance,\n",
    "                                alternative='greater')\n",
    "\n",
    "if results.pvalue < alpha:\n",
    "    print('Отвергаем нулевую гипотезу:  среднее расстояние, которое проезжают пользователи с подпиской за одну поездку, больше 3130 метров. Шанс ошибочно отвергнуть нулевую гипотезу равен {round(results.pvalue, 2)}.')\n",
    "else:\n",
    "    print(f'Не отвергаем нулевую гипотезу. Среднее расстояние пользователей с платной подпиской равно 3130 метров.')"
   ]
  },
  {
   "cell_type": "markdown",
   "id": "84f98325",
   "metadata": {},
   "source": [
    "В результате проверки гипотезы о равенстве среднего расстояния, которое проезжают пользователи с платной подпиской, выявлено, гипотеза не отвергнута. Получается, что пользователи с подпиской проезжают в среднем 3130 метров, что оптимально с точки зрения износа самокатов. Это также подтверждает \"выгодность\" пользователей с подпиской для компании."
   ]
  },
  {
   "cell_type": "markdown",
   "id": "2c35f472",
   "metadata": {},
   "source": [
    "#### Будет ли помесячная выручка от пользователей с подпиской по месяцам выше, чем выручка от пользователей без подписки? "
   ]
  },
  {
   "cell_type": "markdown",
   "id": "231e46be",
   "metadata": {},
   "source": [
    "Нулевая гипотеза: выручка по месяцам от пользователей с подпиской равна выручке от пользователей без подписки.    \n",
    "Альтернативная гипотеза: Выручка за месяц от пользователей с подпиской выше, чем выручка от пользователей без подписки."
   ]
  },
  {
   "cell_type": "code",
   "execution_count": 71,
   "id": "2a022f56",
   "metadata": {},
   "outputs": [
    {
     "name": "stdout",
     "output_type": "stream",
     "text": [
      "Отвергаем нулевую гипотезу. Выручка за месяц от пользователей с подпиской выше, чем выручка от пользователей без подписки. Шанс ошибочно отвергнуть нулевую гипотезу равен  2.4970242872858464e-36%.\n"
     ]
    }
   ],
   "source": [
    "# Проверим нулевую гипотезу.\n",
    "\n",
    "alpha = 0.05 # уровень статистической значимости\n",
    "# если p-value окажется меньше него, отвергнем гипотезу\n",
    "\n",
    "free_subscr = agg_data_merged.query('subscription_type == [\"free\"]')['revenue']\n",
    "ulra_subscr = agg_data_merged.query('subscription_type == [\"ultra\"]')['revenue']\n",
    "\n",
    "results = st.ttest_ind(ulra_subscr,\n",
    "                       free_subscr,\n",
    "                       alternative='greater',\n",
    "                       equal_var=False)\n",
    "\n",
    "if results.pvalue < alpha:\n",
    "    print(f'Отвергаем нулевую гипотезу. Выручка за месяц от пользователей с подпиской выше, чем выручка от пользователей без подписки. Шанс ошибочно отвергнуть нулевую гипотезу равен  {results.pvalue * 100}%.')\n",
    "else:\n",
    "    print(f'Не отвергаем нулевую гипотезу. \\nВыручка за месяц от пользователей с подпиской такая же, как от пользователей без подписки.')\n",
    "\n"
   ]
  },
  {
   "cell_type": "markdown",
   "id": "08b098e3",
   "metadata": {},
   "source": [
    "Отвергаем нулевую гипотезу. Выручка за месяц от пользователей с подпиской выше, чем выручка от пользователей без подписки даже при том, что их меньше.\n",
    "Выгодно будет увеличить количество пользователей с подпиской. "
   ]
  },
  {
   "cell_type": "markdown",
   "id": "e87db98e",
   "metadata": {},
   "source": [
    "#### Представьте такую ситуацию: техническая команда сервиса обновила сервера, с которыми взаимодействует мобильное приложение. Она надеется, что из-за этого количество обращений в техподдержку значимо снизилось. Некоторый файл содержит для каждого пользователя данные о количестве обращений до обновления и после него. Какой тест вам понадобился бы для проверки этой гипотезы?"
   ]
  },
  {
   "cell_type": "markdown",
   "id": "58c30f2d",
   "metadata": {},
   "source": [
    "**scipy.stats.ttest_rel**: Проверяется гипотеза о равенстве среднего значения генеральной совокупности до и после изменения. Выборки будут парными, так как одна и та же выборка измерялась дважды: до изменения и после."
   ]
  },
  {
   "cell_type": "markdown",
   "id": "7c6eb8f9",
   "metadata": {},
   "source": [
    "- Пользователи с платной подпиской в среднем тратят больше времени на поездки, они могут быть выгоднее для компании, если, например, увеличить стоимость минуты поездки.\n",
    "- В результате проверки гипотезы о равенстве среднего расстояния, которое проезжают пользователи с платной подпиской, выявлено, гипотеза не отвергнута. Получается, что пользователи с подпиской проезжают в среднем 3130 метров, что оптимально с точки зрения износа самокатов. Если бы они проезжали больше, компании пришлось бы закладывать больше средств на амортизацию.\n",
    "- Выручка за месяц от пользователей с подпиской выше, чем выручка от пользователей без подписки даже при том, что их меньше на 10%. Значит, выгодно увеличивать долю пользователей с платной подпиской."
   ]
  },
  {
   "cell_type": "markdown",
   "id": "195ef686",
   "metadata": {},
   "source": [
    "### Шаг 7. Распределения\n",
    "<a id='distribution'></a>"
   ]
  },
  {
   "cell_type": "markdown",
   "id": "fc9be323",
   "metadata": {},
   "source": [
    "#### Акция с промокодами"
   ]
  },
  {
   "cell_type": "markdown",
   "id": "6f3d36b2",
   "metadata": {},
   "source": [
    "Отделу маркетинга GoFast поставили задачу: нужно провести акцию с раздачей промокодов на один бесплатный месяц подписки, в рамках которой как минимум 100 существующих клиентов должны продлить эту подписку. То есть по завершении периода действия подписки пользователь может либо отказаться от неё, либо продлить, совершив соответствующий платёж. \n",
    "\n",
    "Эта акция уже проводилась ранее и по итогу выяснилось, что после бесплатного пробного периода подписку продлевают 10 % пользователей. Необходимо выяснить, какое минимальное количество промокодов нужно разослать, чтобы вероятность не выполнить план была примерно 5 %."
   ]
  },
  {
   "cell_type": "markdown",
   "id": "a7d839ca",
   "metadata": {},
   "source": [
    "Сначала посмотрим на результаты акции для уже существующих пользователей без платной подписки"
   ]
  },
  {
   "cell_type": "code",
   "execution_count": 60,
   "id": "e8c5b38f",
   "metadata": {},
   "outputs": [],
   "source": [
    "# Зададим параметры биномиального распределения (есть два исхода (продление/непродление) у множества независимых испытаний)\n",
    "p_prolong = 0.1 # Вероятность успеха - вероятность продления подписки\n",
    "minimum = 100 # Значение-граница - минимальное количество успехов\n",
    "client_number = len(agg_data_merged.query('subscription_type == \"free\"'))"
   ]
  },
  {
   "cell_type": "markdown",
   "id": "b8958bc8",
   "metadata": {},
   "source": [
    "Проверим, можно ли аппроксимировать биномиальное распределение нормальным для дальнейших расчетов."
   ]
  },
  {
   "cell_type": "code",
   "execution_count": 61,
   "id": "7c8eb612",
   "metadata": {},
   "outputs": [
    {
     "name": "stdout",
     "output_type": "stream",
     "text": [
      "Аппроксимацию биномиального распределения нормальным можно использовать.\n"
     ]
    }
   ],
   "source": [
    "# Проверим условие аппроксимации биномиального распределения нормальным\n",
    "upper_bound = p_prolong * client_number + 3 * sqrt(p_prolong * client_number * (1 - p_prolong))\n",
    "lower_bound = p_prolong * client_number - 3 * sqrt(p_prolong * client_number * (1 - p_prolong))\n",
    "\n",
    "if (0 <= lower_bound <= client_number) and (0 <= upper_bound <= client_number):\n",
    "    print('Аппроксимацию биномиального распределения нормальным можно использовать.')\n",
    "else:\n",
    "    print('Аппроксимация нормальным распределением не подходит.')"
   ]
  },
  {
   "cell_type": "code",
   "execution_count": 62,
   "id": "961ed5a3",
   "metadata": {},
   "outputs": [
    {
     "name": "stdout",
     "output_type": "stream",
     "text": [
      "При рассылке промокодов всем существующим клиентам без платной подписки можно получить минимум 100 продлений\n",
      "подписки можно с вероятностью 100.0%.\n"
     ]
    }
   ],
   "source": [
    "# Зададим параметры нормального распределения\n",
    "mu = client_number * p_prolong\n",
    "sigma = sqrt(p_prolong * client_number * (1 - p_prolong))\n",
    "distr_norm = st.norm(mu, sigma)\n",
    "# считаем вероятность получить значение, больше минимума (100 продлений)\n",
    "probability = 1 - distr_norm.cdf(minimum - 1)\n",
    "print(f'При рассылке промокодов всем существующим клиентам без платной подписки можно получить минимум 100 продлений\\nподписки можно с вероятностью {round(probability * 100, 2)}%.')\n"
   ]
  },
  {
   "cell_type": "markdown",
   "id": "d9fa58f9",
   "metadata": {},
   "source": [
    "Найдем минимальное количество промокодов для того, чтобы вероятность не получить 100 подписок была примерно 5%."
   ]
  },
  {
   "cell_type": "code",
   "execution_count": 63,
   "id": "22a29736",
   "metadata": {
    "scrolled": false
   },
   "outputs": [
    {
     "name": "stdout",
     "output_type": "stream",
     "text": [
      "Минимальное количество промокодов, чтобы вероятность не выполнить план была примерно 5%: 1158\n"
     ]
    }
   ],
   "source": [
    "# Задаем параметры\n",
    "p_prolong = 0.1  # Вероятность продления подписки\n",
    "minimum = 100  # Минимальное количество продлений подписки\n",
    "confidence_level = 0.95  # Уровень доверия (95%)\n",
    "\n",
    "# Подбор параметра client_number_success\n",
    "client_number_success = 0\n",
    "probability = 0\n",
    "\n",
    "# Итеративно находим минимальное количество промокодов, чтобы вероятность не выполнить план была примерно 5%\n",
    "while probability < confidence_level:\n",
    "    client_number_success += 1\n",
    "    mu = client_number_success * p_prolong\n",
    "    sigma = sqrt(client_number_success * p_prolong * (1 - p_prolong))\n",
    "    distr_norm = st.norm(mu, sigma)\n",
    "    probability = 1 - distr_norm.cdf(minimum - 1)\n",
    "\n",
    "print(f'Минимальное количество промокодов, чтобы вероятность не выполнить план была примерно 5%: {client_number_success}')"
   ]
  },
  {
   "cell_type": "code",
   "execution_count": 64,
   "id": "4e7b0780",
   "metadata": {},
   "outputs": [
    {
     "data": {
      "image/png": "[encoded data removed]",
      "text/plain": [
       "<Figure size 1000x600 with 1 Axes>"
      ]
     },
     "metadata": {},
     "output_type": "display_data"
    }
   ],
   "source": [
    "# Построим график биномиального распределения\n",
    "warnings.filterwarnings(\"ignore\", category=RuntimeWarning)\n",
    "x = np.arange(0, client_number_success + 1)\n",
    "binom_distr = st.binom(client_number_success, p_prolong)\n",
    "pmf = binom_distr.pmf(x)\n",
    "\n",
    "plt.figure(figsize=(10, 6))\n",
    "plt.bar(x, pmf, color='blue', alpha=0.7)\n",
    "plt.title('Распределение продлений подписки после использования промокода')\n",
    "plt.xlabel('Количество продлений подписки')\n",
    "plt.ylabel('Плотность вероятности')\n",
    "plt.xlim(0, 300)\n",
    "plt.axvline(minimum, color='red', linestyle='--', label=f'Минимум {minimum}')\n",
    "plt.legend()\n",
    "plt.show()"
   ]
  },
  {
   "cell_type": "markdown",
   "id": "5deb1a6a",
   "metadata": {},
   "source": [
    "Минимальное количество промокодов, чтобы вероятность не выполнить план была примерно 5%: 1158."
   ]
  },
  {
   "cell_type": "markdown",
   "id": "1d490400",
   "metadata": {},
   "source": [
    "#### Push-уведомления в мобильном приложении"
   ]
  },
  {
   "cell_type": "markdown",
   "id": "eeb34413",
   "metadata": {},
   "source": [
    "Отдел маркетинга рассылает клиентам push-уведомления в мобильном приложении. Клиенты могут открыть его или не открывать. Известно, что уведомления открывают около 40 % получивших клиентов. Отдел планирует разослать 1 млн уведомлений. С помощью аппроксимации необходимо построить примерный график распределения и оценить вероятность того, что уведомление откроют не более 399,5 тыс. пользователей."
   ]
  },
  {
   "cell_type": "code",
   "execution_count": 65,
   "id": "a9dd02ed",
   "metadata": {},
   "outputs": [],
   "source": [
    "# Задаём параметры биномиального распределения\n",
    "n = 10**6\n",
    "p = 0.4\n",
    "maximum = 399500\n",
    "\n",
    "# Зададим мат.ожидание и ст.отклонение нормального распределения равными\n",
    "# мат.ожиданию и ст.отклонению биномиального распределения\n",
    "mu = n * p\n",
    "sigma = sqrt(n * p * (1 - p))\n",
    "\n",
    "# Задаём нормальное распределение\n",
    "distr_norm_push = st.norm(mu, sigma) "
   ]
  },
  {
   "cell_type": "code",
   "execution_count": 66,
   "id": "0f436cda",
   "metadata": {},
   "outputs": [
    {
     "data": {
      "image/png": "[encoded data removed]",
      "text/plain": [
       "<Figure size 1000x600 with 1 Axes>"
      ]
     },
     "metadata": {},
     "output_type": "display_data"
    }
   ],
   "source": [
    "# Создание данных для нормального распределения\n",
    "x = np.linspace(mu - 3*sigma, mu + 3*sigma, 1000)\n",
    "y = st.norm.pdf(x, mu, sigma)\n",
    "\n",
    "# Построение графика\n",
    "plt.figure(figsize=(10, 6))\n",
    "plt.plot(x, y, label='Нормальное распределение', color='blue')\n",
    "plt.fill_between(x, y, color='skyblue', alpha=0.4)\n",
    "plt.title('Распределение кликов на уведомление')\n",
    "plt.xlabel('Количество кликов на уведомление')\n",
    "plt.ylabel('Плотность вероятности')\n",
    "plt.axvline(maximum, color='red', linestyle='--', label=f'Максимум {maximum}')\n",
    "plt.legend()\n",
    "plt.grid(True)\n",
    "plt.show()"
   ]
  },
  {
   "cell_type": "code",
   "execution_count": 67,
   "id": "2afaa011",
   "metadata": {},
   "outputs": [
    {
     "name": "stdout",
     "output_type": "stream",
     "text": [
      "Вероятность, что уведомление откроют не более 399,5 тыс. пользователей, равна примерно 15.0%\n"
     ]
    }
   ],
   "source": [
    "# Считаем вероятность хвоста слева от 399.5 тысяч\n",
    "probability_open = distr_norm_push.cdf(maximum)\n",
    "print(f'Вероятность, что уведомление откроют не более 399,5 тыс. пользователей, равна примерно {round(probability_open, 2)* 100}%')"
   ]
  },
  {
   "cell_type": "markdown",
   "id": "0bb63518",
   "metadata": {},
   "source": [
    "### Общий вывод\n",
    "<a id='conclusion'></a>"
   ]
  },
  {
   "cell_type": "markdown",
   "id": "fbb3ed40",
   "metadata": {},
   "source": [
    "В результате выполнения проекта данные о пользователях, поездках пользователей и о подписках сохранены в 3 датафреймах соответственно: users, rides, subscriptions.\n",
    "\n",
    "Проведена предобработка данных: проверено и подтверждено отсутствие пропусков данных, найдены и устранены полные дубликаты строк.\n",
    "\n",
    "При первичном анализе данных установлено:\n",
    "\n",
    "- Чаще всего сервисом пользуются в Пятигорске, реже - в Москве.\n",
    "- Пользователей с подпиской Ultra примерно на 10% меньше, чем пользователей без подписки. Достаточно высокий показатель для платных подписок.\n",
    "- Среднему пользователю сервиса аренды самокатов 25 лет, самым молодым пользователям - 12 лет, самым взрослым - 43 года.\n",
    "- Видно, что пользователи берут самокаты для разных целей. Есть очень короткие поездки (менее метра - похоже на ошибку или случайную активацию поездки), есть очень длинные (7211 м). В среднем, пользователь проезжает 3059.86 метров(для бимодального распределения вообще лучше разделить данные на две группы до 1500 м и более 1500).\n",
    "- Очень короткие поездки также похожи на ошибку - менее минуты. Скорее всего, произошла ошибка учета времени. Такие данные удалены(95 строк). Средняя продолжительность поездки: 17.71, минимальная: 2.03, максимальная - 40.82 минуты.\n",
    "\n",
    "Данные из 3 источников объеденены в один датафрейм df. Проанализированы показатели длительности поездки и дистации поездки отдельно для пользователей с платным и бесплатным тарифами:\n",
    "- У пользователей с бесплатным тарифом есть почти нулевые по длительности поездки - возможно, связанные с ошибкой, случайным заказом и т.д. \n",
    "- Средняя длительность поездки больше у пользователей с подпиской \"Ultra\" - 18.18 минут.\n",
    "\n",
    "Создана сводная таблица с данными по каждому пользователю agg_data_merged. Также рассчитана выручка за месяц от каждого пользователя в столбце revenue. Это позволило перейти к проверке гипотиз.\n",
    "\n",
    "Проверены 3 гипотезы:\n",
    "- Пользователи с платной подпиской в среднем тратят больше времени на поездки, они могут быть выгоднее для компании, если, например, увеличить стоимость минуты поездки.\n",
    "- В результате проверки гипотезы о равенстве среднего расстояния, которое проезжают пользователи с платной подпиской, выявлено, гипотеза не отвергнута. Получается, что пользователи с подпиской проезжают в среднем 3130 метров, что оптимально с точки зрения износа самокатов. Если бы они проезжали больше, компании пришлось бы закладывать больше средств на амортизацию.\n",
    "- Выручка за месяц от пользователей с подпиской выше, чем выручка от пользователей без подписки даже при том, что их меньше на 10%. Значит, выгодно увеличивать долю пользователей с платной подпиской.\n",
    "\n",
    "Пользователи с платной подпиской, в целом, должны быть выгоднее, чем пользователи без подписки.\n",
    "\n",
    "Для проверки гипотезы о снижении количества обращений в техподдержкудо обновления и после обновления сервиса необходимо использовать метод scipy.stats.ttest_rel: проверяется гипотеза о равенстве среднего значения генеральной совокупности до и после изменения. Выборки будут парными, так как одна и та же выборка измерялась дважды: до изменения и после.\n",
    "\n",
    "Найдено минимальное количество промокодов на месяц подписки бесплатно, которые нужно разослать для выполнения плана: не менее 100 новых пользователей должны продлить подписку после окончания действия промокода. Минимальное количество промокодов, чтобы вероятность не выполнить план была примерно 5%: 1158.\n",
    "\n",
    "При рассылке 1 млн. push-уведомлений, вероятность, что уведомление откроет не более 399.5 тысяч пользователей, равна 15%."
   ]
  }
 ],
 "metadata": {
  "ExecuteTimeLog": [
   {
    "duration": 54,
    "start_time": "2024-07-31T09:28:57.186Z"
   },
   {
    "duration": 420,
    "start_time": "2024-07-31T09:29:00.772Z"
   },
   {
    "duration": 118,
    "start_time": "2024-07-31T09:29:02.276Z"
   },
   {
    "duration": 321,
    "start_time": "2024-07-31T09:29:56.451Z"
   },
   {
    "duration": 16,
    "start_time": "2024-07-31T09:30:58.693Z"
   },
   {
    "duration": 11,
    "start_time": "2024-07-31T09:31:18.985Z"
   },
   {
    "duration": 8,
    "start_time": "2024-07-31T09:31:47.183Z"
   },
   {
    "duration": 12,
    "start_time": "2024-07-31T09:31:59.554Z"
   },
   {
    "duration": 7,
    "start_time": "2024-07-31T09:32:16.695Z"
   },
   {
    "duration": 35,
    "start_time": "2024-07-31T09:32:25.350Z"
   },
   {
    "duration": 7,
    "start_time": "2024-07-31T09:32:29.948Z"
   },
   {
    "duration": 6,
    "start_time": "2024-07-31T09:32:42.415Z"
   },
   {
    "duration": 7,
    "start_time": "2024-07-31T09:32:49.692Z"
   },
   {
    "duration": 10,
    "start_time": "2024-07-31T09:32:55.247Z"
   },
   {
    "duration": 2,
    "start_time": "2024-07-31T09:36:18.016Z"
   },
   {
    "duration": 10,
    "start_time": "2024-07-31T09:38:28.559Z"
   },
   {
    "duration": 9,
    "start_time": "2024-07-31T09:40:02.305Z"
   },
   {
    "duration": 2,
    "start_time": "2024-07-31T09:40:33.000Z"
   },
   {
    "duration": 53,
    "start_time": "2024-07-31T09:40:36.677Z"
   },
   {
    "duration": 5,
    "start_time": "2024-07-31T09:42:50.787Z"
   },
   {
    "duration": 8,
    "start_time": "2024-07-31T09:43:03.099Z"
   },
   {
    "duration": 9,
    "start_time": "2024-07-31T09:43:10.801Z"
   },
   {
    "duration": 11,
    "start_time": "2024-07-31T09:43:18.767Z"
   },
   {
    "duration": 4,
    "start_time": "2024-07-31T09:43:25.347Z"
   },
   {
    "duration": 7,
    "start_time": "2024-07-31T10:03:26.031Z"
   },
   {
    "duration": 6,
    "start_time": "2024-07-31T10:03:50.588Z"
   },
   {
    "duration": 6,
    "start_time": "2024-07-31T10:04:01.558Z"
   },
   {
    "duration": 6,
    "start_time": "2024-07-31T10:04:11.297Z"
   },
   {
    "duration": 3,
    "start_time": "2024-07-31T10:04:41.091Z"
   },
   {
    "duration": 8,
    "start_time": "2024-07-31T10:04:53.679Z"
   },
   {
    "duration": 8,
    "start_time": "2024-07-31T10:04:57.325Z"
   },
   {
    "duration": 6,
    "start_time": "2024-07-31T10:05:02.030Z"
   },
   {
    "duration": 4,
    "start_time": "2024-07-31T10:06:11.884Z"
   },
   {
    "duration": 2,
    "start_time": "2024-07-31T10:07:19.027Z"
   },
   {
    "duration": 7,
    "start_time": "2024-07-31T10:07:20.287Z"
   },
   {
    "duration": 10,
    "start_time": "2024-07-31T10:07:29.194Z"
   },
   {
    "duration": 5,
    "start_time": "2024-07-31T10:07:43.727Z"
   },
   {
    "duration": 695,
    "start_time": "2024-07-31T10:09:13.248Z"
   },
   {
    "duration": 7,
    "start_time": "2024-07-31T10:09:17.617Z"
   },
   {
    "duration": 8,
    "start_time": "2024-07-31T10:09:35.096Z"
   },
   {
    "duration": 6,
    "start_time": "2024-07-31T10:09:50.231Z"
   },
   {
    "duration": 6,
    "start_time": "2024-07-31T10:10:03.234Z"
   },
   {
    "duration": 7,
    "start_time": "2024-07-31T10:10:48.518Z"
   },
   {
    "duration": 6,
    "start_time": "2024-07-31T10:16:58.328Z"
   },
   {
    "duration": 8,
    "start_time": "2024-07-31T10:17:11.229Z"
   },
   {
    "duration": 8,
    "start_time": "2024-07-31T10:18:33.279Z"
   },
   {
    "duration": 4,
    "start_time": "2024-07-31T10:18:36.598Z"
   },
   {
    "duration": 4,
    "start_time": "2024-07-31T10:19:50.706Z"
   },
   {
    "duration": 4,
    "start_time": "2024-07-31T10:21:06.433Z"
   },
   {
    "duration": 6,
    "start_time": "2024-07-31T10:21:09.952Z"
   },
   {
    "duration": 7,
    "start_time": "2024-07-31T10:21:20.263Z"
   },
   {
    "duration": 5,
    "start_time": "2024-07-31T10:21:30.193Z"
   },
   {
    "duration": 451,
    "start_time": "2024-07-31T10:22:02.261Z"
   },
   {
    "duration": 80,
    "start_time": "2024-07-31T10:22:02.714Z"
   },
   {
    "duration": 15,
    "start_time": "2024-07-31T10:22:02.796Z"
   },
   {
    "duration": 43,
    "start_time": "2024-07-31T10:22:02.813Z"
   },
   {
    "duration": 23,
    "start_time": "2024-07-31T10:22:02.857Z"
   },
   {
    "duration": 92,
    "start_time": "2024-07-31T10:22:02.881Z"
   },
   {
    "duration": 29,
    "start_time": "2024-07-31T10:22:02.975Z"
   },
   {
    "duration": 20,
    "start_time": "2024-07-31T10:22:03.006Z"
   },
   {
    "duration": 80,
    "start_time": "2024-07-31T10:22:03.028Z"
   },
   {
    "duration": 22,
    "start_time": "2024-07-31T10:22:03.110Z"
   },
   {
    "duration": 44,
    "start_time": "2024-07-31T10:22:03.134Z"
   },
   {
    "duration": 13,
    "start_time": "2024-07-31T10:22:03.180Z"
   },
   {
    "duration": 10,
    "start_time": "2024-07-31T10:22:03.194Z"
   },
   {
    "duration": 7,
    "start_time": "2024-07-31T10:22:03.206Z"
   },
   {
    "duration": 7,
    "start_time": "2024-07-31T10:22:03.214Z"
   },
   {
    "duration": 19,
    "start_time": "2024-07-31T10:22:03.222Z"
   },
   {
    "duration": 7,
    "start_time": "2024-07-31T10:22:03.242Z"
   },
   {
    "duration": 21,
    "start_time": "2024-07-31T10:22:03.251Z"
   },
   {
    "duration": 17,
    "start_time": "2024-07-31T10:22:03.273Z"
   },
   {
    "duration": 56,
    "start_time": "2024-07-31T10:22:03.292Z"
   },
   {
    "duration": 418,
    "start_time": "2024-07-31T10:31:33.876Z"
   },
   {
    "duration": 78,
    "start_time": "2024-07-31T10:31:34.296Z"
   },
   {
    "duration": 16,
    "start_time": "2024-07-31T10:31:34.376Z"
   },
   {
    "duration": 67,
    "start_time": "2024-07-31T10:31:34.393Z"
   },
   {
    "duration": 25,
    "start_time": "2024-07-31T10:31:34.463Z"
   },
   {
    "duration": 11,
    "start_time": "2024-07-31T10:31:34.490Z"
   },
   {
    "duration": 18,
    "start_time": "2024-07-31T10:31:34.503Z"
   },
   {
    "duration": 15,
    "start_time": "2024-07-31T10:31:34.522Z"
   },
   {
    "duration": 8,
    "start_time": "2024-07-31T10:31:34.538Z"
   },
   {
    "duration": 4,
    "start_time": "2024-07-31T10:31:34.547Z"
   },
   {
    "duration": 7,
    "start_time": "2024-07-31T10:31:34.553Z"
   },
   {
    "duration": 27,
    "start_time": "2024-07-31T10:31:34.562Z"
   },
   {
    "duration": 13,
    "start_time": "2024-07-31T10:31:34.591Z"
   },
   {
    "duration": 4,
    "start_time": "2024-07-31T10:31:34.607Z"
   },
   {
    "duration": 8,
    "start_time": "2024-07-31T10:31:34.612Z"
   },
   {
    "duration": 6,
    "start_time": "2024-07-31T10:31:34.621Z"
   },
   {
    "duration": 6,
    "start_time": "2024-07-31T10:31:34.629Z"
   },
   {
    "duration": 9,
    "start_time": "2024-07-31T10:31:34.637Z"
   },
   {
    "duration": 5,
    "start_time": "2024-07-31T10:31:34.648Z"
   },
   {
    "duration": 48,
    "start_time": "2024-07-31T10:31:34.654Z"
   },
   {
    "duration": 9,
    "start_time": "2024-07-31T10:32:31.711Z"
   },
   {
    "duration": 418,
    "start_time": "2024-07-31T10:32:40.281Z"
   },
   {
    "duration": 81,
    "start_time": "2024-07-31T10:32:40.701Z"
   },
   {
    "duration": 15,
    "start_time": "2024-07-31T10:32:40.783Z"
   },
   {
    "duration": 15,
    "start_time": "2024-07-31T10:32:40.800Z"
   },
   {
    "duration": 12,
    "start_time": "2024-07-31T10:32:40.817Z"
   },
   {
    "duration": 12,
    "start_time": "2024-07-31T10:32:40.830Z"
   },
   {
    "duration": 12,
    "start_time": "2024-07-31T10:32:40.844Z"
   },
   {
    "duration": 40,
    "start_time": "2024-07-31T10:32:40.857Z"
   },
   {
    "duration": 21,
    "start_time": "2024-07-31T10:32:40.898Z"
   },
   {
    "duration": 99,
    "start_time": "2024-07-31T10:32:40.920Z"
   },
   {
    "duration": 8,
    "start_time": "2024-07-31T10:32:41.021Z"
   },
   {
    "duration": 8,
    "start_time": "2024-07-31T10:32:41.030Z"
   },
   {
    "duration": 6,
    "start_time": "2024-07-31T10:32:41.039Z"
   },
   {
    "duration": 18,
    "start_time": "2024-07-31T10:32:41.047Z"
   },
   {
    "duration": 79,
    "start_time": "2024-07-31T10:32:41.066Z"
   },
   {
    "duration": 9,
    "start_time": "2024-07-31T10:32:41.146Z"
   },
   {
    "duration": 11,
    "start_time": "2024-07-31T10:32:41.157Z"
   },
   {
    "duration": 27,
    "start_time": "2024-07-31T10:32:41.169Z"
   },
   {
    "duration": 41,
    "start_time": "2024-07-31T10:32:41.197Z"
   },
   {
    "duration": 8,
    "start_time": "2024-07-31T10:32:41.240Z"
   },
   {
    "duration": 6,
    "start_time": "2024-07-31T10:33:24.757Z"
   },
   {
    "duration": 8,
    "start_time": "2024-07-31T10:33:27.385Z"
   },
   {
    "duration": 6,
    "start_time": "2024-07-31T10:33:29.252Z"
   },
   {
    "duration": 5,
    "start_time": "2024-07-31T10:33:48.553Z"
   },
   {
    "duration": 6,
    "start_time": "2024-07-31T10:33:50.061Z"
   },
   {
    "duration": 459,
    "start_time": "2024-07-31T10:34:15.351Z"
   },
   {
    "duration": 84,
    "start_time": "2024-07-31T10:34:15.812Z"
   },
   {
    "duration": 15,
    "start_time": "2024-07-31T10:34:15.897Z"
   },
   {
    "duration": 21,
    "start_time": "2024-07-31T10:34:15.913Z"
   },
   {
    "duration": 10,
    "start_time": "2024-07-31T10:34:15.936Z"
   },
   {
    "duration": 11,
    "start_time": "2024-07-31T10:34:15.947Z"
   },
   {
    "duration": 6,
    "start_time": "2024-07-31T10:34:15.959Z"
   },
   {
    "duration": 25,
    "start_time": "2024-07-31T10:34:15.967Z"
   },
   {
    "duration": 18,
    "start_time": "2024-07-31T10:34:15.994Z"
   },
   {
    "duration": 5,
    "start_time": "2024-07-31T10:34:16.014Z"
   },
   {
    "duration": 10,
    "start_time": "2024-07-31T10:34:16.021Z"
   },
   {
    "duration": 21,
    "start_time": "2024-07-31T10:34:16.033Z"
   },
   {
    "duration": 6,
    "start_time": "2024-07-31T10:34:16.056Z"
   },
   {
    "duration": 20,
    "start_time": "2024-07-31T10:34:16.064Z"
   },
   {
    "duration": 22,
    "start_time": "2024-07-31T10:34:16.086Z"
   },
   {
    "duration": 4,
    "start_time": "2024-07-31T10:34:16.110Z"
   },
   {
    "duration": 7,
    "start_time": "2024-07-31T10:34:16.115Z"
   },
   {
    "duration": 6,
    "start_time": "2024-07-31T10:34:16.123Z"
   },
   {
    "duration": 6,
    "start_time": "2024-07-31T10:34:16.131Z"
   },
   {
    "duration": 8,
    "start_time": "2024-07-31T10:34:16.138Z"
   },
   {
    "duration": 5,
    "start_time": "2024-07-31T10:36:35.608Z"
   },
   {
    "duration": 370,
    "start_time": "2024-07-31T10:38:01.728Z"
   },
   {
    "duration": 80,
    "start_time": "2024-07-31T10:38:02.099Z"
   },
   {
    "duration": 15,
    "start_time": "2024-07-31T10:38:02.180Z"
   },
   {
    "duration": 16,
    "start_time": "2024-07-31T10:38:02.197Z"
   },
   {
    "duration": 33,
    "start_time": "2024-07-31T10:38:02.214Z"
   },
   {
    "duration": 29,
    "start_time": "2024-07-31T10:38:02.249Z"
   },
   {
    "duration": 50,
    "start_time": "2024-07-31T10:38:02.280Z"
   },
   {
    "duration": 67,
    "start_time": "2024-07-31T10:38:02.332Z"
   },
   {
    "duration": 74,
    "start_time": "2024-07-31T10:38:02.401Z"
   },
   {
    "duration": 5,
    "start_time": "2024-07-31T10:38:02.478Z"
   },
   {
    "duration": 8,
    "start_time": "2024-07-31T10:38:02.485Z"
   },
   {
    "duration": 7,
    "start_time": "2024-07-31T10:38:02.495Z"
   },
   {
    "duration": 11,
    "start_time": "2024-07-31T10:38:02.503Z"
   },
   {
    "duration": 9,
    "start_time": "2024-07-31T10:38:02.516Z"
   },
   {
    "duration": 12,
    "start_time": "2024-07-31T10:38:02.526Z"
   },
   {
    "duration": 15,
    "start_time": "2024-07-31T10:38:02.540Z"
   },
   {
    "duration": 28,
    "start_time": "2024-07-31T10:38:02.557Z"
   },
   {
    "duration": 7,
    "start_time": "2024-07-31T10:38:02.587Z"
   },
   {
    "duration": 9,
    "start_time": "2024-07-31T10:38:02.595Z"
   },
   {
    "duration": 19,
    "start_time": "2024-07-31T10:38:02.606Z"
   },
   {
    "duration": 14,
    "start_time": "2024-07-31T10:38:02.626Z"
   },
   {
    "duration": 8,
    "start_time": "2024-07-31T10:39:50.883Z"
   },
   {
    "duration": 398,
    "start_time": "2024-07-31T10:40:00.597Z"
   },
   {
    "duration": 80,
    "start_time": "2024-07-31T10:40:00.997Z"
   },
   {
    "duration": 15,
    "start_time": "2024-07-31T10:40:01.078Z"
   },
   {
    "duration": 147,
    "start_time": "2024-07-31T10:40:01.095Z"
   },
   {
    "duration": 40,
    "start_time": "2024-07-31T10:40:01.243Z"
   },
   {
    "duration": 40,
    "start_time": "2024-07-31T10:40:01.284Z"
   },
   {
    "duration": 115,
    "start_time": "2024-07-31T10:40:01.326Z"
   },
   {
    "duration": 76,
    "start_time": "2024-07-31T10:40:01.442Z"
   },
   {
    "duration": 61,
    "start_time": "2024-07-31T10:40:01.520Z"
   },
   {
    "duration": 37,
    "start_time": "2024-07-31T10:40:01.583Z"
   },
   {
    "duration": 49,
    "start_time": "2024-07-31T10:40:01.621Z"
   },
   {
    "duration": 51,
    "start_time": "2024-07-31T10:40:01.671Z"
   },
   {
    "duration": 56,
    "start_time": "2024-07-31T10:40:01.724Z"
   },
   {
    "duration": 32,
    "start_time": "2024-07-31T10:40:01.782Z"
   },
   {
    "duration": 54,
    "start_time": "2024-07-31T10:40:01.816Z"
   },
   {
    "duration": 57,
    "start_time": "2024-07-31T10:40:01.871Z"
   },
   {
    "duration": 34,
    "start_time": "2024-07-31T10:40:01.929Z"
   },
   {
    "duration": 17,
    "start_time": "2024-07-31T10:40:01.964Z"
   },
   {
    "duration": 46,
    "start_time": "2024-07-31T10:40:01.982Z"
   },
   {
    "duration": 24,
    "start_time": "2024-07-31T10:40:02.029Z"
   },
   {
    "duration": 17,
    "start_time": "2024-07-31T10:40:02.054Z"
   },
   {
    "duration": 7,
    "start_time": "2024-07-31T10:43:00.383Z"
   },
   {
    "duration": 532,
    "start_time": "2024-07-31T10:46:05.459Z"
   },
   {
    "duration": 85,
    "start_time": "2024-07-31T10:46:34.129Z"
   },
   {
    "duration": 5,
    "start_time": "2024-07-31T10:46:37.995Z"
   },
   {
    "duration": 2,
    "start_time": "2024-07-31T10:47:36.340Z"
   },
   {
    "duration": 3,
    "start_time": "2024-07-31T10:47:39.111Z"
   },
   {
    "duration": 133,
    "start_time": "2024-07-31T10:48:44.919Z"
   },
   {
    "duration": 6,
    "start_time": "2024-07-31T10:55:20.193Z"
   },
   {
    "duration": 14,
    "start_time": "2024-07-31T10:55:24.249Z"
   },
   {
    "duration": 20,
    "start_time": "2024-07-31T10:55:32.887Z"
   },
   {
    "duration": 7,
    "start_time": "2024-07-31T10:56:08.848Z"
   },
   {
    "duration": 46,
    "start_time": "2024-07-31T10:56:21.784Z"
   },
   {
    "duration": 50,
    "start_time": "2024-07-31T10:56:25.095Z"
   },
   {
    "duration": 8,
    "start_time": "2024-07-31T10:57:06.736Z"
   },
   {
    "duration": 7,
    "start_time": "2024-07-31T10:58:33.455Z"
   },
   {
    "duration": 6,
    "start_time": "2024-07-31T10:58:36.033Z"
   },
   {
    "duration": 3,
    "start_time": "2024-07-31T10:58:37.285Z"
   },
   {
    "duration": 4,
    "start_time": "2024-07-31T10:58:59.857Z"
   },
   {
    "duration": 114,
    "start_time": "2024-07-31T11:02:05.922Z"
   },
   {
    "duration": 117,
    "start_time": "2024-07-31T11:02:12.079Z"
   },
   {
    "duration": 158,
    "start_time": "2024-07-31T11:02:16.363Z"
   },
   {
    "duration": 129,
    "start_time": "2024-07-31T11:02:37.018Z"
   },
   {
    "duration": 142,
    "start_time": "2024-07-31T11:02:45.167Z"
   },
   {
    "duration": 119,
    "start_time": "2024-07-31T11:03:05.090Z"
   },
   {
    "duration": 9,
    "start_time": "2024-07-31T11:03:32.710Z"
   },
   {
    "duration": 108,
    "start_time": "2024-07-31T11:04:14.268Z"
   },
   {
    "duration": 240,
    "start_time": "2024-07-31T11:04:25.449Z"
   },
   {
    "duration": 109,
    "start_time": "2024-07-31T11:04:42.450Z"
   },
   {
    "duration": 236,
    "start_time": "2024-07-31T11:05:04.948Z"
   },
   {
    "duration": 624,
    "start_time": "2024-07-31T11:05:56.834Z"
   },
   {
    "duration": 250,
    "start_time": "2024-07-31T11:06:00.293Z"
   },
   {
    "duration": 230,
    "start_time": "2024-07-31T11:08:40.049Z"
   },
   {
    "duration": 9,
    "start_time": "2024-07-31T11:12:56.011Z"
   },
   {
    "duration": 326,
    "start_time": "2024-07-31T11:13:22.635Z"
   },
   {
    "duration": 9,
    "start_time": "2024-07-31T11:17:05.388Z"
   },
   {
    "duration": 358,
    "start_time": "2024-07-31T11:17:30.838Z"
   },
   {
    "duration": 367,
    "start_time": "2024-07-31T11:17:47.857Z"
   },
   {
    "duration": 361,
    "start_time": "2024-07-31T11:17:59.296Z"
   },
   {
    "duration": 429,
    "start_time": "2024-07-31T11:18:06.829Z"
   },
   {
    "duration": 346,
    "start_time": "2024-07-31T11:18:11.896Z"
   },
   {
    "duration": 365,
    "start_time": "2024-07-31T11:18:25.142Z"
   },
   {
    "duration": 597,
    "start_time": "2024-07-31T11:18:32.416Z"
   },
   {
    "duration": 365,
    "start_time": "2024-07-31T11:19:03.629Z"
   },
   {
    "duration": 367,
    "start_time": "2024-07-31T11:19:26.234Z"
   },
   {
    "duration": 325,
    "start_time": "2024-07-31T11:19:46.341Z"
   },
   {
    "duration": 102,
    "start_time": "2024-07-31T11:19:56.960Z"
   },
   {
    "duration": 112,
    "start_time": "2024-07-31T11:20:30.807Z"
   },
   {
    "duration": 207,
    "start_time": "2024-07-31T11:20:37.650Z"
   },
   {
    "duration": 9,
    "start_time": "2024-07-31T11:24:48.821Z"
   },
   {
    "duration": 328,
    "start_time": "2024-07-31T11:25:28.690Z"
   },
   {
    "duration": 117,
    "start_time": "2024-07-31T11:26:06.395Z"
   },
   {
    "duration": 24,
    "start_time": "2024-07-31T11:39:42.407Z"
   },
   {
    "duration": 11,
    "start_time": "2024-07-31T11:40:04.949Z"
   },
   {
    "duration": 15,
    "start_time": "2024-07-31T11:40:51.851Z"
   },
   {
    "duration": 26,
    "start_time": "2024-07-31T11:40:59.222Z"
   },
   {
    "duration": 15,
    "start_time": "2024-07-31T11:41:45.369Z"
   },
   {
    "duration": 28,
    "start_time": "2024-07-31T11:44:24.763Z"
   },
   {
    "duration": 7,
    "start_time": "2024-07-31T11:48:28.199Z"
   },
   {
    "duration": 18,
    "start_time": "2024-07-31T11:48:34.530Z"
   },
   {
    "duration": 14,
    "start_time": "2024-07-31T11:48:47.744Z"
   },
   {
    "duration": 23,
    "start_time": "2024-07-31T11:48:58.521Z"
   },
   {
    "duration": 17,
    "start_time": "2024-07-31T11:49:38.732Z"
   },
   {
    "duration": 317,
    "start_time": "2024-07-31T11:51:07.994Z"
   },
   {
    "duration": 349,
    "start_time": "2024-07-31T11:51:38.346Z"
   },
   {
    "duration": 449,
    "start_time": "2024-07-31T11:52:20.449Z"
   },
   {
    "duration": 397,
    "start_time": "2024-07-31T11:52:28.982Z"
   },
   {
    "duration": 302,
    "start_time": "2024-07-31T11:52:37.729Z"
   },
   {
    "duration": 366,
    "start_time": "2024-07-31T11:52:41.220Z"
   },
   {
    "duration": 391,
    "start_time": "2024-07-31T11:53:43.006Z"
   },
   {
    "duration": 334,
    "start_time": "2024-07-31T11:54:07.890Z"
   },
   {
    "duration": 6,
    "start_time": "2024-07-31T12:29:52.914Z"
   },
   {
    "duration": 54,
    "start_time": "2024-07-31T12:31:30.247Z"
   },
   {
    "duration": 49,
    "start_time": "2024-07-31T12:31:59.837Z"
   },
   {
    "duration": 48,
    "start_time": "2024-07-31T12:32:55.586Z"
   },
   {
    "duration": 47,
    "start_time": "2024-07-31T12:33:33.247Z"
   },
   {
    "duration": 47,
    "start_time": "2024-07-31T12:33:38.487Z"
   },
   {
    "duration": 3,
    "start_time": "2024-07-31T12:33:42.804Z"
   },
   {
    "duration": 86,
    "start_time": "2024-07-31T12:33:42.808Z"
   },
   {
    "duration": 8,
    "start_time": "2024-07-31T12:33:42.896Z"
   },
   {
    "duration": 12,
    "start_time": "2024-07-31T12:33:42.905Z"
   },
   {
    "duration": 9,
    "start_time": "2024-07-31T12:33:42.919Z"
   },
   {
    "duration": 24,
    "start_time": "2024-07-31T12:33:42.929Z"
   },
   {
    "duration": 82,
    "start_time": "2024-07-31T12:33:42.955Z"
   },
   {
    "duration": 31,
    "start_time": "2024-07-31T12:33:43.039Z"
   },
   {
    "duration": 35,
    "start_time": "2024-07-31T12:33:43.072Z"
   },
   {
    "duration": 5,
    "start_time": "2024-07-31T12:33:43.108Z"
   },
   {
    "duration": 8,
    "start_time": "2024-07-31T12:33:43.114Z"
   },
   {
    "duration": 14,
    "start_time": "2024-07-31T12:33:43.124Z"
   },
   {
    "duration": 6,
    "start_time": "2024-07-31T12:33:43.140Z"
   },
   {
    "duration": 6,
    "start_time": "2024-07-31T12:33:43.147Z"
   },
   {
    "duration": 23,
    "start_time": "2024-07-31T12:33:43.155Z"
   },
   {
    "duration": 5,
    "start_time": "2024-07-31T12:33:43.180Z"
   },
   {
    "duration": 13,
    "start_time": "2024-07-31T12:33:43.186Z"
   },
   {
    "duration": 8,
    "start_time": "2024-07-31T12:33:43.200Z"
   },
   {
    "duration": 4,
    "start_time": "2024-07-31T12:33:43.210Z"
   },
   {
    "duration": 9,
    "start_time": "2024-07-31T12:33:43.216Z"
   },
   {
    "duration": 147,
    "start_time": "2024-07-31T12:33:43.226Z"
   },
   {
    "duration": 9,
    "start_time": "2024-07-31T12:33:43.375Z"
   },
   {
    "duration": 4,
    "start_time": "2024-07-31T12:33:43.386Z"
   },
   {
    "duration": 13,
    "start_time": "2024-07-31T12:33:43.392Z"
   },
   {
    "duration": 124,
    "start_time": "2024-07-31T12:33:43.407Z"
   },
   {
    "duration": 8,
    "start_time": "2024-07-31T12:33:43.533Z"
   },
   {
    "duration": 247,
    "start_time": "2024-07-31T12:33:43.542Z"
   },
   {
    "duration": 10,
    "start_time": "2024-07-31T12:33:43.790Z"
   },
   {
    "duration": 311,
    "start_time": "2024-07-31T12:33:43.803Z"
   },
   {
    "duration": 204,
    "start_time": "2024-07-31T12:33:44.116Z"
   },
   {
    "duration": 8,
    "start_time": "2024-07-31T12:33:44.321Z"
   },
   {
    "duration": 317,
    "start_time": "2024-07-31T12:33:44.331Z"
   },
   {
    "duration": 125,
    "start_time": "2024-07-31T12:33:44.649Z"
   },
   {
    "duration": 24,
    "start_time": "2024-07-31T12:33:44.776Z"
   },
   {
    "duration": 14,
    "start_time": "2024-07-31T12:33:44.801Z"
   },
   {
    "duration": 16,
    "start_time": "2024-07-31T12:33:44.817Z"
   },
   {
    "duration": 14,
    "start_time": "2024-07-31T12:33:44.837Z"
   },
   {
    "duration": 341,
    "start_time": "2024-07-31T12:33:44.852Z"
   },
   {
    "duration": 309,
    "start_time": "2024-07-31T12:33:45.194Z"
   },
   {
    "duration": 403,
    "start_time": "2024-07-31T12:33:45.504Z"
   },
   {
    "duration": 307,
    "start_time": "2024-07-31T12:33:45.910Z"
   },
   {
    "duration": 50,
    "start_time": "2024-07-31T12:33:46.219Z"
   },
   {
    "duration": 5,
    "start_time": "2024-07-31T12:34:04.058Z"
   },
   {
    "duration": 6,
    "start_time": "2024-07-31T12:35:26.863Z"
   },
   {
    "duration": 7,
    "start_time": "2024-07-31T12:35:33.717Z"
   },
   {
    "duration": 6,
    "start_time": "2024-07-31T12:35:43.793Z"
   },
   {
    "duration": 6,
    "start_time": "2024-07-31T12:56:26.455Z"
   },
   {
    "duration": 383,
    "start_time": "2024-07-31T12:57:47.023Z"
   },
   {
    "duration": 49,
    "start_time": "2024-07-31T13:54:31.249Z"
   },
   {
    "duration": 50,
    "start_time": "2024-07-31T13:54:54.204Z"
   },
   {
    "duration": 46,
    "start_time": "2024-07-31T13:55:15.966Z"
   },
   {
    "duration": 35,
    "start_time": "2024-07-31T13:55:24.383Z"
   },
   {
    "duration": 33,
    "start_time": "2024-07-31T14:12:25.350Z"
   },
   {
    "duration": 26,
    "start_time": "2024-07-31T14:15:36.834Z"
   },
   {
    "duration": 36,
    "start_time": "2024-07-31T14:15:41.821Z"
   },
   {
    "duration": 3,
    "start_time": "2024-07-31T14:18:30.934Z"
   },
   {
    "duration": 5,
    "start_time": "2024-07-31T14:29:23.670Z"
   },
   {
    "duration": 16,
    "start_time": "2024-07-31T14:29:30.503Z"
   },
   {
    "duration": 14,
    "start_time": "2024-07-31T14:29:41.993Z"
   },
   {
    "duration": 17,
    "start_time": "2024-07-31T14:29:47.355Z"
   },
   {
    "duration": 13,
    "start_time": "2024-07-31T14:29:56.994Z"
   },
   {
    "duration": 12,
    "start_time": "2024-07-31T14:30:01.904Z"
   },
   {
    "duration": 12,
    "start_time": "2024-07-31T14:30:12.660Z"
   },
   {
    "duration": 13,
    "start_time": "2024-07-31T14:30:18.154Z"
   },
   {
    "duration": 11,
    "start_time": "2024-07-31T14:30:34.219Z"
   },
   {
    "duration": 14,
    "start_time": "2024-07-31T14:30:56.754Z"
   },
   {
    "duration": 7,
    "start_time": "2024-07-31T14:31:20.295Z"
   },
   {
    "duration": 8,
    "start_time": "2024-07-31T14:31:35.731Z"
   },
   {
    "duration": 2,
    "start_time": "2024-07-31T14:31:52.560Z"
   },
   {
    "duration": 1075,
    "start_time": "2024-07-31T14:32:00.499Z"
   },
   {
    "duration": 79,
    "start_time": "2024-07-31T14:32:01.576Z"
   },
   {
    "duration": 12,
    "start_time": "2024-07-31T14:32:01.657Z"
   },
   {
    "duration": 297,
    "start_time": "2024-07-31T14:32:01.671Z"
   },
   {
    "duration": 130,
    "start_time": "2024-07-31T14:32:01.969Z"
   },
   {
    "duration": 74,
    "start_time": "2024-07-31T14:32:02.101Z"
   },
   {
    "duration": 115,
    "start_time": "2024-07-31T14:32:02.177Z"
   },
   {
    "duration": 12,
    "start_time": "2024-07-31T14:32:02.294Z"
   },
   {
    "duration": 54,
    "start_time": "2024-07-31T14:32:02.308Z"
   },
   {
    "duration": 6,
    "start_time": "2024-07-31T14:32:02.365Z"
   },
   {
    "duration": 7,
    "start_time": "2024-07-31T14:32:02.373Z"
   },
   {
    "duration": 27,
    "start_time": "2024-07-31T14:32:02.381Z"
   },
   {
    "duration": 16,
    "start_time": "2024-07-31T14:32:02.410Z"
   },
   {
    "duration": 20,
    "start_time": "2024-07-31T14:32:02.427Z"
   },
   {
    "duration": 6,
    "start_time": "2024-07-31T14:32:02.449Z"
   },
   {
    "duration": 5,
    "start_time": "2024-07-31T14:32:02.457Z"
   },
   {
    "duration": 35,
    "start_time": "2024-07-31T14:32:02.464Z"
   },
   {
    "duration": 17,
    "start_time": "2024-07-31T14:32:02.501Z"
   },
   {
    "duration": 17,
    "start_time": "2024-07-31T14:32:02.520Z"
   },
   {
    "duration": 9,
    "start_time": "2024-07-31T14:32:02.539Z"
   },
   {
    "duration": 182,
    "start_time": "2024-07-31T14:32:02.550Z"
   },
   {
    "duration": 8,
    "start_time": "2024-07-31T14:32:02.734Z"
   },
   {
    "duration": 41,
    "start_time": "2024-07-31T14:32:02.743Z"
   },
   {
    "duration": 9,
    "start_time": "2024-07-31T14:32:02.785Z"
   },
   {
    "duration": 124,
    "start_time": "2024-07-31T14:32:02.795Z"
   },
   {
    "duration": 8,
    "start_time": "2024-07-31T14:32:02.920Z"
   },
   {
    "duration": 243,
    "start_time": "2024-07-31T14:32:02.929Z"
   },
   {
    "duration": 9,
    "start_time": "2024-07-31T14:32:03.184Z"
   },
   {
    "duration": 323,
    "start_time": "2024-07-31T14:32:03.194Z"
   },
   {
    "duration": 119,
    "start_time": "2024-07-31T14:32:03.518Z"
   },
   {
    "duration": 9,
    "start_time": "2024-07-31T14:32:03.638Z"
   },
   {
    "duration": 396,
    "start_time": "2024-07-31T14:32:03.649Z"
   },
   {
    "duration": 127,
    "start_time": "2024-07-31T14:32:04.046Z"
   },
   {
    "duration": 33,
    "start_time": "2024-07-31T14:32:04.175Z"
   },
   {
    "duration": 76,
    "start_time": "2024-07-31T14:32:04.210Z"
   },
   {
    "duration": 15,
    "start_time": "2024-07-31T14:32:04.287Z"
   },
   {
    "duration": 13,
    "start_time": "2024-07-31T14:32:04.303Z"
   },
   {
    "duration": 315,
    "start_time": "2024-07-31T14:32:04.317Z"
   },
   {
    "duration": 306,
    "start_time": "2024-07-31T14:32:04.634Z"
   },
   {
    "duration": 327,
    "start_time": "2024-07-31T14:32:04.941Z"
   },
   {
    "duration": 418,
    "start_time": "2024-07-31T14:32:05.270Z"
   },
   {
    "duration": 6,
    "start_time": "2024-07-31T14:32:05.690Z"
   },
   {
    "duration": 44,
    "start_time": "2024-07-31T14:32:05.698Z"
   },
   {
    "duration": 3,
    "start_time": "2024-07-31T14:32:05.743Z"
   },
   {
    "duration": 38,
    "start_time": "2024-07-31T14:39:24.505Z"
   },
   {
    "duration": 53,
    "start_time": "2024-07-31T14:39:50.118Z"
   },
   {
    "duration": 36,
    "start_time": "2024-07-31T14:40:01.302Z"
   },
   {
    "duration": 106,
    "start_time": "2024-07-31T14:41:17.561Z"
   },
   {
    "duration": 1121,
    "start_time": "2024-07-31T14:41:47.447Z"
   },
   {
    "duration": 80,
    "start_time": "2024-07-31T14:41:48.569Z"
   },
   {
    "duration": 11,
    "start_time": "2024-07-31T14:41:48.650Z"
   },
   {
    "duration": 25,
    "start_time": "2024-07-31T14:41:48.663Z"
   },
   {
    "duration": 23,
    "start_time": "2024-07-31T14:41:48.690Z"
   },
   {
    "duration": 23,
    "start_time": "2024-07-31T14:41:48.714Z"
   },
   {
    "duration": 12,
    "start_time": "2024-07-31T14:41:48.738Z"
   },
   {
    "duration": 10,
    "start_time": "2024-07-31T14:41:48.751Z"
   },
   {
    "duration": 8,
    "start_time": "2024-07-31T14:41:48.763Z"
   },
   {
    "duration": 11,
    "start_time": "2024-07-31T14:41:48.773Z"
   },
   {
    "duration": 25,
    "start_time": "2024-07-31T14:41:48.786Z"
   },
   {
    "duration": 28,
    "start_time": "2024-07-31T14:41:48.812Z"
   },
   {
    "duration": 42,
    "start_time": "2024-07-31T14:41:48.842Z"
   },
   {
    "duration": 12,
    "start_time": "2024-07-31T14:41:48.887Z"
   },
   {
    "duration": 8,
    "start_time": "2024-07-31T14:41:48.901Z"
   },
   {
    "duration": 9,
    "start_time": "2024-07-31T14:41:48.911Z"
   },
   {
    "duration": 16,
    "start_time": "2024-07-31T14:41:48.922Z"
   },
   {
    "duration": 18,
    "start_time": "2024-07-31T14:41:48.939Z"
   },
   {
    "duration": 6,
    "start_time": "2024-07-31T14:41:48.959Z"
   },
   {
    "duration": 6,
    "start_time": "2024-07-31T14:41:48.967Z"
   },
   {
    "duration": 158,
    "start_time": "2024-07-31T14:41:48.983Z"
   },
   {
    "duration": 10,
    "start_time": "2024-07-31T14:41:49.143Z"
   },
   {
    "duration": 13,
    "start_time": "2024-07-31T14:41:49.155Z"
   },
   {
    "duration": 16,
    "start_time": "2024-07-31T14:41:49.169Z"
   },
   {
    "duration": 169,
    "start_time": "2024-07-31T14:41:49.186Z"
   },
   {
    "duration": 8,
    "start_time": "2024-07-31T14:41:49.356Z"
   },
   {
    "duration": 251,
    "start_time": "2024-07-31T14:41:49.365Z"
   },
   {
    "duration": 8,
    "start_time": "2024-07-31T14:41:49.618Z"
   },
   {
    "duration": 310,
    "start_time": "2024-07-31T14:41:49.627Z"
   },
   {
    "duration": 114,
    "start_time": "2024-07-31T14:41:49.939Z"
   },
   {
    "duration": 9,
    "start_time": "2024-07-31T14:41:50.054Z"
   },
   {
    "duration": 518,
    "start_time": "2024-07-31T14:41:50.064Z"
   },
   {
    "duration": 122,
    "start_time": "2024-07-31T14:41:50.583Z"
   },
   {
    "duration": 23,
    "start_time": "2024-07-31T14:41:50.707Z"
   },
   {
    "duration": 12,
    "start_time": "2024-07-31T14:41:50.731Z"
   },
   {
    "duration": 18,
    "start_time": "2024-07-31T14:41:50.745Z"
   },
   {
    "duration": 14,
    "start_time": "2024-07-31T14:41:50.783Z"
   },
   {
    "duration": 322,
    "start_time": "2024-07-31T14:41:50.799Z"
   },
   {
    "duration": 338,
    "start_time": "2024-07-31T14:41:51.123Z"
   },
   {
    "duration": 326,
    "start_time": "2024-07-31T14:41:51.462Z"
   },
   {
    "duration": 409,
    "start_time": "2024-07-31T14:41:51.793Z"
   },
   {
    "duration": 7,
    "start_time": "2024-07-31T14:41:52.203Z"
   },
   {
    "duration": 81,
    "start_time": "2024-07-31T14:41:52.211Z"
   },
   {
    "duration": 103,
    "start_time": "2024-07-31T14:41:52.294Z"
   },
   {
    "duration": 0,
    "start_time": "2024-07-31T14:41:52.399Z"
   },
   {
    "duration": 13,
    "start_time": "2024-07-31T14:43:30.911Z"
   },
   {
    "duration": 13,
    "start_time": "2024-07-31T14:44:15.497Z"
   },
   {
    "duration": 32,
    "start_time": "2024-07-31T14:44:22.216Z"
   },
   {
    "duration": 98,
    "start_time": "2024-07-31T15:20:59.027Z"
   },
   {
    "duration": 23,
    "start_time": "2024-07-31T15:23:17.761Z"
   },
   {
    "duration": 25,
    "start_time": "2024-07-31T15:27:01.339Z"
   },
   {
    "duration": 29,
    "start_time": "2024-07-31T15:27:13.664Z"
   },
   {
    "duration": 41,
    "start_time": "2024-07-31T15:28:06.188Z"
   },
   {
    "duration": 25,
    "start_time": "2024-07-31T15:30:12.707Z"
   },
   {
    "duration": 31,
    "start_time": "2024-07-31T15:33:44.191Z"
   },
   {
    "duration": 20,
    "start_time": "2024-07-31T15:33:47.788Z"
   },
   {
    "duration": 31,
    "start_time": "2024-07-31T15:34:11.949Z"
   },
   {
    "duration": 29,
    "start_time": "2024-07-31T15:41:12.910Z"
   },
   {
    "duration": 23,
    "start_time": "2024-07-31T15:42:23.534Z"
   },
   {
    "duration": 21,
    "start_time": "2024-07-31T15:42:28.310Z"
   },
   {
    "duration": 3,
    "start_time": "2024-07-31T15:42:37.260Z"
   },
   {
    "duration": 116,
    "start_time": "2024-07-31T15:42:37.265Z"
   },
   {
    "duration": 8,
    "start_time": "2024-07-31T15:42:37.383Z"
   },
   {
    "duration": 32,
    "start_time": "2024-07-31T15:42:37.393Z"
   },
   {
    "duration": 13,
    "start_time": "2024-07-31T15:42:37.426Z"
   },
   {
    "duration": 18,
    "start_time": "2024-07-31T15:42:37.441Z"
   },
   {
    "duration": 9,
    "start_time": "2024-07-31T15:42:37.460Z"
   },
   {
    "duration": 24,
    "start_time": "2024-07-31T15:42:37.471Z"
   },
   {
    "duration": 19,
    "start_time": "2024-07-31T15:42:37.498Z"
   },
   {
    "duration": 7,
    "start_time": "2024-07-31T15:42:37.519Z"
   },
   {
    "duration": 21,
    "start_time": "2024-07-31T15:42:37.527Z"
   },
   {
    "duration": 18,
    "start_time": "2024-07-31T15:42:37.549Z"
   },
   {
    "duration": 40,
    "start_time": "2024-07-31T15:42:37.568Z"
   },
   {
    "duration": 5,
    "start_time": "2024-07-31T15:42:37.610Z"
   },
   {
    "duration": 7,
    "start_time": "2024-07-31T15:42:37.616Z"
   },
   {
    "duration": 5,
    "start_time": "2024-07-31T15:42:37.624Z"
   },
   {
    "duration": 7,
    "start_time": "2024-07-31T15:42:37.630Z"
   },
   {
    "duration": 6,
    "start_time": "2024-07-31T15:42:37.639Z"
   },
   {
    "duration": 29,
    "start_time": "2024-07-31T15:42:37.646Z"
   },
   {
    "duration": 56,
    "start_time": "2024-07-31T15:42:37.677Z"
   },
   {
    "duration": 139,
    "start_time": "2024-07-31T15:42:37.734Z"
   },
   {
    "duration": 11,
    "start_time": "2024-07-31T15:42:37.875Z"
   },
   {
    "duration": 7,
    "start_time": "2024-07-31T15:42:37.888Z"
   },
   {
    "duration": 6,
    "start_time": "2024-07-31T15:42:37.898Z"
   },
   {
    "duration": 131,
    "start_time": "2024-07-31T15:42:37.905Z"
   },
   {
    "duration": 10,
    "start_time": "2024-07-31T15:42:38.038Z"
   },
   {
    "duration": 255,
    "start_time": "2024-07-31T15:42:38.050Z"
   },
   {
    "duration": 9,
    "start_time": "2024-07-31T15:42:38.306Z"
   },
   {
    "duration": 355,
    "start_time": "2024-07-31T15:42:38.316Z"
   },
   {
    "duration": 124,
    "start_time": "2024-07-31T15:42:38.673Z"
   },
   {
    "duration": 9,
    "start_time": "2024-07-31T15:42:38.799Z"
   },
   {
    "duration": 349,
    "start_time": "2024-07-31T15:42:38.809Z"
   },
   {
    "duration": 242,
    "start_time": "2024-07-31T15:42:39.160Z"
   },
   {
    "duration": 25,
    "start_time": "2024-07-31T15:42:39.404Z"
   },
   {
    "duration": 15,
    "start_time": "2024-07-31T15:42:39.430Z"
   },
   {
    "duration": 42,
    "start_time": "2024-07-31T15:42:39.447Z"
   },
   {
    "duration": 13,
    "start_time": "2024-07-31T15:42:39.490Z"
   },
   {
    "duration": 343,
    "start_time": "2024-07-31T15:42:39.504Z"
   },
   {
    "duration": 304,
    "start_time": "2024-07-31T15:42:39.849Z"
   },
   {
    "duration": 317,
    "start_time": "2024-07-31T15:42:40.155Z"
   },
   {
    "duration": 390,
    "start_time": "2024-07-31T15:42:40.473Z"
   },
   {
    "duration": 6,
    "start_time": "2024-07-31T15:42:40.865Z"
   },
   {
    "duration": 59,
    "start_time": "2024-07-31T15:42:40.883Z"
   },
   {
    "duration": 18,
    "start_time": "2024-07-31T15:42:40.944Z"
   },
   {
    "duration": 33,
    "start_time": "2024-07-31T15:43:31.756Z"
   },
   {
    "duration": 11,
    "start_time": "2024-07-31T15:47:46.304Z"
   },
   {
    "duration": 51,
    "start_time": "2024-07-31T15:48:25.372Z"
   },
   {
    "duration": 5,
    "start_time": "2024-07-31T15:48:33.589Z"
   },
   {
    "duration": 3,
    "start_time": "2024-07-31T15:49:02.314Z"
   },
   {
    "duration": 658,
    "start_time": "2024-07-31T15:49:15.219Z"
   },
   {
    "duration": 555,
    "start_time": "2024-07-31T15:49:40.500Z"
   },
   {
    "duration": 23,
    "start_time": "2024-07-31T15:49:53.171Z"
   },
   {
    "duration": 3,
    "start_time": "2024-07-31T15:50:06.533Z"
   },
   {
    "duration": 103,
    "start_time": "2024-07-31T15:50:06.537Z"
   },
   {
    "duration": 8,
    "start_time": "2024-07-31T15:50:06.642Z"
   },
   {
    "duration": 59,
    "start_time": "2024-07-31T15:50:06.652Z"
   },
   {
    "duration": 9,
    "start_time": "2024-07-31T15:50:06.713Z"
   },
   {
    "duration": 14,
    "start_time": "2024-07-31T15:50:06.724Z"
   },
   {
    "duration": 7,
    "start_time": "2024-07-31T15:50:06.739Z"
   },
   {
    "duration": 26,
    "start_time": "2024-07-31T15:50:06.747Z"
   },
   {
    "duration": 7,
    "start_time": "2024-07-31T15:50:06.774Z"
   },
   {
    "duration": 11,
    "start_time": "2024-07-31T15:50:06.782Z"
   },
   {
    "duration": 6,
    "start_time": "2024-07-31T15:50:06.794Z"
   },
   {
    "duration": 6,
    "start_time": "2024-07-31T15:50:06.802Z"
   },
   {
    "duration": 11,
    "start_time": "2024-07-31T15:50:06.810Z"
   },
   {
    "duration": 7,
    "start_time": "2024-07-31T15:50:06.824Z"
   },
   {
    "duration": 11,
    "start_time": "2024-07-31T15:50:06.832Z"
   },
   {
    "duration": 5,
    "start_time": "2024-07-31T15:50:06.845Z"
   },
   {
    "duration": 7,
    "start_time": "2024-07-31T15:50:06.852Z"
   },
   {
    "duration": 5,
    "start_time": "2024-07-31T15:50:06.884Z"
   },
   {
    "duration": 5,
    "start_time": "2024-07-31T15:50:06.891Z"
   },
   {
    "duration": 7,
    "start_time": "2024-07-31T15:50:06.898Z"
   },
   {
    "duration": 153,
    "start_time": "2024-07-31T15:50:06.907Z"
   },
   {
    "duration": 8,
    "start_time": "2024-07-31T15:50:07.061Z"
   },
   {
    "duration": 24,
    "start_time": "2024-07-31T15:50:07.070Z"
   },
   {
    "duration": 33,
    "start_time": "2024-07-31T15:50:07.096Z"
   },
   {
    "duration": 141,
    "start_time": "2024-07-31T15:50:07.131Z"
   },
   {
    "duration": 17,
    "start_time": "2024-07-31T15:50:07.274Z"
   },
   {
    "duration": 282,
    "start_time": "2024-07-31T15:50:07.293Z"
   },
   {
    "duration": 16,
    "start_time": "2024-07-31T15:50:07.577Z"
   },
   {
    "duration": 339,
    "start_time": "2024-07-31T15:50:07.595Z"
   },
   {
    "duration": 120,
    "start_time": "2024-07-31T15:50:07.936Z"
   },
   {
    "duration": 8,
    "start_time": "2024-07-31T15:50:08.058Z"
   },
   {
    "duration": 368,
    "start_time": "2024-07-31T15:50:08.067Z"
   },
   {
    "duration": 221,
    "start_time": "2024-07-31T15:50:08.439Z"
   },
   {
    "duration": 33,
    "start_time": "2024-07-31T15:50:08.661Z"
   },
   {
    "duration": 16,
    "start_time": "2024-07-31T15:50:08.696Z"
   },
   {
    "duration": 22,
    "start_time": "2024-07-31T15:50:08.715Z"
   },
   {
    "duration": 13,
    "start_time": "2024-07-31T15:50:08.739Z"
   },
   {
    "duration": 342,
    "start_time": "2024-07-31T15:50:08.754Z"
   },
   {
    "duration": 356,
    "start_time": "2024-07-31T15:50:09.098Z"
   },
   {
    "duration": 340,
    "start_time": "2024-07-31T15:50:09.456Z"
   },
   {
    "duration": 408,
    "start_time": "2024-07-31T15:50:09.800Z"
   },
   {
    "duration": 6,
    "start_time": "2024-07-31T15:50:10.210Z"
   },
   {
    "duration": 34,
    "start_time": "2024-07-31T15:50:10.218Z"
   },
   {
    "duration": 40,
    "start_time": "2024-07-31T15:50:10.254Z"
   },
   {
    "duration": 6,
    "start_time": "2024-07-31T15:50:10.296Z"
   },
   {
    "duration": 636,
    "start_time": "2024-07-31T15:50:31.401Z"
   },
   {
    "duration": 3,
    "start_time": "2024-07-31T15:50:38.671Z"
   },
   {
    "duration": 120,
    "start_time": "2024-07-31T15:50:38.675Z"
   },
   {
    "duration": 7,
    "start_time": "2024-07-31T15:50:38.797Z"
   },
   {
    "duration": 9,
    "start_time": "2024-07-31T15:50:38.806Z"
   },
   {
    "duration": 7,
    "start_time": "2024-07-31T15:50:38.816Z"
   },
   {
    "duration": 12,
    "start_time": "2024-07-31T15:50:38.825Z"
   },
   {
    "duration": 8,
    "start_time": "2024-07-31T15:50:38.838Z"
   },
   {
    "duration": 43,
    "start_time": "2024-07-31T15:50:38.847Z"
   },
   {
    "duration": 6,
    "start_time": "2024-07-31T15:50:38.892Z"
   },
   {
    "duration": 13,
    "start_time": "2024-07-31T15:50:38.899Z"
   },
   {
    "duration": 7,
    "start_time": "2024-07-31T15:50:38.913Z"
   },
   {
    "duration": 6,
    "start_time": "2024-07-31T15:50:38.922Z"
   },
   {
    "duration": 23,
    "start_time": "2024-07-31T15:50:38.929Z"
   },
   {
    "duration": 16,
    "start_time": "2024-07-31T15:50:38.953Z"
   },
   {
    "duration": 5,
    "start_time": "2024-07-31T15:50:38.971Z"
   },
   {
    "duration": 8,
    "start_time": "2024-07-31T15:50:38.984Z"
   },
   {
    "duration": 7,
    "start_time": "2024-07-31T15:50:38.993Z"
   },
   {
    "duration": 7,
    "start_time": "2024-07-31T15:50:39.001Z"
   },
   {
    "duration": 6,
    "start_time": "2024-07-31T15:50:39.009Z"
   },
   {
    "duration": 5,
    "start_time": "2024-07-31T15:50:39.016Z"
   },
   {
    "duration": 165,
    "start_time": "2024-07-31T15:50:39.022Z"
   },
   {
    "duration": 9,
    "start_time": "2024-07-31T15:50:39.189Z"
   },
   {
    "duration": 9,
    "start_time": "2024-07-31T15:50:39.200Z"
   },
   {
    "duration": 18,
    "start_time": "2024-07-31T15:50:39.215Z"
   },
   {
    "duration": 132,
    "start_time": "2024-07-31T15:50:39.234Z"
   },
   {
    "duration": 8,
    "start_time": "2024-07-31T15:50:39.367Z"
   },
   {
    "duration": 238,
    "start_time": "2024-07-31T15:50:39.384Z"
   },
   {
    "duration": 8,
    "start_time": "2024-07-31T15:50:39.624Z"
   },
   {
    "duration": 331,
    "start_time": "2024-07-31T15:50:39.634Z"
   },
   {
    "duration": 113,
    "start_time": "2024-07-31T15:50:39.966Z"
   },
   {
    "duration": 10,
    "start_time": "2024-07-31T15:50:40.081Z"
   },
   {
    "duration": 318,
    "start_time": "2024-07-31T15:50:40.092Z"
   },
   {
    "duration": 217,
    "start_time": "2024-07-31T15:50:40.412Z"
   },
   {
    "duration": 25,
    "start_time": "2024-07-31T15:50:40.631Z"
   },
   {
    "duration": 83,
    "start_time": "2024-07-31T15:50:40.657Z"
   },
   {
    "duration": 17,
    "start_time": "2024-07-31T15:50:40.741Z"
   },
   {
    "duration": 13,
    "start_time": "2024-07-31T15:50:40.759Z"
   },
   {
    "duration": 306,
    "start_time": "2024-07-31T15:50:40.773Z"
   },
   {
    "duration": 312,
    "start_time": "2024-07-31T15:50:41.083Z"
   },
   {
    "duration": 328,
    "start_time": "2024-07-31T15:50:41.396Z"
   },
   {
    "duration": 403,
    "start_time": "2024-07-31T15:50:41.725Z"
   },
   {
    "duration": 6,
    "start_time": "2024-07-31T15:50:42.129Z"
   },
   {
    "duration": 32,
    "start_time": "2024-07-31T15:50:42.136Z"
   },
   {
    "duration": 24,
    "start_time": "2024-07-31T15:50:42.185Z"
   },
   {
    "duration": 15,
    "start_time": "2024-07-31T15:50:42.210Z"
   },
   {
    "duration": 22,
    "start_time": "2024-07-31T15:50:56.060Z"
   },
   {
    "duration": 3,
    "start_time": "2024-07-31T15:51:00.960Z"
   },
   {
    "duration": 126,
    "start_time": "2024-07-31T15:51:00.964Z"
   },
   {
    "duration": 8,
    "start_time": "2024-07-31T15:51:01.092Z"
   },
   {
    "duration": 110,
    "start_time": "2024-07-31T15:51:01.102Z"
   },
   {
    "duration": 53,
    "start_time": "2024-07-31T15:51:01.214Z"
   },
   {
    "duration": 88,
    "start_time": "2024-07-31T15:51:01.269Z"
   },
   {
    "duration": 45,
    "start_time": "2024-07-31T15:51:01.359Z"
   },
   {
    "duration": 64,
    "start_time": "2024-07-31T15:51:01.405Z"
   },
   {
    "duration": 49,
    "start_time": "2024-07-31T15:51:01.470Z"
   },
   {
    "duration": 44,
    "start_time": "2024-07-31T15:51:01.520Z"
   },
   {
    "duration": 104,
    "start_time": "2024-07-31T15:51:01.566Z"
   },
   {
    "duration": 115,
    "start_time": "2024-07-31T15:51:01.671Z"
   },
   {
    "duration": 82,
    "start_time": "2024-07-31T15:51:01.788Z"
   },
   {
    "duration": 54,
    "start_time": "2024-07-31T15:51:01.873Z"
   },
   {
    "duration": 27,
    "start_time": "2024-07-31T15:51:01.928Z"
   },
   {
    "duration": 47,
    "start_time": "2024-07-31T15:51:01.956Z"
   },
   {
    "duration": 38,
    "start_time": "2024-07-31T15:51:02.004Z"
   },
   {
    "duration": 53,
    "start_time": "2024-07-31T15:51:02.043Z"
   },
   {
    "duration": 24,
    "start_time": "2024-07-31T15:51:02.097Z"
   },
   {
    "duration": 69,
    "start_time": "2024-07-31T15:51:02.123Z"
   },
   {
    "duration": 137,
    "start_time": "2024-07-31T15:51:02.194Z"
   },
   {
    "duration": 7,
    "start_time": "2024-07-31T15:51:02.332Z"
   },
   {
    "duration": 39,
    "start_time": "2024-07-31T15:51:02.341Z"
   },
   {
    "duration": 26,
    "start_time": "2024-07-31T15:51:02.382Z"
   },
   {
    "duration": 130,
    "start_time": "2024-07-31T15:51:02.410Z"
   },
   {
    "duration": 8,
    "start_time": "2024-07-31T15:51:02.542Z"
   },
   {
    "duration": 302,
    "start_time": "2024-07-31T15:51:02.551Z"
   },
   {
    "duration": 9,
    "start_time": "2024-07-31T15:51:02.855Z"
   },
   {
    "duration": 313,
    "start_time": "2024-07-31T15:51:02.865Z"
   },
   {
    "duration": 111,
    "start_time": "2024-07-31T15:51:03.183Z"
   },
   {
    "duration": 9,
    "start_time": "2024-07-31T15:51:03.295Z"
   },
   {
    "duration": 329,
    "start_time": "2024-07-31T15:51:03.305Z"
   },
   {
    "duration": 210,
    "start_time": "2024-07-31T15:51:03.636Z"
   },
   {
    "duration": 23,
    "start_time": "2024-07-31T15:51:03.848Z"
   },
   {
    "duration": 24,
    "start_time": "2024-07-31T15:51:03.872Z"
   },
   {
    "duration": 16,
    "start_time": "2024-07-31T15:51:03.898Z"
   },
   {
    "duration": 13,
    "start_time": "2024-07-31T15:51:03.915Z"
   },
   {
    "duration": 369,
    "start_time": "2024-07-31T15:51:03.930Z"
   },
   {
    "duration": 317,
    "start_time": "2024-07-31T15:51:04.300Z"
   },
   {
    "duration": 321,
    "start_time": "2024-07-31T15:51:04.619Z"
   },
   {
    "duration": 404,
    "start_time": "2024-07-31T15:51:04.944Z"
   },
   {
    "duration": 6,
    "start_time": "2024-07-31T15:51:05.349Z"
   },
   {
    "duration": 54,
    "start_time": "2024-07-31T15:51:05.357Z"
   },
   {
    "duration": 22,
    "start_time": "2024-07-31T15:51:05.413Z"
   },
   {
    "duration": 20,
    "start_time": "2024-07-31T15:51:05.437Z"
   },
   {
    "duration": 23,
    "start_time": "2024-07-31T15:52:46.799Z"
   },
   {
    "duration": 17,
    "start_time": "2024-07-31T15:52:56.310Z"
   },
   {
    "duration": 26,
    "start_time": "2024-07-31T15:52:58.261Z"
   },
   {
    "duration": 24,
    "start_time": "2024-07-31T15:53:16.814Z"
   },
   {
    "duration": 4,
    "start_time": "2024-07-31T15:56:31.379Z"
   },
   {
    "duration": 3,
    "start_time": "2024-07-31T15:56:39.879Z"
   },
   {
    "duration": 96,
    "start_time": "2024-07-31T15:56:39.884Z"
   },
   {
    "duration": 8,
    "start_time": "2024-07-31T15:56:39.982Z"
   },
   {
    "duration": 12,
    "start_time": "2024-07-31T15:56:39.992Z"
   },
   {
    "duration": 40,
    "start_time": "2024-07-31T15:56:40.005Z"
   },
   {
    "duration": 17,
    "start_time": "2024-07-31T15:56:40.047Z"
   },
   {
    "duration": 9,
    "start_time": "2024-07-31T15:56:40.066Z"
   },
   {
    "duration": 13,
    "start_time": "2024-07-31T15:56:40.076Z"
   },
   {
    "duration": 38,
    "start_time": "2024-07-31T15:56:40.092Z"
   },
   {
    "duration": 6,
    "start_time": "2024-07-31T15:56:40.132Z"
   },
   {
    "duration": 7,
    "start_time": "2024-07-31T15:56:40.140Z"
   },
   {
    "duration": 7,
    "start_time": "2024-07-31T15:56:40.148Z"
   },
   {
    "duration": 7,
    "start_time": "2024-07-31T15:56:40.156Z"
   },
   {
    "duration": 4,
    "start_time": "2024-07-31T15:56:40.164Z"
   },
   {
    "duration": 6,
    "start_time": "2024-07-31T15:56:40.169Z"
   },
   {
    "duration": 4,
    "start_time": "2024-07-31T15:56:40.184Z"
   },
   {
    "duration": 12,
    "start_time": "2024-07-31T15:56:40.189Z"
   },
   {
    "duration": 10,
    "start_time": "2024-07-31T15:56:40.203Z"
   },
   {
    "duration": 11,
    "start_time": "2024-07-31T15:56:40.215Z"
   },
   {
    "duration": 6,
    "start_time": "2024-07-31T15:56:40.227Z"
   },
   {
    "duration": 146,
    "start_time": "2024-07-31T15:56:40.234Z"
   },
   {
    "duration": 7,
    "start_time": "2024-07-31T15:56:40.382Z"
   },
   {
    "duration": 8,
    "start_time": "2024-07-31T15:56:40.390Z"
   },
   {
    "duration": 4,
    "start_time": "2024-07-31T15:56:40.401Z"
   },
   {
    "duration": 134,
    "start_time": "2024-07-31T15:56:40.406Z"
   },
   {
    "duration": 9,
    "start_time": "2024-07-31T15:56:40.541Z"
   },
   {
    "duration": 302,
    "start_time": "2024-07-31T15:56:40.552Z"
   },
   {
    "duration": 10,
    "start_time": "2024-07-31T15:56:40.855Z"
   },
   {
    "duration": 303,
    "start_time": "2024-07-31T15:56:40.867Z"
   },
   {
    "duration": 120,
    "start_time": "2024-07-31T15:56:41.172Z"
   },
   {
    "duration": 3,
    "start_time": "2024-07-31T15:56:41.294Z"
   },
   {
    "duration": 24,
    "start_time": "2024-07-31T15:56:41.299Z"
   },
   {
    "duration": 286,
    "start_time": "2024-07-31T15:56:41.324Z"
   },
   {
    "duration": 207,
    "start_time": "2024-07-31T15:56:41.611Z"
   },
   {
    "duration": 22,
    "start_time": "2024-07-31T15:56:41.819Z"
   },
   {
    "duration": 14,
    "start_time": "2024-07-31T15:56:41.842Z"
   },
   {
    "duration": 37,
    "start_time": "2024-07-31T15:56:41.858Z"
   },
   {
    "duration": 13,
    "start_time": "2024-07-31T15:56:41.896Z"
   },
   {
    "duration": 311,
    "start_time": "2024-07-31T15:56:41.911Z"
   },
   {
    "duration": 309,
    "start_time": "2024-07-31T15:56:42.223Z"
   },
   {
    "duration": 317,
    "start_time": "2024-07-31T15:56:42.533Z"
   },
   {
    "duration": 411,
    "start_time": "2024-07-31T15:56:42.851Z"
   },
   {
    "duration": 5,
    "start_time": "2024-07-31T15:56:43.264Z"
   },
   {
    "duration": 42,
    "start_time": "2024-07-31T15:56:43.270Z"
   },
   {
    "duration": 11,
    "start_time": "2024-07-31T15:56:43.314Z"
   },
   {
    "duration": 18,
    "start_time": "2024-07-31T15:56:43.326Z"
   },
   {
    "duration": 21,
    "start_time": "2024-07-31T15:58:32.474Z"
   },
   {
    "duration": 12,
    "start_time": "2024-07-31T16:01:24.129Z"
   },
   {
    "duration": 4,
    "start_time": "2024-07-31T16:02:13.079Z"
   },
   {
    "duration": 51,
    "start_time": "2024-07-31T16:09:42.325Z"
   },
   {
    "duration": 20,
    "start_time": "2024-07-31T16:12:29.520Z"
   },
   {
    "duration": 42,
    "start_time": "2024-07-31T16:18:51.505Z"
   },
   {
    "duration": 8,
    "start_time": "2024-07-31T16:19:00.887Z"
   },
   {
    "duration": 7,
    "start_time": "2024-07-31T16:22:12.806Z"
   },
   {
    "duration": 93,
    "start_time": "2024-07-31T16:26:55.544Z"
   },
   {
    "duration": 6,
    "start_time": "2024-07-31T16:27:10.170Z"
   },
   {
    "duration": 6,
    "start_time": "2024-07-31T16:27:25.427Z"
   },
   {
    "duration": 6,
    "start_time": "2024-07-31T16:27:31.193Z"
   },
   {
    "duration": 6,
    "start_time": "2024-07-31T16:28:03.111Z"
   },
   {
    "duration": 6,
    "start_time": "2024-07-31T16:28:08.750Z"
   },
   {
    "duration": 9,
    "start_time": "2024-07-31T16:28:18.672Z"
   },
   {
    "duration": 6,
    "start_time": "2024-07-31T16:28:45.506Z"
   },
   {
    "duration": 6,
    "start_time": "2024-07-31T16:28:48.213Z"
   },
   {
    "duration": 13,
    "start_time": "2024-07-31T16:38:50.260Z"
   },
   {
    "duration": 6,
    "start_time": "2024-07-31T16:39:08.865Z"
   },
   {
    "duration": 5,
    "start_time": "2024-07-31T16:40:54.352Z"
   },
   {
    "duration": 8,
    "start_time": "2024-07-31T16:41:35.440Z"
   },
   {
    "duration": 8,
    "start_time": "2024-07-31T16:41:56.214Z"
   },
   {
    "duration": 6,
    "start_time": "2024-07-31T16:42:46.878Z"
   },
   {
    "duration": 7,
    "start_time": "2024-07-31T16:45:08.586Z"
   },
   {
    "duration": 5,
    "start_time": "2024-07-31T16:45:10.508Z"
   },
   {
    "duration": 7,
    "start_time": "2024-07-31T16:52:41.360Z"
   },
   {
    "duration": 6,
    "start_time": "2024-07-31T16:52:47.170Z"
   },
   {
    "duration": 5,
    "start_time": "2024-07-31T16:52:48.628Z"
   },
   {
    "duration": 6,
    "start_time": "2024-07-31T16:52:54.124Z"
   },
   {
    "duration": 9,
    "start_time": "2024-07-31T16:55:22.431Z"
   },
   {
    "duration": 6,
    "start_time": "2024-07-31T16:56:11.721Z"
   },
   {
    "duration": 14,
    "start_time": "2024-07-31T16:58:17.645Z"
   },
   {
    "duration": 13,
    "start_time": "2024-07-31T16:58:24.030Z"
   },
   {
    "duration": 12,
    "start_time": "2024-07-31T16:58:32.071Z"
   },
   {
    "duration": 14,
    "start_time": "2024-07-31T16:58:35.834Z"
   },
   {
    "duration": 11,
    "start_time": "2024-07-31T16:58:39.932Z"
   },
   {
    "duration": 12,
    "start_time": "2024-07-31T16:58:44.508Z"
   },
   {
    "duration": 12,
    "start_time": "2024-07-31T16:59:49.528Z"
   },
   {
    "duration": 14,
    "start_time": "2024-07-31T17:00:35.499Z"
   },
   {
    "duration": 5,
    "start_time": "2024-07-31T17:01:52.117Z"
   },
   {
    "duration": 5,
    "start_time": "2024-07-31T17:02:03.360Z"
   },
   {
    "duration": 8,
    "start_time": "2024-07-31T17:12:08.374Z"
   },
   {
    "duration": 5,
    "start_time": "2024-07-31T17:12:10.517Z"
   },
   {
    "duration": 13,
    "start_time": "2024-07-31T17:12:16.665Z"
   },
   {
    "duration": 11,
    "start_time": "2024-07-31T17:12:38.807Z"
   },
   {
    "duration": 5,
    "start_time": "2024-07-31T17:14:47.904Z"
   },
   {
    "duration": 3,
    "start_time": "2024-08-01T06:51:47.469Z"
   },
   {
    "duration": 7,
    "start_time": "2024-08-01T07:25:48.071Z"
   },
   {
    "duration": 8,
    "start_time": "2024-08-01T07:25:53.820Z"
   },
   {
    "duration": 12,
    "start_time": "2024-08-01T07:26:35.930Z"
   },
   {
    "duration": 18,
    "start_time": "2024-08-01T07:26:37.584Z"
   },
   {
    "duration": 19,
    "start_time": "2024-08-01T07:26:39.686Z"
   },
   {
    "duration": 1072,
    "start_time": "2024-08-01T07:26:50.580Z"
   },
   {
    "duration": 81,
    "start_time": "2024-08-01T07:26:51.654Z"
   },
   {
    "duration": 11,
    "start_time": "2024-08-01T07:26:51.737Z"
   },
   {
    "duration": 12,
    "start_time": "2024-08-01T07:26:51.750Z"
   },
   {
    "duration": 24,
    "start_time": "2024-08-01T07:26:51.765Z"
   },
   {
    "duration": 26,
    "start_time": "2024-08-01T07:26:51.790Z"
   },
   {
    "duration": 21,
    "start_time": "2024-08-01T07:26:51.818Z"
   },
   {
    "duration": 24,
    "start_time": "2024-08-01T07:26:51.841Z"
   },
   {
    "duration": 40,
    "start_time": "2024-08-01T07:26:51.867Z"
   },
   {
    "duration": 7,
    "start_time": "2024-08-01T07:26:51.908Z"
   },
   {
    "duration": 6,
    "start_time": "2024-08-01T07:26:51.916Z"
   },
   {
    "duration": 6,
    "start_time": "2024-08-01T07:26:51.923Z"
   },
   {
    "duration": 37,
    "start_time": "2024-08-01T07:26:51.931Z"
   },
   {
    "duration": 7,
    "start_time": "2024-08-01T07:26:51.973Z"
   },
   {
    "duration": 66,
    "start_time": "2024-08-01T07:26:51.982Z"
   },
   {
    "duration": 7,
    "start_time": "2024-08-01T07:26:52.050Z"
   },
   {
    "duration": 11,
    "start_time": "2024-08-01T07:26:52.059Z"
   },
   {
    "duration": 32,
    "start_time": "2024-08-01T07:26:52.072Z"
   },
   {
    "duration": 18,
    "start_time": "2024-08-01T07:26:52.106Z"
   },
   {
    "duration": 37,
    "start_time": "2024-08-01T07:26:52.125Z"
   },
   {
    "duration": 171,
    "start_time": "2024-08-01T07:26:52.163Z"
   },
   {
    "duration": 8,
    "start_time": "2024-08-01T07:26:52.336Z"
   },
   {
    "duration": 7,
    "start_time": "2024-08-01T07:26:52.345Z"
   },
   {
    "duration": 26,
    "start_time": "2024-08-01T07:26:52.353Z"
   },
   {
    "duration": 143,
    "start_time": "2024-08-01T07:26:52.380Z"
   },
   {
    "duration": 8,
    "start_time": "2024-08-01T07:26:52.525Z"
   },
   {
    "duration": 264,
    "start_time": "2024-08-01T07:26:52.535Z"
   },
   {
    "duration": 8,
    "start_time": "2024-08-01T07:26:52.801Z"
   },
   {
    "duration": 314,
    "start_time": "2024-08-01T07:26:52.811Z"
   },
   {
    "duration": 128,
    "start_time": "2024-08-01T07:26:53.127Z"
   },
   {
    "duration": 4,
    "start_time": "2024-08-01T07:26:53.257Z"
   },
   {
    "duration": 11,
    "start_time": "2024-08-01T07:26:53.262Z"
   },
   {
    "duration": 383,
    "start_time": "2024-08-01T07:26:53.284Z"
   },
   {
    "duration": 123,
    "start_time": "2024-08-01T07:26:53.669Z"
   },
   {
    "duration": 24,
    "start_time": "2024-08-01T07:26:53.794Z"
   },
   {
    "duration": 14,
    "start_time": "2024-08-01T07:26:53.819Z"
   },
   {
    "duration": 16,
    "start_time": "2024-08-01T07:26:53.835Z"
   },
   {
    "duration": 36,
    "start_time": "2024-08-01T07:26:53.853Z"
   },
   {
    "duration": 324,
    "start_time": "2024-08-01T07:26:53.891Z"
   },
   {
    "duration": 9,
    "start_time": "2024-08-01T07:26:54.217Z"
   },
   {
    "duration": 327,
    "start_time": "2024-08-01T07:26:54.230Z"
   },
   {
    "duration": 9,
    "start_time": "2024-08-01T07:26:54.560Z"
   },
   {
    "duration": 325,
    "start_time": "2024-08-01T07:26:54.570Z"
   },
   {
    "duration": 412,
    "start_time": "2024-08-01T07:26:54.897Z"
   },
   {
    "duration": 7,
    "start_time": "2024-08-01T07:26:55.311Z"
   },
   {
    "duration": 43,
    "start_time": "2024-08-01T07:26:55.320Z"
   },
   {
    "duration": 28,
    "start_time": "2024-08-01T07:26:55.365Z"
   },
   {
    "duration": 19,
    "start_time": "2024-08-01T07:26:55.395Z"
   },
   {
    "duration": 21,
    "start_time": "2024-08-01T07:26:55.415Z"
   },
   {
    "duration": 7,
    "start_time": "2024-08-01T07:26:55.437Z"
   },
   {
    "duration": 24,
    "start_time": "2024-08-01T07:26:55.445Z"
   },
   {
    "duration": 9,
    "start_time": "2024-08-01T07:26:55.485Z"
   },
   {
    "duration": 14,
    "start_time": "2024-08-01T07:26:55.496Z"
   },
   {
    "duration": 16,
    "start_time": "2024-08-01T07:26:55.511Z"
   },
   {
    "duration": 145,
    "start_time": "2024-08-01T07:26:55.528Z"
   },
   {
    "duration": 13,
    "start_time": "2024-08-01T07:26:55.675Z"
   },
   {
    "duration": 380,
    "start_time": "2024-08-01T07:50:52.917Z"
   },
   {
    "duration": 1172,
    "start_time": "2024-08-01T07:51:16.053Z"
   },
   {
    "duration": 52,
    "start_time": "2024-08-01T07:51:52.521Z"
   },
   {
    "duration": 240,
    "start_time": "2024-08-01T07:52:06.058Z"
   },
   {
    "duration": 1265,
    "start_time": "2024-08-01T07:52:17.006Z"
   },
   {
    "duration": 212,
    "start_time": "2024-08-01T07:52:23.157Z"
   },
   {
    "duration": 219,
    "start_time": "2024-08-01T07:52:28.675Z"
   },
   {
    "duration": 59,
    "start_time": "2024-08-01T07:52:36.832Z"
   },
   {
    "duration": 1351,
    "start_time": "2024-08-01T07:52:44.445Z"
   },
   {
    "duration": 251,
    "start_time": "2024-08-01T07:52:57.979Z"
   },
   {
    "duration": 1356,
    "start_time": "2024-08-01T07:53:07.947Z"
   },
   {
    "duration": 1362,
    "start_time": "2024-08-01T07:55:47.209Z"
   },
   {
    "duration": 250,
    "start_time": "2024-08-01T07:57:30.863Z"
   },
   {
    "duration": 1399,
    "start_time": "2024-08-01T07:59:00.981Z"
   },
   {
    "duration": 152,
    "start_time": "2024-08-01T07:59:20.111Z"
   },
   {
    "duration": 1085,
    "start_time": "2024-08-01T07:59:24.848Z"
   },
   {
    "duration": 1507,
    "start_time": "2024-08-01T08:00:03.987Z"
   },
   {
    "duration": 7,
    "start_time": "2024-08-01T08:03:47.009Z"
   },
   {
    "duration": 3,
    "start_time": "2024-08-01T08:11:05.980Z"
   },
   {
    "duration": 59,
    "start_time": "2024-08-01T08:14:19.681Z"
   },
   {
    "duration": 44,
    "start_time": "2024-08-01T08:14:26.978Z"
   },
   {
    "duration": 3,
    "start_time": "2024-08-01T08:15:42.367Z"
   },
   {
    "duration": 4,
    "start_time": "2024-08-01T08:16:03.492Z"
   },
   {
    "duration": 4,
    "start_time": "2024-08-01T08:16:15.032Z"
   },
   {
    "duration": 4,
    "start_time": "2024-08-01T08:16:24.315Z"
   },
   {
    "duration": 11,
    "start_time": "2024-08-01T08:19:07.298Z"
   },
   {
    "duration": 1348,
    "start_time": "2024-08-01T08:19:14.296Z"
   },
   {
    "duration": 4,
    "start_time": "2024-08-01T08:19:19.449Z"
   },
   {
    "duration": 6,
    "start_time": "2024-08-01T08:19:26.038Z"
   },
   {
    "duration": 6,
    "start_time": "2024-08-01T08:19:46.895Z"
   },
   {
    "duration": 5,
    "start_time": "2024-08-01T08:21:26.315Z"
   },
   {
    "duration": 5,
    "start_time": "2024-08-01T08:21:44.085Z"
   },
   {
    "duration": 6,
    "start_time": "2024-08-01T08:39:14.537Z"
   },
   {
    "duration": 5,
    "start_time": "2024-08-01T08:40:32.394Z"
   },
   {
    "duration": 6,
    "start_time": "2024-08-01T08:41:15.202Z"
   },
   {
    "duration": 112,
    "start_time": "2024-08-01T08:44:14.759Z"
   },
   {
    "duration": 6,
    "start_time": "2024-08-01T08:45:08.915Z"
   },
   {
    "duration": 5,
    "start_time": "2024-08-01T08:45:14.669Z"
   },
   {
    "duration": 10,
    "start_time": "2024-08-01T08:46:13.260Z"
   },
   {
    "duration": 168,
    "start_time": "2024-08-01T08:46:39.855Z"
   },
   {
    "duration": 1580,
    "start_time": "2024-08-01T08:47:18.641Z"
   },
   {
    "duration": 1415,
    "start_time": "2024-08-01T08:47:38.655Z"
   },
   {
    "duration": 176,
    "start_time": "2024-08-01T08:48:09.195Z"
   },
   {
    "duration": 147,
    "start_time": "2024-08-01T08:48:25.964Z"
   },
   {
    "duration": 1431,
    "start_time": "2024-08-01T08:48:36.832Z"
   },
   {
    "duration": 156,
    "start_time": "2024-08-01T08:50:08.628Z"
   },
   {
    "duration": 1154,
    "start_time": "2024-08-01T08:50:29.815Z"
   },
   {
    "duration": 15,
    "start_time": "2024-08-01T09:22:11.892Z"
   },
   {
    "duration": 11,
    "start_time": "2024-08-01T09:22:21.134Z"
   },
   {
    "duration": 1002,
    "start_time": "2024-08-01T09:22:39.366Z"
   },
   {
    "duration": 3582,
    "start_time": "2024-08-01T09:23:03.849Z"
   },
   {
    "duration": 14,
    "start_time": "2024-08-01T09:23:57.173Z"
   },
   {
    "duration": 1497,
    "start_time": "2024-08-01T09:24:02.087Z"
   },
   {
    "duration": 1275,
    "start_time": "2024-08-01T09:26:20.490Z"
   },
   {
    "duration": 3566,
    "start_time": "2024-08-01T09:28:15.690Z"
   },
   {
    "duration": 3108,
    "start_time": "2024-08-01T09:29:23.731Z"
   },
   {
    "duration": 2116,
    "start_time": "2024-08-01T09:31:18.636Z"
   },
   {
    "duration": 3310,
    "start_time": "2024-08-01T09:31:53.353Z"
   },
   {
    "duration": 246,
    "start_time": "2024-08-01T09:32:13.076Z"
   },
   {
    "duration": 244,
    "start_time": "2024-08-01T09:32:23.453Z"
   },
   {
    "duration": 1892,
    "start_time": "2024-08-01T09:32:31.595Z"
   },
   {
    "duration": 6,
    "start_time": "2024-08-01T09:36:43.658Z"
   },
   {
    "duration": 16,
    "start_time": "2024-08-01T10:18:08.932Z"
   },
   {
    "duration": 5,
    "start_time": "2024-08-01T10:18:29.035Z"
   },
   {
    "duration": 6,
    "start_time": "2024-08-01T10:18:42.011Z"
   },
   {
    "duration": 186,
    "start_time": "2024-08-01T10:23:14.604Z"
   },
   {
    "duration": 6,
    "start_time": "2024-08-01T10:23:18.991Z"
   },
   {
    "duration": 270,
    "start_time": "2024-08-01T10:23:20.328Z"
   },
   {
    "duration": 6,
    "start_time": "2024-08-01T10:24:08.570Z"
   },
   {
    "duration": 273,
    "start_time": "2024-08-01T10:24:21.225Z"
   },
   {
    "duration": 268,
    "start_time": "2024-08-01T10:24:35.018Z"
   },
   {
    "duration": 4,
    "start_time": "2024-08-01T10:25:25.665Z"
   },
   {
    "duration": 5,
    "start_time": "2024-08-01T10:26:36.577Z"
   },
   {
    "duration": 4,
    "start_time": "2024-08-01T10:26:51.064Z"
   },
   {
    "duration": 4,
    "start_time": "2024-08-01T10:26:59.077Z"
   },
   {
    "duration": 4,
    "start_time": "2024-08-01T10:27:08.695Z"
   },
   {
    "duration": 3,
    "start_time": "2024-08-01T10:27:13.809Z"
   },
   {
    "duration": 346,
    "start_time": "2024-08-01T10:38:00.957Z"
   },
   {
    "duration": 3273,
    "start_time": "2024-08-01T10:38:11.075Z"
   },
   {
    "duration": 1609,
    "start_time": "2024-08-01T10:42:55.195Z"
   },
   {
    "duration": 334,
    "start_time": "2024-08-01T10:43:06.987Z"
   },
   {
    "duration": 4,
    "start_time": "2024-08-01T10:43:11.462Z"
   },
   {
    "duration": 275,
    "start_time": "2024-08-01T10:43:13.235Z"
   },
   {
    "duration": 2228,
    "start_time": "2024-08-01T10:43:29.722Z"
   },
   {
    "duration": 2169,
    "start_time": "2024-08-01T10:44:12.964Z"
   },
   {
    "duration": 2526,
    "start_time": "2024-08-01T10:44:19.337Z"
   },
   {
    "duration": 1018,
    "start_time": "2024-08-01T10:44:28.283Z"
   },
   {
    "duration": 2345,
    "start_time": "2024-08-01T10:44:30.020Z"
   },
   {
    "duration": 3,
    "start_time": "2024-08-01T10:44:46.911Z"
   },
   {
    "duration": 81,
    "start_time": "2024-08-01T10:44:46.916Z"
   },
   {
    "duration": 8,
    "start_time": "2024-08-01T10:44:46.998Z"
   },
   {
    "duration": 34,
    "start_time": "2024-08-01T10:44:47.008Z"
   },
   {
    "duration": 26,
    "start_time": "2024-08-01T10:44:47.043Z"
   },
   {
    "duration": 22,
    "start_time": "2024-08-01T10:44:47.070Z"
   },
   {
    "duration": 7,
    "start_time": "2024-08-01T10:44:47.093Z"
   },
   {
    "duration": 42,
    "start_time": "2024-08-01T10:44:47.102Z"
   },
   {
    "duration": 26,
    "start_time": "2024-08-01T10:44:47.147Z"
   },
   {
    "duration": 4,
    "start_time": "2024-08-01T10:44:47.175Z"
   },
   {
    "duration": 23,
    "start_time": "2024-08-01T10:44:47.181Z"
   },
   {
    "duration": 31,
    "start_time": "2024-08-01T10:44:47.206Z"
   },
   {
    "duration": 33,
    "start_time": "2024-08-01T10:44:47.239Z"
   },
   {
    "duration": 18,
    "start_time": "2024-08-01T10:44:47.274Z"
   },
   {
    "duration": 27,
    "start_time": "2024-08-01T10:44:47.293Z"
   },
   {
    "duration": 41,
    "start_time": "2024-08-01T10:44:47.321Z"
   },
   {
    "duration": 16,
    "start_time": "2024-08-01T10:44:47.363Z"
   },
   {
    "duration": 17,
    "start_time": "2024-08-01T10:44:47.381Z"
   },
   {
    "duration": 22,
    "start_time": "2024-08-01T10:44:47.400Z"
   },
   {
    "duration": 37,
    "start_time": "2024-08-01T10:44:47.423Z"
   },
   {
    "duration": 154,
    "start_time": "2024-08-01T10:44:47.461Z"
   },
   {
    "duration": 8,
    "start_time": "2024-08-01T10:44:47.616Z"
   },
   {
    "duration": 23,
    "start_time": "2024-08-01T10:44:47.625Z"
   },
   {
    "duration": 22,
    "start_time": "2024-08-01T10:44:47.652Z"
   },
   {
    "duration": 158,
    "start_time": "2024-08-01T10:44:47.676Z"
   },
   {
    "duration": 9,
    "start_time": "2024-08-01T10:44:47.836Z"
   },
   {
    "duration": 271,
    "start_time": "2024-08-01T10:44:47.846Z"
   },
   {
    "duration": 9,
    "start_time": "2024-08-01T10:44:48.118Z"
   },
   {
    "duration": 616,
    "start_time": "2024-08-01T10:44:48.129Z"
   },
   {
    "duration": 124,
    "start_time": "2024-08-01T10:44:48.747Z"
   },
   {
    "duration": 3,
    "start_time": "2024-08-01T10:44:48.873Z"
   },
   {
    "duration": 9,
    "start_time": "2024-08-01T10:44:48.884Z"
   },
   {
    "duration": 361,
    "start_time": "2024-08-01T10:44:48.894Z"
   },
   {
    "duration": 128,
    "start_time": "2024-08-01T10:44:49.256Z"
   },
   {
    "duration": 25,
    "start_time": "2024-08-01T10:44:49.385Z"
   },
   {
    "duration": 14,
    "start_time": "2024-08-01T10:44:49.411Z"
   },
   {
    "duration": 17,
    "start_time": "2024-08-01T10:44:49.426Z"
   },
   {
    "duration": 39,
    "start_time": "2024-08-01T10:44:49.445Z"
   },
   {
    "duration": 356,
    "start_time": "2024-08-01T10:44:49.486Z"
   },
   {
    "duration": 10,
    "start_time": "2024-08-01T10:44:49.844Z"
   },
   {
    "duration": 315,
    "start_time": "2024-08-01T10:44:49.855Z"
   },
   {
    "duration": 16,
    "start_time": "2024-08-01T10:44:50.172Z"
   },
   {
    "duration": 304,
    "start_time": "2024-08-01T10:44:50.189Z"
   },
   {
    "duration": 313,
    "start_time": "2024-08-01T10:44:50.495Z"
   },
   {
    "duration": 6,
    "start_time": "2024-08-01T10:44:50.810Z"
   },
   {
    "duration": 45,
    "start_time": "2024-08-01T10:44:50.817Z"
   },
   {
    "duration": 21,
    "start_time": "2024-08-01T10:44:50.863Z"
   },
   {
    "duration": 24,
    "start_time": "2024-08-01T10:44:50.885Z"
   },
   {
    "duration": 262,
    "start_time": "2024-08-01T10:44:50.911Z"
   },
   {
    "duration": 11,
    "start_time": "2024-08-01T10:44:51.175Z"
   },
   {
    "duration": 30,
    "start_time": "2024-08-01T10:44:51.188Z"
   },
   {
    "duration": 53,
    "start_time": "2024-08-01T10:44:51.219Z"
   },
   {
    "duration": 39,
    "start_time": "2024-08-01T10:44:51.273Z"
   },
   {
    "duration": 41,
    "start_time": "2024-08-01T10:44:51.314Z"
   },
   {
    "duration": 1801,
    "start_time": "2024-08-01T10:44:51.357Z"
   },
   {
    "duration": 4,
    "start_time": "2024-08-01T10:44:53.159Z"
   },
   {
    "duration": 64,
    "start_time": "2024-08-01T10:44:53.165Z"
   },
   {
    "duration": 992,
    "start_time": "2024-08-01T10:44:53.230Z"
   },
   {
    "duration": 2295,
    "start_time": "2024-08-01T10:44:54.223Z"
   },
   {
    "duration": 4,
    "start_time": "2024-08-01T10:44:56.520Z"
   },
   {
    "duration": 345,
    "start_time": "2024-08-01T10:44:56.525Z"
   },
   {
    "duration": 4,
    "start_time": "2024-08-01T10:44:56.871Z"
   },
   {
    "duration": 44,
    "start_time": "2024-08-01T10:49:03.617Z"
   },
   {
    "duration": 47,
    "start_time": "2024-08-01T10:49:13.050Z"
   },
   {
    "duration": 1876,
    "start_time": "2024-08-01T10:49:20.235Z"
   },
   {
    "duration": 56,
    "start_time": "2024-08-01T10:51:13.655Z"
   },
   {
    "duration": 1803,
    "start_time": "2024-08-01T10:51:35.730Z"
   },
   {
    "duration": 3,
    "start_time": "2024-08-01T10:51:48.289Z"
   },
   {
    "duration": 134,
    "start_time": "2024-08-01T10:51:48.293Z"
   },
   {
    "duration": 9,
    "start_time": "2024-08-01T10:51:48.430Z"
   },
   {
    "duration": 12,
    "start_time": "2024-08-01T10:51:48.441Z"
   },
   {
    "duration": 14,
    "start_time": "2024-08-01T10:51:48.455Z"
   },
   {
    "duration": 18,
    "start_time": "2024-08-01T10:51:48.471Z"
   },
   {
    "duration": 6,
    "start_time": "2024-08-01T10:51:48.491Z"
   },
   {
    "duration": 59,
    "start_time": "2024-08-01T10:51:48.499Z"
   },
   {
    "duration": 44,
    "start_time": "2024-08-01T10:51:48.560Z"
   },
   {
    "duration": 35,
    "start_time": "2024-08-01T10:51:48.606Z"
   },
   {
    "duration": 16,
    "start_time": "2024-08-01T10:51:48.645Z"
   },
   {
    "duration": 10,
    "start_time": "2024-08-01T10:51:48.663Z"
   },
   {
    "duration": 26,
    "start_time": "2024-08-01T10:51:48.674Z"
   },
   {
    "duration": 41,
    "start_time": "2024-08-01T10:51:48.702Z"
   },
   {
    "duration": 13,
    "start_time": "2024-08-01T10:51:48.744Z"
   },
   {
    "duration": 23,
    "start_time": "2024-08-01T10:51:48.759Z"
   },
   {
    "duration": 20,
    "start_time": "2024-08-01T10:51:48.784Z"
   },
   {
    "duration": 9,
    "start_time": "2024-08-01T10:51:48.806Z"
   },
   {
    "duration": 24,
    "start_time": "2024-08-01T10:51:48.817Z"
   },
   {
    "duration": 8,
    "start_time": "2024-08-01T10:51:48.842Z"
   },
   {
    "duration": 141,
    "start_time": "2024-08-01T10:51:48.852Z"
   },
   {
    "duration": 7,
    "start_time": "2024-08-01T10:51:48.994Z"
   },
   {
    "duration": 12,
    "start_time": "2024-08-01T10:51:49.002Z"
   },
   {
    "duration": 9,
    "start_time": "2024-08-01T10:51:49.015Z"
   },
   {
    "duration": 123,
    "start_time": "2024-08-01T10:51:49.025Z"
   },
   {
    "duration": 7,
    "start_time": "2024-08-01T10:51:49.150Z"
   },
   {
    "duration": 264,
    "start_time": "2024-08-01T10:51:49.159Z"
   },
   {
    "duration": 8,
    "start_time": "2024-08-01T10:51:49.425Z"
   },
   {
    "duration": 316,
    "start_time": "2024-08-01T10:51:49.437Z"
   },
   {
    "duration": 119,
    "start_time": "2024-08-01T10:51:49.754Z"
   },
   {
    "duration": 4,
    "start_time": "2024-08-01T10:51:49.874Z"
   },
   {
    "duration": 20,
    "start_time": "2024-08-01T10:51:49.884Z"
   },
   {
    "duration": 346,
    "start_time": "2024-08-01T10:51:49.906Z"
   },
   {
    "duration": 116,
    "start_time": "2024-08-01T10:51:50.253Z"
   },
   {
    "duration": 28,
    "start_time": "2024-08-01T10:51:50.371Z"
   },
   {
    "duration": 18,
    "start_time": "2024-08-01T10:51:50.400Z"
   },
   {
    "duration": 18,
    "start_time": "2024-08-01T10:51:50.420Z"
   },
   {
    "duration": 19,
    "start_time": "2024-08-01T10:51:50.439Z"
   },
   {
    "duration": 327,
    "start_time": "2024-08-01T10:51:50.459Z"
   },
   {
    "duration": 9,
    "start_time": "2024-08-01T10:51:50.788Z"
   },
   {
    "duration": 318,
    "start_time": "2024-08-01T10:51:50.798Z"
   },
   {
    "duration": 8,
    "start_time": "2024-08-01T10:51:51.118Z"
   },
   {
    "duration": 634,
    "start_time": "2024-08-01T10:51:51.128Z"
   },
   {
    "duration": 298,
    "start_time": "2024-08-01T10:51:51.764Z"
   },
   {
    "duration": 6,
    "start_time": "2024-08-01T10:51:52.064Z"
   },
   {
    "duration": 75,
    "start_time": "2024-08-01T10:51:52.083Z"
   },
   {
    "duration": 11,
    "start_time": "2024-08-01T10:51:52.159Z"
   },
   {
    "duration": 35,
    "start_time": "2024-08-01T10:51:52.172Z"
   },
   {
    "duration": 25,
    "start_time": "2024-08-01T10:51:52.209Z"
   },
   {
    "duration": 15,
    "start_time": "2024-08-01T10:51:52.236Z"
   },
   {
    "duration": 67,
    "start_time": "2024-08-01T10:51:52.252Z"
   },
   {
    "duration": 133,
    "start_time": "2024-08-01T10:51:52.320Z"
   },
   {
    "duration": 31,
    "start_time": "2024-08-01T10:51:52.455Z"
   },
   {
    "duration": 121,
    "start_time": "2024-08-01T10:51:52.488Z"
   },
   {
    "duration": 1857,
    "start_time": "2024-08-01T10:51:52.610Z"
   },
   {
    "duration": 5,
    "start_time": "2024-08-01T10:51:54.469Z"
   },
   {
    "duration": 107,
    "start_time": "2024-08-01T10:51:54.483Z"
   },
   {
    "duration": 1048,
    "start_time": "2024-08-01T10:51:54.592Z"
   },
   {
    "duration": 2362,
    "start_time": "2024-08-01T10:51:55.642Z"
   },
   {
    "duration": 5,
    "start_time": "2024-08-01T10:51:58.005Z"
   },
   {
    "duration": 442,
    "start_time": "2024-08-01T10:51:58.011Z"
   },
   {
    "duration": 3,
    "start_time": "2024-08-01T10:51:58.455Z"
   },
   {
    "duration": 1650,
    "start_time": "2024-08-01T10:54:15.849Z"
   },
   {
    "duration": 1387,
    "start_time": "2024-08-01T10:55:00.917Z"
   },
   {
    "duration": 1776,
    "start_time": "2024-08-01T10:55:05.589Z"
   },
   {
    "duration": 3474,
    "start_time": "2024-08-01T10:56:22.188Z"
   },
   {
    "duration": 1719,
    "start_time": "2024-08-01T10:56:26.906Z"
   },
   {
    "duration": 1876,
    "start_time": "2024-08-01T10:56:49.080Z"
   },
   {
    "duration": 1734,
    "start_time": "2024-08-01T10:57:10.884Z"
   },
   {
    "duration": 1825,
    "start_time": "2024-08-01T11:10:05.530Z"
   },
   {
    "duration": 1850,
    "start_time": "2024-08-01T11:11:27.797Z"
   },
   {
    "duration": 1074,
    "start_time": "2024-08-01T13:09:33.643Z"
   },
   {
    "duration": 287,
    "start_time": "2024-08-01T13:09:34.719Z"
   },
   {
    "duration": 11,
    "start_time": "2024-08-01T13:09:35.008Z"
   },
   {
    "duration": 9,
    "start_time": "2024-08-01T13:09:35.021Z"
   },
   {
    "duration": 43,
    "start_time": "2024-08-01T13:09:35.031Z"
   },
   {
    "duration": 52,
    "start_time": "2024-08-01T13:09:35.080Z"
   },
   {
    "duration": 23,
    "start_time": "2024-08-01T13:09:35.133Z"
   },
   {
    "duration": 22,
    "start_time": "2024-08-01T13:09:35.157Z"
   },
   {
    "duration": 18,
    "start_time": "2024-08-01T13:09:35.181Z"
   },
   {
    "duration": 28,
    "start_time": "2024-08-01T13:09:35.201Z"
   },
   {
    "duration": 41,
    "start_time": "2024-08-01T13:09:35.230Z"
   },
   {
    "duration": 36,
    "start_time": "2024-08-01T13:09:35.272Z"
   },
   {
    "duration": 36,
    "start_time": "2024-08-01T13:09:35.309Z"
   },
   {
    "duration": 20,
    "start_time": "2024-08-01T13:09:35.346Z"
   },
   {
    "duration": 21,
    "start_time": "2024-08-01T13:09:35.367Z"
   },
   {
    "duration": 20,
    "start_time": "2024-08-01T13:09:35.389Z"
   },
   {
    "duration": 10,
    "start_time": "2024-08-01T13:09:35.410Z"
   },
   {
    "duration": 27,
    "start_time": "2024-08-01T13:09:35.421Z"
   },
   {
    "duration": 25,
    "start_time": "2024-08-01T13:09:35.449Z"
   },
   {
    "duration": 18,
    "start_time": "2024-08-01T13:09:35.476Z"
   },
   {
    "duration": 138,
    "start_time": "2024-08-01T13:09:35.496Z"
   },
   {
    "duration": 7,
    "start_time": "2024-08-01T13:09:35.636Z"
   },
   {
    "duration": 23,
    "start_time": "2024-08-01T13:09:35.645Z"
   },
   {
    "duration": 14,
    "start_time": "2024-08-01T13:09:35.670Z"
   },
   {
    "duration": 97,
    "start_time": "2024-08-01T13:09:35.686Z"
   },
   {
    "duration": 7,
    "start_time": "2024-08-01T13:09:35.785Z"
   },
   {
    "duration": 212,
    "start_time": "2024-08-01T13:09:35.793Z"
   },
   {
    "duration": 7,
    "start_time": "2024-08-01T13:09:36.008Z"
   },
   {
    "duration": 247,
    "start_time": "2024-08-01T13:09:36.016Z"
   },
   {
    "duration": 117,
    "start_time": "2024-08-01T13:09:36.265Z"
   },
   {
    "duration": 3,
    "start_time": "2024-08-01T13:09:36.383Z"
   },
   {
    "duration": 132,
    "start_time": "2024-08-01T13:09:36.402Z"
   },
   {
    "duration": 444,
    "start_time": "2024-08-01T13:09:36.535Z"
   },
   {
    "duration": 97,
    "start_time": "2024-08-01T13:09:36.981Z"
   },
   {
    "duration": 28,
    "start_time": "2024-08-01T13:09:37.080Z"
   },
   {
    "duration": 12,
    "start_time": "2024-08-01T13:09:37.109Z"
   },
   {
    "duration": 14,
    "start_time": "2024-08-01T13:09:37.123Z"
   },
   {
    "duration": 11,
    "start_time": "2024-08-01T13:09:37.139Z"
   },
   {
    "duration": 269,
    "start_time": "2024-08-01T13:09:37.152Z"
   },
   {
    "duration": 7,
    "start_time": "2024-08-01T13:09:37.423Z"
   },
   {
    "duration": 242,
    "start_time": "2024-08-01T13:09:37.431Z"
   },
   {
    "duration": 7,
    "start_time": "2024-08-01T13:09:37.675Z"
   },
   {
    "duration": 246,
    "start_time": "2024-08-01T13:09:37.683Z"
   },
   {
    "duration": 295,
    "start_time": "2024-08-01T13:09:37.931Z"
   },
   {
    "duration": 5,
    "start_time": "2024-08-01T13:09:38.227Z"
   },
   {
    "duration": 36,
    "start_time": "2024-08-01T13:09:38.233Z"
   },
   {
    "duration": 10,
    "start_time": "2024-08-01T13:09:38.271Z"
   },
   {
    "duration": 36,
    "start_time": "2024-08-01T13:09:38.282Z"
   },
   {
    "duration": 176,
    "start_time": "2024-08-01T13:09:38.320Z"
   },
   {
    "duration": 12,
    "start_time": "2024-08-01T13:09:38.498Z"
   },
   {
    "duration": 107,
    "start_time": "2024-08-01T13:09:38.511Z"
   },
   {
    "duration": 11,
    "start_time": "2024-08-01T13:09:38.620Z"
   },
   {
    "duration": 4,
    "start_time": "2024-08-01T13:09:38.632Z"
   },
   {
    "duration": 10,
    "start_time": "2024-08-01T13:09:38.637Z"
   },
   {
    "duration": 1335,
    "start_time": "2024-08-01T13:09:38.649Z"
   },
   {
    "duration": 4,
    "start_time": "2024-08-01T13:09:39.985Z"
   },
   {
    "duration": 29,
    "start_time": "2024-08-01T13:09:39.990Z"
   },
   {
    "duration": 725,
    "start_time": "2024-08-01T13:09:40.020Z"
   },
   {
    "duration": 1701,
    "start_time": "2024-08-01T13:09:40.746Z"
   },
   {
    "duration": 3,
    "start_time": "2024-08-01T13:09:42.448Z"
   },
   {
    "duration": 334,
    "start_time": "2024-08-01T13:09:42.452Z"
   },
   {
    "duration": 3,
    "start_time": "2024-08-01T13:09:42.788Z"
   },
   {
    "duration": 4,
    "start_time": "2024-08-01T13:21:09.785Z"
   },
   {
    "duration": 995,
    "start_time": "2024-08-01T13:23:58.215Z"
   },
   {
    "duration": 66,
    "start_time": "2024-08-01T13:23:59.212Z"
   },
   {
    "duration": 13,
    "start_time": "2024-08-01T13:23:59.279Z"
   },
   {
    "duration": 35,
    "start_time": "2024-08-01T13:23:59.293Z"
   },
   {
    "duration": 12,
    "start_time": "2024-08-01T13:23:59.330Z"
   },
   {
    "duration": 12,
    "start_time": "2024-08-01T13:23:59.343Z"
   },
   {
    "duration": 6,
    "start_time": "2024-08-01T13:23:59.356Z"
   },
   {
    "duration": 10,
    "start_time": "2024-08-01T13:23:59.363Z"
   },
   {
    "duration": 6,
    "start_time": "2024-08-01T13:23:59.374Z"
   },
   {
    "duration": 4,
    "start_time": "2024-08-01T13:23:59.382Z"
   },
   {
    "duration": 4,
    "start_time": "2024-08-01T13:23:59.387Z"
   },
   {
    "duration": 5,
    "start_time": "2024-08-01T13:23:59.392Z"
   },
   {
    "duration": 8,
    "start_time": "2024-08-01T13:23:59.398Z"
   },
   {
    "duration": 14,
    "start_time": "2024-08-01T13:23:59.407Z"
   },
   {
    "duration": 20,
    "start_time": "2024-08-01T13:23:59.422Z"
   },
   {
    "duration": 7,
    "start_time": "2024-08-01T13:23:59.443Z"
   },
   {
    "duration": 8,
    "start_time": "2024-08-01T13:23:59.451Z"
   },
   {
    "duration": 10,
    "start_time": "2024-08-01T13:23:59.460Z"
   },
   {
    "duration": 18,
    "start_time": "2024-08-01T13:23:59.471Z"
   },
   {
    "duration": 22,
    "start_time": "2024-08-01T13:23:59.491Z"
   },
   {
    "duration": 132,
    "start_time": "2024-08-01T13:23:59.515Z"
   },
   {
    "duration": 6,
    "start_time": "2024-08-01T13:23:59.648Z"
   },
   {
    "duration": 18,
    "start_time": "2024-08-01T13:23:59.655Z"
   },
   {
    "duration": 4,
    "start_time": "2024-08-01T13:23:59.674Z"
   },
   {
    "duration": 98,
    "start_time": "2024-08-01T13:23:59.679Z"
   },
   {
    "duration": 6,
    "start_time": "2024-08-01T13:23:59.779Z"
   },
   {
    "duration": 203,
    "start_time": "2024-08-01T13:23:59.787Z"
   },
   {
    "duration": 8,
    "start_time": "2024-08-01T13:24:00.001Z"
   },
   {
    "duration": 312,
    "start_time": "2024-08-01T13:24:00.010Z"
   },
   {
    "duration": 112,
    "start_time": "2024-08-01T13:24:00.324Z"
   },
   {
    "duration": 213,
    "start_time": "2024-08-01T13:24:00.437Z"
   },
   {
    "duration": 35,
    "start_time": "2024-08-01T13:24:00.651Z"
   },
   {
    "duration": 329,
    "start_time": "2024-08-01T13:24:00.688Z"
   },
   {
    "duration": 98,
    "start_time": "2024-08-01T13:24:01.019Z"
   },
   {
    "duration": 20,
    "start_time": "2024-08-01T13:24:01.119Z"
   },
   {
    "duration": 119,
    "start_time": "2024-08-01T13:24:01.141Z"
   },
   {
    "duration": 52,
    "start_time": "2024-08-01T13:24:01.262Z"
   },
   {
    "duration": 40,
    "start_time": "2024-08-01T13:24:01.316Z"
   },
   {
    "duration": 329,
    "start_time": "2024-08-01T13:24:01.357Z"
   },
   {
    "duration": 14,
    "start_time": "2024-08-01T13:24:01.687Z"
   },
   {
    "duration": 300,
    "start_time": "2024-08-01T13:24:01.703Z"
   },
   {
    "duration": 7,
    "start_time": "2024-08-01T13:24:02.004Z"
   },
   {
    "duration": 252,
    "start_time": "2024-08-01T13:24:02.012Z"
   },
   {
    "duration": 304,
    "start_time": "2024-08-01T13:24:02.266Z"
   },
   {
    "duration": 6,
    "start_time": "2024-08-01T13:24:02.572Z"
   },
   {
    "duration": 113,
    "start_time": "2024-08-01T13:24:02.580Z"
   },
   {
    "duration": 12,
    "start_time": "2024-08-01T13:24:02.695Z"
   },
   {
    "duration": 15,
    "start_time": "2024-08-01T13:24:02.708Z"
   },
   {
    "duration": 16,
    "start_time": "2024-08-01T13:24:02.724Z"
   },
   {
    "duration": 32,
    "start_time": "2024-08-01T13:24:02.742Z"
   },
   {
    "duration": 14,
    "start_time": "2024-08-01T13:24:02.776Z"
   },
   {
    "duration": 17,
    "start_time": "2024-08-01T13:24:02.791Z"
   },
   {
    "duration": 10,
    "start_time": "2024-08-01T13:24:02.810Z"
   },
   {
    "duration": 13,
    "start_time": "2024-08-01T13:24:02.821Z"
   },
   {
    "duration": 1296,
    "start_time": "2024-08-01T13:24:02.836Z"
   },
   {
    "duration": 4,
    "start_time": "2024-08-01T13:24:04.133Z"
   },
   {
    "duration": 12,
    "start_time": "2024-08-01T13:24:04.138Z"
   },
   {
    "duration": 775,
    "start_time": "2024-08-01T13:24:04.151Z"
   },
   {
    "duration": 1710,
    "start_time": "2024-08-01T13:24:04.927Z"
   },
   {
    "duration": 4,
    "start_time": "2024-08-01T13:24:06.639Z"
   },
   {
    "duration": 282,
    "start_time": "2024-08-01T13:24:06.645Z"
   },
   {
    "duration": 4,
    "start_time": "2024-08-01T13:24:06.928Z"
   },
   {
    "duration": 60,
    "start_time": "2024-08-01T16:02:10.109Z"
   },
   {
    "duration": 1482,
    "start_time": "2024-08-01T16:02:16.144Z"
   },
   {
    "duration": 273,
    "start_time": "2024-08-01T16:02:17.628Z"
   },
   {
    "duration": 13,
    "start_time": "2024-08-01T16:02:17.902Z"
   },
   {
    "duration": 40,
    "start_time": "2024-08-01T16:02:17.917Z"
   },
   {
    "duration": 52,
    "start_time": "2024-08-01T16:02:17.958Z"
   },
   {
    "duration": 113,
    "start_time": "2024-08-01T16:02:18.011Z"
   },
   {
    "duration": 28,
    "start_time": "2024-08-01T16:02:18.126Z"
   },
   {
    "duration": 47,
    "start_time": "2024-08-01T16:02:18.155Z"
   },
   {
    "duration": 24,
    "start_time": "2024-08-01T16:02:18.204Z"
   },
   {
    "duration": 33,
    "start_time": "2024-08-01T16:02:18.232Z"
   },
   {
    "duration": 52,
    "start_time": "2024-08-01T16:02:18.268Z"
   },
   {
    "duration": 19,
    "start_time": "2024-08-01T16:02:18.323Z"
   },
   {
    "duration": 32,
    "start_time": "2024-08-01T16:02:18.344Z"
   },
   {
    "duration": 43,
    "start_time": "2024-08-01T16:02:18.378Z"
   },
   {
    "duration": 19,
    "start_time": "2024-08-01T16:02:18.423Z"
   },
   {
    "duration": 29,
    "start_time": "2024-08-01T16:02:18.444Z"
   },
   {
    "duration": 29,
    "start_time": "2024-08-01T16:02:18.475Z"
   },
   {
    "duration": 89,
    "start_time": "2024-08-01T16:02:18.506Z"
   },
   {
    "duration": 52,
    "start_time": "2024-08-01T16:02:18.597Z"
   },
   {
    "duration": 31,
    "start_time": "2024-08-01T16:02:18.651Z"
   },
   {
    "duration": 30,
    "start_time": "2024-08-01T16:02:18.684Z"
   },
   {
    "duration": 207,
    "start_time": "2024-08-01T16:02:18.716Z"
   },
   {
    "duration": 6,
    "start_time": "2024-08-01T16:02:18.925Z"
   },
   {
    "duration": 36,
    "start_time": "2024-08-01T16:02:18.933Z"
   },
   {
    "duration": 28,
    "start_time": "2024-08-01T16:02:18.971Z"
   },
   {
    "duration": 125,
    "start_time": "2024-08-01T16:02:19.000Z"
   },
   {
    "duration": 9,
    "start_time": "2024-08-01T16:02:19.127Z"
   },
   {
    "duration": 261,
    "start_time": "2024-08-01T16:02:19.147Z"
   },
   {
    "duration": 9,
    "start_time": "2024-08-01T16:02:19.410Z"
   },
   {
    "duration": 389,
    "start_time": "2024-08-01T16:02:19.421Z"
   },
   {
    "duration": 127,
    "start_time": "2024-08-01T16:02:19.812Z"
   },
   {
    "duration": 7,
    "start_time": "2024-08-01T16:02:19.940Z"
   },
   {
    "duration": 17,
    "start_time": "2024-08-01T16:02:19.948Z"
   },
   {
    "duration": 422,
    "start_time": "2024-08-01T16:02:19.966Z"
   },
   {
    "duration": 133,
    "start_time": "2024-08-01T16:02:20.390Z"
   },
   {
    "duration": 47,
    "start_time": "2024-08-01T16:02:20.524Z"
   },
   {
    "duration": 21,
    "start_time": "2024-08-01T16:02:20.573Z"
   },
   {
    "duration": 89,
    "start_time": "2024-08-01T16:02:20.596Z"
   },
   {
    "duration": 27,
    "start_time": "2024-08-01T16:02:20.687Z"
   },
   {
    "duration": 374,
    "start_time": "2024-08-01T16:02:20.716Z"
   },
   {
    "duration": 11,
    "start_time": "2024-08-01T16:02:21.092Z"
   },
   {
    "duration": 501,
    "start_time": "2024-08-01T16:02:21.105Z"
   },
   {
    "duration": 11,
    "start_time": "2024-08-01T16:02:21.609Z"
   },
   {
    "duration": 415,
    "start_time": "2024-08-01T16:02:21.621Z"
   },
   {
    "duration": 443,
    "start_time": "2024-08-01T16:02:22.038Z"
   },
   {
    "duration": 6,
    "start_time": "2024-08-01T16:02:22.483Z"
   },
   {
    "duration": 60,
    "start_time": "2024-08-01T16:02:22.490Z"
   },
   {
    "duration": 16,
    "start_time": "2024-08-01T16:02:22.552Z"
   },
   {
    "duration": 46,
    "start_time": "2024-08-01T16:02:22.570Z"
   },
   {
    "duration": 29,
    "start_time": "2024-08-01T16:02:22.618Z"
   },
   {
    "duration": 28,
    "start_time": "2024-08-01T16:02:22.649Z"
   },
   {
    "duration": 26,
    "start_time": "2024-08-01T16:02:22.679Z"
   },
   {
    "duration": 62,
    "start_time": "2024-08-01T16:02:22.707Z"
   },
   {
    "duration": 25,
    "start_time": "2024-08-01T16:02:22.771Z"
   },
   {
    "duration": 24,
    "start_time": "2024-08-01T16:02:22.798Z"
   },
   {
    "duration": 1837,
    "start_time": "2024-08-01T16:02:22.823Z"
   },
   {
    "duration": 4,
    "start_time": "2024-08-01T16:02:24.662Z"
   },
   {
    "duration": 31,
    "start_time": "2024-08-01T16:02:24.668Z"
   },
   {
    "duration": 994,
    "start_time": "2024-08-01T16:02:24.700Z"
   },
   {
    "duration": 2422,
    "start_time": "2024-08-01T16:02:25.696Z"
   },
   {
    "duration": 4,
    "start_time": "2024-08-01T16:02:28.120Z"
   },
   {
    "duration": 348,
    "start_time": "2024-08-01T16:02:28.125Z"
   },
   {
    "duration": 4,
    "start_time": "2024-08-01T16:02:28.474Z"
   },
   {
    "duration": 10,
    "start_time": "2024-08-01T16:11:24.446Z"
   },
   {
    "duration": 10,
    "start_time": "2024-08-01T16:12:23.435Z"
   },
   {
    "duration": 5,
    "start_time": "2024-08-01T16:14:17.845Z"
   },
   {
    "duration": 8,
    "start_time": "2024-08-01T16:14:49.963Z"
   },
   {
    "duration": 8,
    "start_time": "2024-08-01T16:15:40.361Z"
   },
   {
    "duration": 8,
    "start_time": "2024-08-01T16:15:42.213Z"
   },
   {
    "duration": 10,
    "start_time": "2024-08-01T16:16:02.062Z"
   },
   {
    "duration": 5,
    "start_time": "2024-08-01T16:16:36.384Z"
   },
   {
    "duration": 11,
    "start_time": "2024-08-01T16:17:28.487Z"
   },
   {
    "duration": 177,
    "start_time": "2024-08-01T16:19:35.812Z"
   },
   {
    "duration": 139,
    "start_time": "2024-08-01T16:19:41.882Z"
   },
   {
    "duration": 212,
    "start_time": "2024-08-01T16:24:18.214Z"
   },
   {
    "duration": 278,
    "start_time": "2024-08-01T16:24:42.691Z"
   },
   {
    "duration": 146,
    "start_time": "2024-08-01T16:25:02.269Z"
   },
   {
    "duration": 145,
    "start_time": "2024-08-01T16:26:29.454Z"
   },
   {
    "duration": 144,
    "start_time": "2024-08-01T16:26:39.273Z"
   },
   {
    "duration": 142,
    "start_time": "2024-08-01T16:27:39.791Z"
   },
   {
    "duration": 149,
    "start_time": "2024-08-01T16:27:48.703Z"
   },
   {
    "duration": 81,
    "start_time": "2024-08-01T16:28:10.364Z"
   },
   {
    "duration": 87,
    "start_time": "2024-08-01T16:31:23.330Z"
   },
   {
    "duration": 91,
    "start_time": "2024-08-01T16:31:52.013Z"
   },
   {
    "duration": 103,
    "start_time": "2024-08-01T16:32:08.988Z"
   },
   {
    "duration": 68,
    "start_time": "2024-08-01T16:32:50.210Z"
   },
   {
    "duration": 82,
    "start_time": "2024-08-01T16:32:54.871Z"
   },
   {
    "duration": 83,
    "start_time": "2024-08-01T16:34:02.143Z"
   },
   {
    "duration": 86,
    "start_time": "2024-08-01T16:34:16.548Z"
   },
   {
    "duration": 212,
    "start_time": "2024-08-01T16:34:55.648Z"
   },
   {
    "duration": 87,
    "start_time": "2024-08-01T16:35:35.440Z"
   },
   {
    "duration": 130,
    "start_time": "2024-08-01T16:36:28.830Z"
   },
   {
    "duration": 431,
    "start_time": "2024-08-01T16:36:39.619Z"
   },
   {
    "duration": 212,
    "start_time": "2024-08-01T16:36:58.080Z"
   },
   {
    "duration": 211,
    "start_time": "2024-08-01T16:37:04.431Z"
   },
   {
    "duration": 235,
    "start_time": "2024-08-01T16:37:10.651Z"
   },
   {
    "duration": 237,
    "start_time": "2024-08-01T16:38:15.547Z"
   },
   {
    "duration": 239,
    "start_time": "2024-08-01T16:38:25.742Z"
   },
   {
    "duration": 14,
    "start_time": "2024-08-01T16:39:06.957Z"
   },
   {
    "duration": 68,
    "start_time": "2024-08-01T16:39:11.741Z"
   },
   {
    "duration": 151,
    "start_time": "2024-08-01T16:39:18.581Z"
   },
   {
    "duration": 11,
    "start_time": "2024-08-01T16:39:21.846Z"
   },
   {
    "duration": 148,
    "start_time": "2024-08-01T16:41:08.496Z"
   },
   {
    "duration": 354,
    "start_time": "2024-08-01T16:41:19.477Z"
   },
   {
    "duration": 276,
    "start_time": "2024-08-01T16:42:57.763Z"
   },
   {
    "duration": 154,
    "start_time": "2024-08-01T16:43:33.765Z"
   },
   {
    "duration": 199,
    "start_time": "2024-08-01T16:44:07.474Z"
   },
   {
    "duration": 206,
    "start_time": "2024-08-01T16:46:00.842Z"
   },
   {
    "duration": 242,
    "start_time": "2024-08-01T16:46:12.629Z"
   },
   {
    "duration": 171,
    "start_time": "2024-08-01T16:46:19.190Z"
   },
   {
    "duration": 167,
    "start_time": "2024-08-01T16:46:26.818Z"
   },
   {
    "duration": 179,
    "start_time": "2024-08-01T16:47:01.130Z"
   },
   {
    "duration": 170,
    "start_time": "2024-08-01T16:47:08.288Z"
   },
   {
    "duration": 257,
    "start_time": "2024-08-01T16:47:29.574Z"
   },
   {
    "duration": 160,
    "start_time": "2024-08-01T16:47:34.934Z"
   },
   {
    "duration": 327,
    "start_time": "2024-08-01T16:47:52.080Z"
   },
   {
    "duration": 259,
    "start_time": "2024-08-01T17:16:07.494Z"
   },
   {
    "duration": 173,
    "start_time": "2024-08-01T17:16:46.232Z"
   },
   {
    "duration": 176,
    "start_time": "2024-08-01T17:17:06.676Z"
   },
   {
    "duration": 333,
    "start_time": "2024-08-01T17:17:32.265Z"
   },
   {
    "duration": 389,
    "start_time": "2024-08-01T17:18:00.133Z"
   },
   {
    "duration": 214,
    "start_time": "2024-08-01T17:18:06.290Z"
   },
   {
    "duration": 192,
    "start_time": "2024-08-01T17:18:09.885Z"
   },
   {
    "duration": 210,
    "start_time": "2024-08-01T17:18:28.395Z"
   },
   {
    "duration": 10,
    "start_time": "2024-08-01T17:19:35.848Z"
   },
   {
    "duration": 270,
    "start_time": "2024-08-01T17:20:07.630Z"
   },
   {
    "duration": 263,
    "start_time": "2024-08-01T17:20:22.934Z"
   },
   {
    "duration": 212,
    "start_time": "2024-08-01T17:23:12.708Z"
   },
   {
    "duration": 210,
    "start_time": "2024-08-01T17:23:22.493Z"
   },
   {
    "duration": 330,
    "start_time": "2024-08-01T17:23:40.778Z"
   },
   {
    "duration": 202,
    "start_time": "2024-08-01T17:24:07.664Z"
   },
   {
    "duration": 166,
    "start_time": "2024-08-01T17:24:11.414Z"
   },
   {
    "duration": 184,
    "start_time": "2024-08-01T17:24:15.542Z"
   },
   {
    "duration": 179,
    "start_time": "2024-08-01T17:24:21.322Z"
   },
   {
    "duration": 188,
    "start_time": "2024-08-01T17:24:27.664Z"
   },
   {
    "duration": 167,
    "start_time": "2024-08-01T17:24:34.119Z"
   },
   {
    "duration": 174,
    "start_time": "2024-08-01T17:24:41.087Z"
   },
   {
    "duration": 168,
    "start_time": "2024-08-01T17:24:46.721Z"
   },
   {
    "duration": 263,
    "start_time": "2024-08-01T17:24:50.358Z"
   },
   {
    "duration": 167,
    "start_time": "2024-08-01T17:24:56.806Z"
   },
   {
    "duration": 174,
    "start_time": "2024-08-01T17:25:00.214Z"
   },
   {
    "duration": 194,
    "start_time": "2024-08-01T17:25:12.001Z"
   },
   {
    "duration": 226,
    "start_time": "2024-08-01T17:26:00.218Z"
   },
   {
    "duration": 211,
    "start_time": "2024-08-01T17:26:30.611Z"
   },
   {
    "duration": 159,
    "start_time": "2024-08-01T17:26:38.985Z"
   },
   {
    "duration": 196,
    "start_time": "2024-08-01T17:26:53.422Z"
   },
   {
    "duration": 205,
    "start_time": "2024-08-01T17:27:58.023Z"
   },
   {
    "duration": 197,
    "start_time": "2024-08-01T17:28:00.303Z"
   },
   {
    "duration": 400,
    "start_time": "2024-08-01T17:30:35.465Z"
   },
   {
    "duration": 310,
    "start_time": "2024-08-01T17:30:57.496Z"
   },
   {
    "duration": 6,
    "start_time": "2024-08-01T17:31:25.832Z"
   },
   {
    "duration": 3,
    "start_time": "2024-08-01T17:31:50.874Z"
   },
   {
    "duration": 96,
    "start_time": "2024-08-01T17:31:50.879Z"
   },
   {
    "duration": 8,
    "start_time": "2024-08-01T17:31:50.977Z"
   },
   {
    "duration": 37,
    "start_time": "2024-08-01T17:31:50.987Z"
   },
   {
    "duration": 18,
    "start_time": "2024-08-01T17:31:51.025Z"
   },
   {
    "duration": 22,
    "start_time": "2024-08-01T17:31:51.045Z"
   },
   {
    "duration": 10,
    "start_time": "2024-08-01T17:31:51.068Z"
   },
   {
    "duration": 21,
    "start_time": "2024-08-01T17:31:51.080Z"
   },
   {
    "duration": 8,
    "start_time": "2024-08-01T17:31:51.105Z"
   },
   {
    "duration": 32,
    "start_time": "2024-08-01T17:31:51.114Z"
   },
   {
    "duration": 24,
    "start_time": "2024-08-01T17:31:51.147Z"
   },
   {
    "duration": 6,
    "start_time": "2024-08-01T17:31:51.173Z"
   },
   {
    "duration": 10,
    "start_time": "2024-08-01T17:31:51.181Z"
   },
   {
    "duration": 32,
    "start_time": "2024-08-01T17:31:51.192Z"
   },
   {
    "duration": 33,
    "start_time": "2024-08-01T17:31:51.226Z"
   },
   {
    "duration": 26,
    "start_time": "2024-08-01T17:31:51.261Z"
   },
   {
    "duration": 14,
    "start_time": "2024-08-01T17:31:51.289Z"
   },
   {
    "duration": 18,
    "start_time": "2024-08-01T17:31:51.305Z"
   },
   {
    "duration": 7,
    "start_time": "2024-08-01T17:31:51.325Z"
   },
   {
    "duration": 8,
    "start_time": "2024-08-01T17:31:51.334Z"
   },
   {
    "duration": 15,
    "start_time": "2024-08-01T17:31:51.344Z"
   },
   {
    "duration": 10,
    "start_time": "2024-08-01T17:31:51.361Z"
   },
   {
    "duration": 176,
    "start_time": "2024-08-01T17:31:51.374Z"
   },
   {
    "duration": 6,
    "start_time": "2024-08-01T17:31:51.553Z"
   },
   {
    "duration": 32,
    "start_time": "2024-08-01T17:31:51.561Z"
   },
   {
    "duration": 9,
    "start_time": "2024-08-01T17:31:51.594Z"
   },
   {
    "duration": 91,
    "start_time": "2024-08-01T17:31:51.605Z"
   },
   {
    "duration": 8,
    "start_time": "2024-08-01T17:31:51.698Z"
   },
   {
    "duration": 176,
    "start_time": "2024-08-01T17:31:51.708Z"
   },
   {
    "duration": 9,
    "start_time": "2024-08-01T17:31:51.885Z"
   },
   {
    "duration": 230,
    "start_time": "2024-08-01T17:31:51.896Z"
   },
   {
    "duration": 112,
    "start_time": "2024-08-01T17:31:52.127Z"
   },
   {
    "duration": 11,
    "start_time": "2024-08-01T17:31:52.241Z"
   },
   {
    "duration": 206,
    "start_time": "2024-08-01T17:31:52.253Z"
   },
   {
    "duration": 115,
    "start_time": "2024-08-01T17:31:52.460Z"
   },
   {
    "duration": 25,
    "start_time": "2024-08-01T17:31:52.576Z"
   },
   {
    "duration": 14,
    "start_time": "2024-08-01T17:31:52.602Z"
   },
   {
    "duration": 34,
    "start_time": "2024-08-01T17:31:52.618Z"
   },
   {
    "duration": 14,
    "start_time": "2024-08-01T17:31:52.654Z"
   },
   {
    "duration": 235,
    "start_time": "2024-08-01T17:31:52.669Z"
   },
   {
    "duration": 8,
    "start_time": "2024-08-01T17:31:52.905Z"
   },
   {
    "duration": 368,
    "start_time": "2024-08-01T17:31:52.915Z"
   },
   {
    "duration": 11,
    "start_time": "2024-08-01T17:31:53.285Z"
   },
   {
    "duration": 320,
    "start_time": "2024-08-01T17:31:53.298Z"
   },
   {
    "duration": 6,
    "start_time": "2024-08-01T17:31:53.620Z"
   },
   {
    "duration": 30,
    "start_time": "2024-08-01T17:34:16.820Z"
   },
   {
    "duration": 15,
    "start_time": "2024-08-01T17:34:43.701Z"
   },
   {
    "duration": 14,
    "start_time": "2024-08-01T17:35:22.994Z"
   },
   {
    "duration": 16,
    "start_time": "2024-08-01T17:35:25.512Z"
   },
   {
    "duration": 16,
    "start_time": "2024-08-01T17:35:34.717Z"
   },
   {
    "duration": 16,
    "start_time": "2024-08-01T17:35:57.606Z"
   },
   {
    "duration": 21,
    "start_time": "2024-08-01T17:36:11.462Z"
   },
   {
    "duration": 16,
    "start_time": "2024-08-01T17:36:19.514Z"
   },
   {
    "duration": 15,
    "start_time": "2024-08-01T17:36:37.097Z"
   },
   {
    "duration": 14,
    "start_time": "2024-08-01T17:37:06.447Z"
   },
   {
    "duration": 16,
    "start_time": "2024-08-01T17:37:12.989Z"
   },
   {
    "duration": 4,
    "start_time": "2024-08-01T17:37:47.503Z"
   },
   {
    "duration": 14,
    "start_time": "2024-08-01T17:37:49.915Z"
   },
   {
    "duration": 16,
    "start_time": "2024-08-01T17:37:55.624Z"
   },
   {
    "duration": 16,
    "start_time": "2024-08-01T17:39:11.221Z"
   },
   {
    "duration": 13,
    "start_time": "2024-08-01T17:43:49.232Z"
   },
   {
    "duration": 11,
    "start_time": "2024-08-01T17:44:06.683Z"
   },
   {
    "duration": 9,
    "start_time": "2024-08-01T17:44:20.178Z"
   },
   {
    "duration": 287,
    "start_time": "2024-08-01T17:44:33.054Z"
   },
   {
    "duration": 15,
    "start_time": "2024-08-01T17:44:44.026Z"
   },
   {
    "duration": 10,
    "start_time": "2024-08-01T17:44:56.210Z"
   },
   {
    "duration": 16,
    "start_time": "2024-08-01T17:45:11.029Z"
   },
   {
    "duration": 15,
    "start_time": "2024-08-01T17:45:16.989Z"
   },
   {
    "duration": 26,
    "start_time": "2024-08-01T17:45:22.037Z"
   },
   {
    "duration": 18,
    "start_time": "2024-08-01T17:45:42.360Z"
   },
   {
    "duration": 6,
    "start_time": "2024-08-01T17:48:20.428Z"
   },
   {
    "duration": 13,
    "start_time": "2024-08-01T17:49:50.844Z"
   },
   {
    "duration": 15,
    "start_time": "2024-08-01T17:53:19.476Z"
   },
   {
    "duration": 97,
    "start_time": "2024-08-01T17:53:24.742Z"
   },
   {
    "duration": 98,
    "start_time": "2024-08-01T17:53:49.933Z"
   },
   {
    "duration": 2,
    "start_time": "2024-08-01T17:54:14.543Z"
   },
   {
    "duration": 78,
    "start_time": "2024-08-01T17:54:14.547Z"
   },
   {
    "duration": 11,
    "start_time": "2024-08-01T17:54:14.627Z"
   },
   {
    "duration": 15,
    "start_time": "2024-08-01T17:54:14.640Z"
   },
   {
    "duration": 12,
    "start_time": "2024-08-01T17:54:14.657Z"
   },
   {
    "duration": 21,
    "start_time": "2024-08-01T17:54:14.670Z"
   },
   {
    "duration": 12,
    "start_time": "2024-08-01T17:54:14.693Z"
   },
   {
    "duration": 19,
    "start_time": "2024-08-01T17:54:14.706Z"
   },
   {
    "duration": 19,
    "start_time": "2024-08-01T17:54:14.727Z"
   },
   {
    "duration": 9,
    "start_time": "2024-08-01T17:54:14.747Z"
   },
   {
    "duration": 14,
    "start_time": "2024-08-01T17:54:14.758Z"
   },
   {
    "duration": 13,
    "start_time": "2024-08-01T17:54:14.774Z"
   },
   {
    "duration": 5,
    "start_time": "2024-08-01T17:54:14.789Z"
   },
   {
    "duration": 8,
    "start_time": "2024-08-01T17:54:14.797Z"
   },
   {
    "duration": 14,
    "start_time": "2024-08-01T17:54:14.807Z"
   },
   {
    "duration": 49,
    "start_time": "2024-08-01T17:54:14.822Z"
   },
   {
    "duration": 10,
    "start_time": "2024-08-01T17:54:14.872Z"
   },
   {
    "duration": 9,
    "start_time": "2024-08-01T17:54:14.883Z"
   },
   {
    "duration": 18,
    "start_time": "2024-08-01T17:54:14.893Z"
   },
   {
    "duration": 27,
    "start_time": "2024-08-01T17:54:14.912Z"
   },
   {
    "duration": 21,
    "start_time": "2024-08-01T17:54:14.940Z"
   },
   {
    "duration": 6,
    "start_time": "2024-08-01T17:54:14.963Z"
   },
   {
    "duration": 155,
    "start_time": "2024-08-01T17:54:14.970Z"
   },
   {
    "duration": 7,
    "start_time": "2024-08-01T17:54:15.126Z"
   },
   {
    "duration": 67,
    "start_time": "2024-08-01T17:54:15.135Z"
   },
   {
    "duration": 20,
    "start_time": "2024-08-01T17:54:15.204Z"
   },
   {
    "duration": 95,
    "start_time": "2024-08-01T17:54:15.226Z"
   },
   {
    "duration": 9,
    "start_time": "2024-08-01T17:54:15.323Z"
   },
   {
    "duration": 194,
    "start_time": "2024-08-01T17:54:15.333Z"
   },
   {
    "duration": 20,
    "start_time": "2024-08-01T17:54:15.529Z"
   },
   {
    "duration": 216,
    "start_time": "2024-08-01T17:54:15.550Z"
   },
   {
    "duration": 129,
    "start_time": "2024-08-01T17:54:15.767Z"
   },
   {
    "duration": 9,
    "start_time": "2024-08-01T17:54:15.898Z"
   },
   {
    "duration": 222,
    "start_time": "2024-08-01T17:54:15.909Z"
   },
   {
    "duration": 227,
    "start_time": "2024-08-01T17:54:16.133Z"
   },
   {
    "duration": 23,
    "start_time": "2024-08-01T17:54:16.362Z"
   },
   {
    "duration": 14,
    "start_time": "2024-08-01T17:54:16.387Z"
   },
   {
    "duration": 22,
    "start_time": "2024-08-01T17:54:16.403Z"
   },
   {
    "duration": 28,
    "start_time": "2024-08-01T17:54:16.427Z"
   },
   {
    "duration": 234,
    "start_time": "2024-08-01T17:54:16.457Z"
   },
   {
    "duration": 9,
    "start_time": "2024-08-01T17:54:16.694Z"
   },
   {
    "duration": 226,
    "start_time": "2024-08-01T17:54:16.704Z"
   },
   {
    "duration": 14,
    "start_time": "2024-08-01T17:54:16.932Z"
   },
   {
    "duration": 301,
    "start_time": "2024-08-01T17:54:16.948Z"
   },
   {
    "duration": 17,
    "start_time": "2024-08-01T17:54:17.251Z"
   },
   {
    "duration": 9,
    "start_time": "2024-08-01T17:54:17.270Z"
   },
   {
    "duration": 343,
    "start_time": "2024-08-01T17:54:17.280Z"
   },
   {
    "duration": 21,
    "start_time": "2024-08-01T17:54:17.625Z"
   },
   {
    "duration": 43,
    "start_time": "2024-08-01T17:54:17.648Z"
   },
   {
    "duration": 83,
    "start_time": "2024-08-01T17:54:17.693Z"
   },
   {
    "duration": 101,
    "start_time": "2024-08-01T17:54:17.778Z"
   },
   {
    "duration": 32,
    "start_time": "2024-08-01T17:58:32.851Z"
   },
   {
    "duration": 14,
    "start_time": "2024-08-01T17:58:49.497Z"
   },
   {
    "duration": 25,
    "start_time": "2024-08-01T17:59:03.058Z"
   },
   {
    "duration": 10,
    "start_time": "2024-08-01T17:59:04.952Z"
   },
   {
    "duration": 3,
    "start_time": "2024-08-01T17:59:16.375Z"
   },
   {
    "duration": 97,
    "start_time": "2024-08-01T17:59:24.191Z"
   },
   {
    "duration": 26,
    "start_time": "2024-08-01T18:00:00.870Z"
   },
   {
    "duration": 66,
    "start_time": "2024-08-01T18:01:45.767Z"
   },
   {
    "duration": 98,
    "start_time": "2024-08-01T18:02:04.814Z"
   },
   {
    "duration": 97,
    "start_time": "2024-08-01T18:02:42.700Z"
   },
   {
    "duration": 70,
    "start_time": "2024-08-01T18:03:14.768Z"
   },
   {
    "duration": 100,
    "start_time": "2024-08-01T18:03:29.806Z"
   },
   {
    "duration": 372,
    "start_time": "2024-08-01T18:03:45.802Z"
   },
   {
    "duration": 9,
    "start_time": "2024-08-01T18:04:28.968Z"
   },
   {
    "duration": 98,
    "start_time": "2024-08-01T18:04:50.151Z"
   },
   {
    "duration": 13,
    "start_time": "2024-08-01T18:09:14.887Z"
   },
   {
    "duration": 108,
    "start_time": "2024-08-01T18:09:54.959Z"
   },
   {
    "duration": 20,
    "start_time": "2024-08-01T18:09:57.305Z"
   },
   {
    "duration": 11,
    "start_time": "2024-08-01T18:09:59.098Z"
   },
   {
    "duration": 1158,
    "start_time": "2024-08-01T18:10:17.164Z"
   },
   {
    "duration": 70,
    "start_time": "2024-08-01T18:10:18.324Z"
   },
   {
    "duration": 32,
    "start_time": "2024-08-01T18:10:18.396Z"
   },
   {
    "duration": 23,
    "start_time": "2024-08-01T18:10:18.430Z"
   },
   {
    "duration": 49,
    "start_time": "2024-08-01T18:10:18.455Z"
   },
   {
    "duration": 35,
    "start_time": "2024-08-01T18:10:18.505Z"
   },
   {
    "duration": 23,
    "start_time": "2024-08-01T18:10:18.542Z"
   },
   {
    "duration": 90,
    "start_time": "2024-08-01T18:10:18.567Z"
   },
   {
    "duration": 24,
    "start_time": "2024-08-01T18:10:18.659Z"
   },
   {
    "duration": 19,
    "start_time": "2024-08-01T18:10:18.685Z"
   },
   {
    "duration": 29,
    "start_time": "2024-08-01T18:10:18.706Z"
   },
   {
    "duration": 27,
    "start_time": "2024-08-01T18:10:18.736Z"
   },
   {
    "duration": 14,
    "start_time": "2024-08-01T18:10:18.764Z"
   },
   {
    "duration": 7,
    "start_time": "2024-08-01T18:10:18.779Z"
   },
   {
    "duration": 68,
    "start_time": "2024-08-01T18:10:18.788Z"
   },
   {
    "duration": 25,
    "start_time": "2024-08-01T18:10:18.858Z"
   },
   {
    "duration": 32,
    "start_time": "2024-08-01T18:10:18.885Z"
   },
   {
    "duration": 31,
    "start_time": "2024-08-01T18:10:18.919Z"
   },
   {
    "duration": 24,
    "start_time": "2024-08-01T18:10:18.952Z"
   },
   {
    "duration": 20,
    "start_time": "2024-08-01T18:10:18.978Z"
   },
   {
    "duration": 21,
    "start_time": "2024-08-01T18:10:19.000Z"
   },
   {
    "duration": 47,
    "start_time": "2024-08-01T18:10:19.023Z"
   },
   {
    "duration": 174,
    "start_time": "2024-08-01T18:10:19.072Z"
   },
   {
    "duration": 8,
    "start_time": "2024-08-01T18:10:19.247Z"
   },
   {
    "duration": 25,
    "start_time": "2024-08-01T18:10:19.256Z"
   },
   {
    "duration": 19,
    "start_time": "2024-08-01T18:10:19.283Z"
   },
   {
    "duration": 107,
    "start_time": "2024-08-01T18:10:19.303Z"
   },
   {
    "duration": 7,
    "start_time": "2024-08-01T18:10:19.414Z"
   },
   {
    "duration": 174,
    "start_time": "2024-08-01T18:10:19.422Z"
   },
   {
    "duration": 8,
    "start_time": "2024-08-01T18:10:19.597Z"
   },
   {
    "duration": 214,
    "start_time": "2024-08-01T18:10:19.607Z"
   },
   {
    "duration": 112,
    "start_time": "2024-08-01T18:10:19.822Z"
   },
   {
    "duration": 16,
    "start_time": "2024-08-01T18:10:19.936Z"
   },
   {
    "duration": 225,
    "start_time": "2024-08-01T18:10:19.953Z"
   },
   {
    "duration": 122,
    "start_time": "2024-08-01T18:10:20.180Z"
   },
   {
    "duration": 26,
    "start_time": "2024-08-01T18:10:20.303Z"
   },
   {
    "duration": 14,
    "start_time": "2024-08-01T18:10:20.345Z"
   },
   {
    "duration": 17,
    "start_time": "2024-08-01T18:10:20.361Z"
   },
   {
    "duration": 39,
    "start_time": "2024-08-01T18:10:20.380Z"
   },
   {
    "duration": 269,
    "start_time": "2024-08-01T18:10:20.421Z"
   },
   {
    "duration": 8,
    "start_time": "2024-08-01T18:10:20.692Z"
   },
   {
    "duration": 361,
    "start_time": "2024-08-01T18:10:20.701Z"
   },
   {
    "duration": 7,
    "start_time": "2024-08-01T18:10:21.064Z"
   },
   {
    "duration": 297,
    "start_time": "2024-08-01T18:10:21.073Z"
   },
   {
    "duration": 15,
    "start_time": "2024-08-01T18:10:21.372Z"
   },
   {
    "duration": 7,
    "start_time": "2024-08-01T18:10:21.389Z"
   },
   {
    "duration": 297,
    "start_time": "2024-08-01T18:10:21.398Z"
   },
   {
    "duration": 12,
    "start_time": "2024-08-01T18:10:21.697Z"
   },
   {
    "duration": 29,
    "start_time": "2024-08-01T18:10:21.711Z"
   },
   {
    "duration": 5,
    "start_time": "2024-08-01T18:10:21.742Z"
   },
   {
    "duration": 108,
    "start_time": "2024-08-01T18:10:21.748Z"
   },
   {
    "duration": 32,
    "start_time": "2024-08-01T18:10:21.857Z"
   },
   {
    "duration": 103,
    "start_time": "2024-08-01T18:10:21.890Z"
   },
   {
    "duration": 0,
    "start_time": "2024-08-01T18:10:21.995Z"
   },
   {
    "duration": 0,
    "start_time": "2024-08-01T18:10:21.996Z"
   },
   {
    "duration": 0,
    "start_time": "2024-08-01T18:10:21.997Z"
   },
   {
    "duration": 0,
    "start_time": "2024-08-01T18:10:21.998Z"
   },
   {
    "duration": 0,
    "start_time": "2024-08-01T18:10:21.999Z"
   },
   {
    "duration": 0,
    "start_time": "2024-08-01T18:10:22.000Z"
   },
   {
    "duration": 0,
    "start_time": "2024-08-01T18:10:22.001Z"
   },
   {
    "duration": 0,
    "start_time": "2024-08-01T18:10:22.002Z"
   },
   {
    "duration": 0,
    "start_time": "2024-08-01T18:10:22.004Z"
   },
   {
    "duration": 0,
    "start_time": "2024-08-01T18:10:22.004Z"
   },
   {
    "duration": 0,
    "start_time": "2024-08-01T18:10:22.005Z"
   },
   {
    "duration": 0,
    "start_time": "2024-08-01T18:10:22.006Z"
   },
   {
    "duration": 0,
    "start_time": "2024-08-01T18:10:22.007Z"
   },
   {
    "duration": 0,
    "start_time": "2024-08-01T18:10:22.008Z"
   },
   {
    "duration": 8,
    "start_time": "2024-08-01T18:11:13.939Z"
   },
   {
    "duration": 27,
    "start_time": "2024-08-01T18:11:52.048Z"
   },
   {
    "duration": 9,
    "start_time": "2024-08-01T18:11:53.758Z"
   },
   {
    "duration": 98,
    "start_time": "2024-08-01T18:13:17.888Z"
   },
   {
    "duration": 26,
    "start_time": "2024-08-01T18:13:26.235Z"
   },
   {
    "duration": 37,
    "start_time": "2024-08-01T18:13:28.456Z"
   },
   {
    "duration": 19,
    "start_time": "2024-08-01T18:13:45.859Z"
   },
   {
    "duration": 3,
    "start_time": "2024-08-01T18:14:20.433Z"
   },
   {
    "duration": 82,
    "start_time": "2024-08-01T18:14:20.438Z"
   },
   {
    "duration": 8,
    "start_time": "2024-08-01T18:14:20.521Z"
   },
   {
    "duration": 37,
    "start_time": "2024-08-01T18:14:20.531Z"
   },
   {
    "duration": 12,
    "start_time": "2024-08-01T18:14:20.570Z"
   },
   {
    "duration": 48,
    "start_time": "2024-08-01T18:14:20.584Z"
   },
   {
    "duration": 46,
    "start_time": "2024-08-01T18:14:20.634Z"
   },
   {
    "duration": 12,
    "start_time": "2024-08-01T18:14:20.681Z"
   },
   {
    "duration": 39,
    "start_time": "2024-08-01T18:14:20.695Z"
   },
   {
    "duration": 22,
    "start_time": "2024-08-01T18:14:20.736Z"
   },
   {
    "duration": 32,
    "start_time": "2024-08-01T18:14:20.761Z"
   },
   {
    "duration": 36,
    "start_time": "2024-08-01T18:14:20.795Z"
   },
   {
    "duration": 18,
    "start_time": "2024-08-01T18:14:20.833Z"
   },
   {
    "duration": 10,
    "start_time": "2024-08-01T18:14:20.852Z"
   },
   {
    "duration": 6,
    "start_time": "2024-08-01T18:14:20.863Z"
   },
   {
    "duration": 22,
    "start_time": "2024-08-01T18:14:20.871Z"
   },
   {
    "duration": 28,
    "start_time": "2024-08-01T18:14:20.895Z"
   },
   {
    "duration": 58,
    "start_time": "2024-08-01T18:14:20.924Z"
   },
   {
    "duration": 8,
    "start_time": "2024-08-01T18:14:20.983Z"
   },
   {
    "duration": 64,
    "start_time": "2024-08-01T18:14:20.992Z"
   },
   {
    "duration": 16,
    "start_time": "2024-08-01T18:14:21.058Z"
   },
   {
    "duration": 9,
    "start_time": "2024-08-01T18:14:21.076Z"
   },
   {
    "duration": 145,
    "start_time": "2024-08-01T18:14:21.087Z"
   },
   {
    "duration": 7,
    "start_time": "2024-08-01T18:14:21.234Z"
   },
   {
    "duration": 7,
    "start_time": "2024-08-01T18:14:21.246Z"
   },
   {
    "duration": 19,
    "start_time": "2024-08-01T18:14:21.254Z"
   },
   {
    "duration": 93,
    "start_time": "2024-08-01T18:14:21.275Z"
   },
   {
    "duration": 9,
    "start_time": "2024-08-01T18:14:21.370Z"
   },
   {
    "duration": 182,
    "start_time": "2024-08-01T18:14:21.383Z"
   },
   {
    "duration": 9,
    "start_time": "2024-08-01T18:14:21.567Z"
   },
   {
    "duration": 225,
    "start_time": "2024-08-01T18:14:21.577Z"
   },
   {
    "duration": 140,
    "start_time": "2024-08-01T18:14:21.803Z"
   },
   {
    "duration": 10,
    "start_time": "2024-08-01T18:14:21.946Z"
   },
   {
    "duration": 225,
    "start_time": "2024-08-01T18:14:21.958Z"
   },
   {
    "duration": 203,
    "start_time": "2024-08-01T18:14:22.184Z"
   },
   {
    "duration": 22,
    "start_time": "2024-08-01T18:14:22.389Z"
   },
   {
    "duration": 13,
    "start_time": "2024-08-01T18:14:22.413Z"
   },
   {
    "duration": 31,
    "start_time": "2024-08-01T18:14:22.427Z"
   },
   {
    "duration": 13,
    "start_time": "2024-08-01T18:14:22.459Z"
   },
   {
    "duration": 238,
    "start_time": "2024-08-01T18:14:22.473Z"
   },
   {
    "duration": 8,
    "start_time": "2024-08-01T18:14:22.712Z"
   },
   {
    "duration": 215,
    "start_time": "2024-08-01T18:14:22.721Z"
   },
   {
    "duration": 13,
    "start_time": "2024-08-01T18:14:22.938Z"
   },
   {
    "duration": 302,
    "start_time": "2024-08-01T18:14:22.953Z"
   },
   {
    "duration": 17,
    "start_time": "2024-08-01T18:14:23.257Z"
   },
   {
    "duration": 36,
    "start_time": "2024-08-01T18:14:23.276Z"
   },
   {
    "duration": 314,
    "start_time": "2024-08-01T18:14:23.314Z"
   },
   {
    "duration": 12,
    "start_time": "2024-08-01T18:14:23.629Z"
   },
   {
    "duration": 15,
    "start_time": "2024-08-01T18:14:23.646Z"
   },
   {
    "duration": 19,
    "start_time": "2024-08-01T18:14:23.663Z"
   },
   {
    "duration": 134,
    "start_time": "2024-08-01T18:14:23.684Z"
   },
   {
    "duration": 43,
    "start_time": "2024-08-01T18:14:23.820Z"
   },
   {
    "duration": 30,
    "start_time": "2024-08-01T18:14:23.864Z"
   },
   {
    "duration": 20,
    "start_time": "2024-08-01T18:16:14.372Z"
   },
   {
    "duration": 3995,
    "start_time": "2024-08-01T18:17:33.006Z"
   },
   {
    "duration": 165,
    "start_time": "2024-08-01T18:18:13.675Z"
   },
   {
    "duration": 6,
    "start_time": "2024-08-01T18:19:45.458Z"
   },
   {
    "duration": 6,
    "start_time": "2024-08-01T18:20:09.056Z"
   },
   {
    "duration": 5,
    "start_time": "2024-08-01T18:22:27.033Z"
   },
   {
    "duration": 5,
    "start_time": "2024-08-01T18:22:50.692Z"
   },
   {
    "duration": 70,
    "start_time": "2024-08-01T18:23:11.535Z"
   },
   {
    "duration": 6,
    "start_time": "2024-08-01T18:24:26.014Z"
   },
   {
    "duration": 5,
    "start_time": "2024-08-01T18:24:42.804Z"
   },
   {
    "duration": 13,
    "start_time": "2024-08-01T18:27:13.729Z"
   },
   {
    "duration": 1178,
    "start_time": "2024-08-01T18:27:58.175Z"
   },
   {
    "duration": 70,
    "start_time": "2024-08-01T18:27:59.355Z"
   },
   {
    "duration": 12,
    "start_time": "2024-08-01T18:27:59.427Z"
   },
   {
    "duration": 11,
    "start_time": "2024-08-01T18:27:59.441Z"
   },
   {
    "duration": 10,
    "start_time": "2024-08-01T18:27:59.454Z"
   },
   {
    "duration": 12,
    "start_time": "2024-08-01T18:27:59.465Z"
   },
   {
    "duration": 10,
    "start_time": "2024-08-01T18:27:59.478Z"
   },
   {
    "duration": 10,
    "start_time": "2024-08-01T18:27:59.490Z"
   },
   {
    "duration": 11,
    "start_time": "2024-08-01T18:27:59.502Z"
   },
   {
    "duration": 32,
    "start_time": "2024-08-01T18:27:59.517Z"
   },
   {
    "duration": 11,
    "start_time": "2024-08-01T18:27:59.551Z"
   },
   {
    "duration": 11,
    "start_time": "2024-08-01T18:27:59.564Z"
   },
   {
    "duration": 6,
    "start_time": "2024-08-01T18:27:59.576Z"
   },
   {
    "duration": 65,
    "start_time": "2024-08-01T18:27:59.584Z"
   },
   {
    "duration": 9,
    "start_time": "2024-08-01T18:27:59.651Z"
   },
   {
    "duration": 15,
    "start_time": "2024-08-01T18:27:59.662Z"
   },
   {
    "duration": 30,
    "start_time": "2024-08-01T18:27:59.679Z"
   },
   {
    "duration": 62,
    "start_time": "2024-08-01T18:27:59.711Z"
   },
   {
    "duration": 23,
    "start_time": "2024-08-01T18:27:59.774Z"
   },
   {
    "duration": 21,
    "start_time": "2024-08-01T18:27:59.799Z"
   },
   {
    "duration": 35,
    "start_time": "2024-08-01T18:27:59.822Z"
   },
   {
    "duration": 5,
    "start_time": "2024-08-01T18:27:59.859Z"
   },
   {
    "duration": 224,
    "start_time": "2024-08-01T18:27:59.866Z"
   },
   {
    "duration": 10,
    "start_time": "2024-08-01T18:28:00.092Z"
   },
   {
    "duration": 61,
    "start_time": "2024-08-01T18:28:00.104Z"
   },
   {
    "duration": 699,
    "start_time": "2024-08-01T18:28:00.166Z"
   },
   {
    "duration": 149,
    "start_time": "2024-08-01T18:28:00.866Z"
   },
   {
    "duration": 160,
    "start_time": "2024-08-01T18:28:01.019Z"
   },
   {
    "duration": 687,
    "start_time": "2024-08-01T18:28:01.181Z"
   },
   {
    "duration": 9,
    "start_time": "2024-08-01T18:28:01.870Z"
   },
   {
    "duration": 241,
    "start_time": "2024-08-01T18:28:01.881Z"
   },
   {
    "duration": 117,
    "start_time": "2024-08-01T18:28:02.123Z"
   },
   {
    "duration": 8,
    "start_time": "2024-08-01T18:28:02.246Z"
   },
   {
    "duration": 303,
    "start_time": "2024-08-01T18:28:02.256Z"
   },
   {
    "duration": 129,
    "start_time": "2024-08-01T18:28:02.561Z"
   },
   {
    "duration": 32,
    "start_time": "2024-08-01T18:28:02.692Z"
   },
   {
    "duration": 72,
    "start_time": "2024-08-01T18:28:02.725Z"
   },
   {
    "duration": 45,
    "start_time": "2024-08-01T18:28:02.798Z"
   },
   {
    "duration": 25,
    "start_time": "2024-08-01T18:28:02.845Z"
   },
   {
    "duration": 242,
    "start_time": "2024-08-01T18:28:02.871Z"
   },
   {
    "duration": 9,
    "start_time": "2024-08-01T18:28:03.115Z"
   },
   {
    "duration": 342,
    "start_time": "2024-08-01T18:28:03.126Z"
   },
   {
    "duration": 7,
    "start_time": "2024-08-01T18:28:03.470Z"
   },
   {
    "duration": 292,
    "start_time": "2024-08-01T18:28:03.478Z"
   },
   {
    "duration": 15,
    "start_time": "2024-08-01T18:28:03.772Z"
   },
   {
    "duration": 8,
    "start_time": "2024-08-01T18:28:03.789Z"
   },
   {
    "duration": 295,
    "start_time": "2024-08-01T18:28:03.798Z"
   },
   {
    "duration": 11,
    "start_time": "2024-08-01T18:28:04.094Z"
   },
   {
    "duration": 6,
    "start_time": "2024-08-01T18:28:04.107Z"
   },
   {
    "duration": 4,
    "start_time": "2024-08-01T18:28:04.114Z"
   },
   {
    "duration": 119,
    "start_time": "2024-08-01T18:28:04.120Z"
   },
   {
    "duration": 45,
    "start_time": "2024-08-01T18:28:04.241Z"
   },
   {
    "duration": 31,
    "start_time": "2024-08-01T18:28:04.288Z"
   },
   {
    "duration": 38,
    "start_time": "2024-08-01T18:28:04.321Z"
   },
   {
    "duration": 172,
    "start_time": "2024-08-01T18:28:04.360Z"
   },
   {
    "duration": 9,
    "start_time": "2024-08-01T18:28:04.534Z"
   },
   {
    "duration": 24,
    "start_time": "2024-08-01T18:28:04.545Z"
   },
   {
    "duration": 480,
    "start_time": "2024-08-01T18:28:04.571Z"
   },
   {
    "duration": 0,
    "start_time": "2024-08-01T18:28:05.053Z"
   },
   {
    "duration": 0,
    "start_time": "2024-08-01T18:28:05.055Z"
   },
   {
    "duration": 0,
    "start_time": "2024-08-01T18:28:05.057Z"
   },
   {
    "duration": 0,
    "start_time": "2024-08-01T18:28:05.059Z"
   },
   {
    "duration": 0,
    "start_time": "2024-08-01T18:28:05.060Z"
   },
   {
    "duration": 0,
    "start_time": "2024-08-01T18:28:05.061Z"
   },
   {
    "duration": 0,
    "start_time": "2024-08-01T18:28:05.063Z"
   },
   {
    "duration": 15,
    "start_time": "2024-08-01T18:30:46.419Z"
   },
   {
    "duration": 12313,
    "start_time": "2024-08-01T18:30:58.332Z"
   },
   {
    "duration": 17,
    "start_time": "2024-08-01T18:31:56.137Z"
   },
   {
    "duration": 13249,
    "start_time": "2024-08-01T18:32:05.788Z"
   },
   {
    "duration": 6,
    "start_time": "2024-08-01T18:34:02.159Z"
   },
   {
    "duration": 5,
    "start_time": "2024-08-01T18:34:04.190Z"
   },
   {
    "duration": 1963,
    "start_time": "2024-08-01T18:34:08.325Z"
   },
   {
    "duration": 2,
    "start_time": "2024-08-01T18:34:56.667Z"
   },
   {
    "duration": 5,
    "start_time": "2024-08-01T18:35:04.426Z"
   },
   {
    "duration": 6,
    "start_time": "2024-08-01T18:35:06.257Z"
   },
   {
    "duration": 2303,
    "start_time": "2024-08-01T18:35:17.004Z"
   },
   {
    "duration": 6,
    "start_time": "2024-08-01T18:35:29.648Z"
   },
   {
    "duration": 296,
    "start_time": "2024-08-01T18:35:33.598Z"
   },
   {
    "duration": 4,
    "start_time": "2024-08-01T18:35:37.088Z"
   },
   {
    "duration": 10,
    "start_time": "2024-08-01T18:37:25.336Z"
   },
   {
    "duration": 9,
    "start_time": "2024-08-01T18:37:27.933Z"
   },
   {
    "duration": 12,
    "start_time": "2024-08-01T18:40:25.571Z"
   },
   {
    "duration": 18,
    "start_time": "2024-08-01T18:42:05.547Z"
   },
   {
    "duration": 8,
    "start_time": "2024-08-01T18:43:14.183Z"
   },
   {
    "duration": 9,
    "start_time": "2024-08-01T18:44:02.070Z"
   },
   {
    "duration": 3,
    "start_time": "2024-08-01T18:51:16.125Z"
   },
   {
    "duration": 104,
    "start_time": "2024-08-01T18:51:16.130Z"
   },
   {
    "duration": 8,
    "start_time": "2024-08-01T18:51:16.236Z"
   },
   {
    "duration": 18,
    "start_time": "2024-08-01T18:51:16.248Z"
   },
   {
    "duration": 9,
    "start_time": "2024-08-01T18:51:16.269Z"
   },
   {
    "duration": 11,
    "start_time": "2024-08-01T18:51:16.284Z"
   },
   {
    "duration": 8,
    "start_time": "2024-08-01T18:51:16.297Z"
   },
   {
    "duration": 13,
    "start_time": "2024-08-01T18:51:16.306Z"
   },
   {
    "duration": 8,
    "start_time": "2024-08-01T18:51:16.346Z"
   },
   {
    "duration": 34,
    "start_time": "2024-08-01T18:51:16.355Z"
   },
   {
    "duration": 35,
    "start_time": "2024-08-01T18:51:16.391Z"
   },
   {
    "duration": 10,
    "start_time": "2024-08-01T18:51:16.428Z"
   },
   {
    "duration": 9,
    "start_time": "2024-08-01T18:51:16.440Z"
   },
   {
    "duration": 33,
    "start_time": "2024-08-01T18:51:16.453Z"
   },
   {
    "duration": 26,
    "start_time": "2024-08-01T18:51:16.487Z"
   },
   {
    "duration": 19,
    "start_time": "2024-08-01T18:51:16.515Z"
   },
   {
    "duration": 5,
    "start_time": "2024-08-01T18:51:16.536Z"
   },
   {
    "duration": 17,
    "start_time": "2024-08-01T18:51:16.543Z"
   },
   {
    "duration": 14,
    "start_time": "2024-08-01T18:51:16.562Z"
   },
   {
    "duration": 14,
    "start_time": "2024-08-01T18:51:16.577Z"
   },
   {
    "duration": 18,
    "start_time": "2024-08-01T18:51:16.592Z"
   },
   {
    "duration": 7,
    "start_time": "2024-08-01T18:51:16.612Z"
   },
   {
    "duration": 170,
    "start_time": "2024-08-01T18:51:16.627Z"
   },
   {
    "duration": 7,
    "start_time": "2024-08-01T18:51:16.798Z"
   },
   {
    "duration": 14,
    "start_time": "2024-08-01T18:51:16.807Z"
   },
   {
    "duration": 13,
    "start_time": "2024-08-01T18:51:16.823Z"
   },
   {
    "duration": 116,
    "start_time": "2024-08-01T18:51:16.837Z"
   },
   {
    "duration": 14,
    "start_time": "2024-08-01T18:51:16.954Z"
   },
   {
    "duration": 218,
    "start_time": "2024-08-01T18:51:16.974Z"
   },
   {
    "duration": 10,
    "start_time": "2024-08-01T18:51:17.193Z"
   },
   {
    "duration": 248,
    "start_time": "2024-08-01T18:51:17.204Z"
   },
   {
    "duration": 296,
    "start_time": "2024-08-01T18:51:17.454Z"
   },
   {
    "duration": 8,
    "start_time": "2024-08-01T18:51:17.752Z"
   },
   {
    "duration": 237,
    "start_time": "2024-08-01T18:51:17.761Z"
   },
   {
    "duration": 131,
    "start_time": "2024-08-01T18:51:17.999Z"
   },
   {
    "duration": 36,
    "start_time": "2024-08-01T18:51:18.132Z"
   },
   {
    "duration": 14,
    "start_time": "2024-08-01T18:51:18.169Z"
   },
   {
    "duration": 36,
    "start_time": "2024-08-01T18:51:18.185Z"
   },
   {
    "duration": 21,
    "start_time": "2024-08-01T18:51:18.223Z"
   },
   {
    "duration": 265,
    "start_time": "2024-08-01T18:51:18.246Z"
   },
   {
    "duration": 9,
    "start_time": "2024-08-01T18:51:18.513Z"
   },
   {
    "duration": 282,
    "start_time": "2024-08-01T18:51:18.524Z"
   },
   {
    "duration": 9,
    "start_time": "2024-08-01T18:51:18.808Z"
   },
   {
    "duration": 369,
    "start_time": "2024-08-01T18:51:18.819Z"
   },
   {
    "duration": 16,
    "start_time": "2024-08-01T18:51:19.189Z"
   },
   {
    "duration": 15,
    "start_time": "2024-08-01T18:51:19.207Z"
   },
   {
    "duration": 321,
    "start_time": "2024-08-01T18:51:19.224Z"
   },
   {
    "duration": 16,
    "start_time": "2024-08-01T18:51:19.546Z"
   },
   {
    "duration": 9,
    "start_time": "2024-08-01T18:51:19.566Z"
   },
   {
    "duration": 12,
    "start_time": "2024-08-01T18:51:19.577Z"
   },
   {
    "duration": 6,
    "start_time": "2024-08-01T18:51:19.590Z"
   },
   {
    "duration": 17,
    "start_time": "2024-08-01T18:51:19.597Z"
   },
   {
    "duration": 125,
    "start_time": "2024-08-01T18:51:19.615Z"
   },
   {
    "duration": 43,
    "start_time": "2024-08-01T18:51:19.741Z"
   },
   {
    "duration": 31,
    "start_time": "2024-08-01T18:51:19.786Z"
   },
   {
    "duration": 34,
    "start_time": "2024-08-01T18:51:19.819Z"
   },
   {
    "duration": 9,
    "start_time": "2024-08-01T18:51:19.855Z"
   },
   {
    "duration": 8,
    "start_time": "2024-08-01T18:51:19.865Z"
   },
   {
    "duration": 19,
    "start_time": "2024-08-01T18:51:19.874Z"
   },
   {
    "duration": 15,
    "start_time": "2024-08-01T18:51:19.894Z"
   },
   {
    "duration": 20,
    "start_time": "2024-08-01T18:51:19.911Z"
   },
   {
    "duration": 8,
    "start_time": "2024-08-01T18:51:19.933Z"
   },
   {
    "duration": 1155,
    "start_time": "2024-08-01T18:51:19.946Z"
   },
   {
    "duration": 2292,
    "start_time": "2024-08-01T18:51:21.102Z"
   },
   {
    "duration": 4,
    "start_time": "2024-08-01T18:51:23.396Z"
   },
   {
    "duration": 332,
    "start_time": "2024-08-01T18:51:23.401Z"
   },
   {
    "duration": 4,
    "start_time": "2024-08-01T18:51:23.735Z"
   },
   {
    "duration": 9,
    "start_time": "2024-08-01T18:52:51.002Z"
   },
   {
    "duration": 1184,
    "start_time": "2024-08-01T18:53:40.674Z"
   },
   {
    "duration": 70,
    "start_time": "2024-08-01T18:53:41.859Z"
   },
   {
    "duration": 14,
    "start_time": "2024-08-01T18:53:41.931Z"
   },
   {
    "duration": 37,
    "start_time": "2024-08-01T18:53:41.947Z"
   },
   {
    "duration": 27,
    "start_time": "2024-08-01T18:53:41.986Z"
   },
   {
    "duration": 24,
    "start_time": "2024-08-01T18:53:42.015Z"
   },
   {
    "duration": 7,
    "start_time": "2024-08-01T18:53:42.041Z"
   },
   {
    "duration": 26,
    "start_time": "2024-08-01T18:53:42.050Z"
   },
   {
    "duration": 37,
    "start_time": "2024-08-01T18:53:42.078Z"
   },
   {
    "duration": 12,
    "start_time": "2024-08-01T18:53:42.118Z"
   },
   {
    "duration": 17,
    "start_time": "2024-08-01T18:53:42.131Z"
   },
   {
    "duration": 30,
    "start_time": "2024-08-01T18:53:42.150Z"
   },
   {
    "duration": 15,
    "start_time": "2024-08-01T18:53:42.182Z"
   },
   {
    "duration": 11,
    "start_time": "2024-08-01T18:53:42.198Z"
   },
   {
    "duration": 3,
    "start_time": "2024-08-01T18:53:42.211Z"
   },
   {
    "duration": 12,
    "start_time": "2024-08-01T18:53:42.216Z"
   },
   {
    "duration": 8,
    "start_time": "2024-08-01T18:53:42.229Z"
   },
   {
    "duration": 17,
    "start_time": "2024-08-01T18:53:42.239Z"
   },
   {
    "duration": 10,
    "start_time": "2024-08-01T18:53:42.258Z"
   },
   {
    "duration": 10,
    "start_time": "2024-08-01T18:53:42.270Z"
   },
   {
    "duration": 65,
    "start_time": "2024-08-01T18:53:42.281Z"
   },
   {
    "duration": 18,
    "start_time": "2024-08-01T18:53:42.348Z"
   },
   {
    "duration": 172,
    "start_time": "2024-08-01T18:53:42.367Z"
   },
   {
    "duration": 10,
    "start_time": "2024-08-01T18:53:42.541Z"
   },
   {
    "duration": 74,
    "start_time": "2024-08-01T18:53:42.553Z"
   },
   {
    "duration": 20,
    "start_time": "2024-08-01T18:53:42.629Z"
   },
   {
    "duration": 107,
    "start_time": "2024-08-01T18:53:42.650Z"
   },
   {
    "duration": 8,
    "start_time": "2024-08-01T18:53:42.762Z"
   },
   {
    "duration": 178,
    "start_time": "2024-08-01T18:53:42.772Z"
   },
   {
    "duration": 8,
    "start_time": "2024-08-01T18:53:42.952Z"
   },
   {
    "duration": 227,
    "start_time": "2024-08-01T18:53:42.962Z"
   },
   {
    "duration": 129,
    "start_time": "2024-08-01T18:53:43.191Z"
   },
   {
    "duration": 12,
    "start_time": "2024-08-01T18:53:43.322Z"
   },
   {
    "duration": 223,
    "start_time": "2024-08-01T18:53:43.345Z"
   },
   {
    "duration": 122,
    "start_time": "2024-08-01T18:53:43.570Z"
   },
   {
    "duration": 25,
    "start_time": "2024-08-01T18:53:43.694Z"
   },
   {
    "duration": 28,
    "start_time": "2024-08-01T18:53:43.720Z"
   },
   {
    "duration": 16,
    "start_time": "2024-08-01T18:53:43.749Z"
   },
   {
    "duration": 38,
    "start_time": "2024-08-01T18:53:43.767Z"
   },
   {
    "duration": 247,
    "start_time": "2024-08-01T18:53:43.807Z"
   },
   {
    "duration": 8,
    "start_time": "2024-08-01T18:53:44.055Z"
   },
   {
    "duration": 306,
    "start_time": "2024-08-01T18:53:44.065Z"
   },
   {
    "duration": 8,
    "start_time": "2024-08-01T18:53:44.373Z"
   },
   {
    "duration": 351,
    "start_time": "2024-08-01T18:53:44.382Z"
   },
   {
    "duration": 23,
    "start_time": "2024-08-01T18:53:44.735Z"
   },
   {
    "duration": 20,
    "start_time": "2024-08-01T18:53:44.760Z"
   },
   {
    "duration": 313,
    "start_time": "2024-08-01T18:53:44.782Z"
   },
   {
    "duration": 16,
    "start_time": "2024-08-01T18:53:45.097Z"
   },
   {
    "duration": 84,
    "start_time": "2024-08-01T18:53:45.115Z"
   },
   {
    "duration": 56,
    "start_time": "2024-08-01T18:53:45.200Z"
   },
   {
    "duration": 35,
    "start_time": "2024-08-01T18:53:45.257Z"
   },
   {
    "duration": 45,
    "start_time": "2024-08-01T18:53:45.293Z"
   },
   {
    "duration": 131,
    "start_time": "2024-08-01T18:53:45.340Z"
   },
   {
    "duration": 47,
    "start_time": "2024-08-01T18:53:45.472Z"
   },
   {
    "duration": 40,
    "start_time": "2024-08-01T18:53:45.520Z"
   },
   {
    "duration": 27,
    "start_time": "2024-08-01T18:53:45.562Z"
   },
   {
    "duration": 26,
    "start_time": "2024-08-01T18:53:45.590Z"
   },
   {
    "duration": 38,
    "start_time": "2024-08-01T18:53:45.617Z"
   },
   {
    "duration": 50,
    "start_time": "2024-08-01T18:53:45.657Z"
   },
   {
    "duration": 42,
    "start_time": "2024-08-01T18:53:45.708Z"
   },
   {
    "duration": 117,
    "start_time": "2024-08-01T18:53:45.752Z"
   },
   {
    "duration": 0,
    "start_time": "2024-08-01T18:53:45.870Z"
   },
   {
    "duration": 0,
    "start_time": "2024-08-01T18:53:45.871Z"
   },
   {
    "duration": 0,
    "start_time": "2024-08-01T18:53:45.872Z"
   },
   {
    "duration": 0,
    "start_time": "2024-08-01T18:53:45.873Z"
   },
   {
    "duration": 0,
    "start_time": "2024-08-01T18:53:45.874Z"
   },
   {
    "duration": 0,
    "start_time": "2024-08-01T18:53:45.875Z"
   },
   {
    "duration": 1139,
    "start_time": "2024-08-02T05:20:12.277Z"
   },
   {
    "duration": 70,
    "start_time": "2024-08-02T05:20:13.418Z"
   },
   {
    "duration": 12,
    "start_time": "2024-08-02T05:20:13.490Z"
   },
   {
    "duration": 27,
    "start_time": "2024-08-02T05:20:13.504Z"
   },
   {
    "duration": 20,
    "start_time": "2024-08-02T05:20:13.533Z"
   },
   {
    "duration": 20,
    "start_time": "2024-08-02T05:20:13.554Z"
   },
   {
    "duration": 7,
    "start_time": "2024-08-02T05:20:13.575Z"
   },
   {
    "duration": 28,
    "start_time": "2024-08-02T05:20:13.583Z"
   },
   {
    "duration": 21,
    "start_time": "2024-08-02T05:20:13.613Z"
   },
   {
    "duration": 19,
    "start_time": "2024-08-02T05:20:13.637Z"
   },
   {
    "duration": 8,
    "start_time": "2024-08-02T05:20:13.657Z"
   },
   {
    "duration": 6,
    "start_time": "2024-08-02T05:20:13.667Z"
   },
   {
    "duration": 6,
    "start_time": "2024-08-02T05:20:13.674Z"
   },
   {
    "duration": 33,
    "start_time": "2024-08-02T05:20:13.681Z"
   },
   {
    "duration": 12,
    "start_time": "2024-08-02T05:20:13.716Z"
   },
   {
    "duration": 6,
    "start_time": "2024-08-02T05:20:13.730Z"
   },
   {
    "duration": 12,
    "start_time": "2024-08-02T05:20:13.738Z"
   },
   {
    "duration": 8,
    "start_time": "2024-08-02T05:20:13.752Z"
   },
   {
    "duration": 6,
    "start_time": "2024-08-02T05:20:13.761Z"
   },
   {
    "duration": 5,
    "start_time": "2024-08-02T05:20:13.768Z"
   },
   {
    "duration": 10,
    "start_time": "2024-08-02T05:20:13.775Z"
   },
   {
    "duration": 5,
    "start_time": "2024-08-02T05:20:13.787Z"
   },
   {
    "duration": 206,
    "start_time": "2024-08-02T05:20:13.794Z"
   },
   {
    "duration": 10,
    "start_time": "2024-08-02T05:20:14.002Z"
   },
   {
    "duration": 298,
    "start_time": "2024-08-02T05:20:14.014Z"
   },
   {
    "duration": 33,
    "start_time": "2024-08-02T05:20:14.314Z"
   },
   {
    "duration": 105,
    "start_time": "2024-08-02T05:20:14.349Z"
   },
   {
    "duration": 8,
    "start_time": "2024-08-02T05:20:14.458Z"
   },
   {
    "duration": 179,
    "start_time": "2024-08-02T05:20:14.467Z"
   },
   {
    "duration": 9,
    "start_time": "2024-08-02T05:20:14.648Z"
   },
   {
    "duration": 217,
    "start_time": "2024-08-02T05:20:14.658Z"
   },
   {
    "duration": 113,
    "start_time": "2024-08-02T05:20:14.876Z"
   },
   {
    "duration": 8,
    "start_time": "2024-08-02T05:20:14.991Z"
   },
   {
    "duration": 212,
    "start_time": "2024-08-02T05:20:15.000Z"
   },
   {
    "duration": 122,
    "start_time": "2024-08-02T05:20:15.214Z"
   },
   {
    "duration": 32,
    "start_time": "2024-08-02T05:20:15.337Z"
   },
   {
    "duration": 33,
    "start_time": "2024-08-02T05:20:15.370Z"
   },
   {
    "duration": 42,
    "start_time": "2024-08-02T05:20:15.405Z"
   },
   {
    "duration": 13,
    "start_time": "2024-08-02T05:20:15.449Z"
   },
   {
    "duration": 232,
    "start_time": "2024-08-02T05:20:15.464Z"
   },
   {
    "duration": 8,
    "start_time": "2024-08-02T05:20:15.698Z"
   },
   {
    "duration": 298,
    "start_time": "2024-08-02T05:20:15.708Z"
   },
   {
    "duration": 8,
    "start_time": "2024-08-02T05:20:16.008Z"
   },
   {
    "duration": 355,
    "start_time": "2024-08-02T05:20:16.022Z"
   },
   {
    "duration": 17,
    "start_time": "2024-08-02T05:20:16.379Z"
   },
   {
    "duration": 12,
    "start_time": "2024-08-02T05:20:16.398Z"
   },
   {
    "duration": 315,
    "start_time": "2024-08-02T05:20:16.411Z"
   },
   {
    "duration": 11,
    "start_time": "2024-08-02T05:20:16.728Z"
   },
   {
    "duration": 8,
    "start_time": "2024-08-02T05:20:16.746Z"
   },
   {
    "duration": 8,
    "start_time": "2024-08-02T05:20:16.755Z"
   },
   {
    "duration": 8,
    "start_time": "2024-08-02T05:20:16.765Z"
   },
   {
    "duration": 4,
    "start_time": "2024-08-02T05:20:16.775Z"
   },
   {
    "duration": 121,
    "start_time": "2024-08-02T05:20:16.780Z"
   },
   {
    "duration": 57,
    "start_time": "2024-08-02T05:20:16.903Z"
   },
   {
    "duration": 30,
    "start_time": "2024-08-02T05:20:16.961Z"
   },
   {
    "duration": 18,
    "start_time": "2024-08-02T05:20:16.993Z"
   },
   {
    "duration": 5,
    "start_time": "2024-08-02T05:20:17.013Z"
   },
   {
    "duration": 30,
    "start_time": "2024-08-02T05:20:17.020Z"
   },
   {
    "duration": 16,
    "start_time": "2024-08-02T05:20:17.052Z"
   },
   {
    "duration": 19,
    "start_time": "2024-08-02T05:20:17.070Z"
   },
   {
    "duration": 136,
    "start_time": "2024-08-02T05:20:17.090Z"
   },
   {
    "duration": 0,
    "start_time": "2024-08-02T05:20:17.228Z"
   },
   {
    "duration": 0,
    "start_time": "2024-08-02T05:20:17.229Z"
   },
   {
    "duration": 0,
    "start_time": "2024-08-02T05:20:17.231Z"
   },
   {
    "duration": 0,
    "start_time": "2024-08-02T05:20:17.232Z"
   },
   {
    "duration": 0,
    "start_time": "2024-08-02T05:20:17.232Z"
   },
   {
    "duration": 0,
    "start_time": "2024-08-02T05:20:17.234Z"
   },
   {
    "duration": 6,
    "start_time": "2024-08-02T05:24:16.681Z"
   },
   {
    "duration": 4,
    "start_time": "2024-08-02T05:24:17.137Z"
   },
   {
    "duration": 1201,
    "start_time": "2024-08-02T05:28:12.815Z"
   },
   {
    "duration": 69,
    "start_time": "2024-08-02T05:28:14.017Z"
   },
   {
    "duration": 473,
    "start_time": "2024-08-02T05:28:14.088Z"
   },
   {
    "duration": 32,
    "start_time": "2024-08-02T05:28:14.564Z"
   },
   {
    "duration": 28,
    "start_time": "2024-08-02T05:28:14.598Z"
   },
   {
    "duration": 70,
    "start_time": "2024-08-02T05:28:14.628Z"
   },
   {
    "duration": 23,
    "start_time": "2024-08-02T05:28:14.699Z"
   },
   {
    "duration": 35,
    "start_time": "2024-08-02T05:28:14.723Z"
   },
   {
    "duration": 33,
    "start_time": "2024-08-02T05:28:14.759Z"
   },
   {
    "duration": 12,
    "start_time": "2024-08-02T05:28:14.794Z"
   },
   {
    "duration": 20,
    "start_time": "2024-08-02T05:28:14.807Z"
   },
   {
    "duration": 7,
    "start_time": "2024-08-02T05:28:14.829Z"
   },
   {
    "duration": 22,
    "start_time": "2024-08-02T05:28:14.838Z"
   },
   {
    "duration": 18,
    "start_time": "2024-08-02T05:28:14.862Z"
   },
   {
    "duration": 10,
    "start_time": "2024-08-02T05:28:14.882Z"
   },
   {
    "duration": 25,
    "start_time": "2024-08-02T05:28:14.894Z"
   },
   {
    "duration": 12,
    "start_time": "2024-08-02T05:28:14.921Z"
   },
   {
    "duration": 22,
    "start_time": "2024-08-02T05:28:14.935Z"
   },
   {
    "duration": 19,
    "start_time": "2024-08-02T05:28:14.959Z"
   },
   {
    "duration": 9,
    "start_time": "2024-08-02T05:28:14.980Z"
   },
   {
    "duration": 17,
    "start_time": "2024-08-02T05:28:14.991Z"
   },
   {
    "duration": 186,
    "start_time": "2024-08-02T05:28:15.009Z"
   },
   {
    "duration": 357,
    "start_time": "2024-08-02T05:28:15.196Z"
   },
   {
    "duration": 8,
    "start_time": "2024-08-02T05:28:15.554Z"
   },
   {
    "duration": 41,
    "start_time": "2024-08-02T05:28:15.563Z"
   },
   {
    "duration": 125,
    "start_time": "2024-08-02T05:28:15.606Z"
   },
   {
    "duration": 159,
    "start_time": "2024-08-02T05:28:15.732Z"
   },
   {
    "duration": 8,
    "start_time": "2024-08-02T05:28:15.894Z"
   },
   {
    "duration": 191,
    "start_time": "2024-08-02T05:28:15.903Z"
   },
   {
    "duration": 9,
    "start_time": "2024-08-02T05:28:16.095Z"
   },
   {
    "duration": 319,
    "start_time": "2024-08-02T05:28:16.105Z"
   },
   {
    "duration": 127,
    "start_time": "2024-08-02T05:28:16.425Z"
   },
   {
    "duration": 11,
    "start_time": "2024-08-02T05:28:16.554Z"
   },
   {
    "duration": 265,
    "start_time": "2024-08-02T05:28:16.566Z"
   },
   {
    "duration": 122,
    "start_time": "2024-08-02T05:28:16.833Z"
   },
   {
    "duration": 26,
    "start_time": "2024-08-02T05:28:16.957Z"
   },
   {
    "duration": 15,
    "start_time": "2024-08-02T05:28:16.985Z"
   },
   {
    "duration": 16,
    "start_time": "2024-08-02T05:28:17.001Z"
   },
   {
    "duration": 15,
    "start_time": "2024-08-02T05:28:17.045Z"
   },
   {
    "duration": 245,
    "start_time": "2024-08-02T05:28:17.063Z"
   },
   {
    "duration": 8,
    "start_time": "2024-08-02T05:28:17.310Z"
   },
   {
    "duration": 310,
    "start_time": "2024-08-02T05:28:17.319Z"
   },
   {
    "duration": 16,
    "start_time": "2024-08-02T05:28:17.631Z"
   },
   {
    "duration": 294,
    "start_time": "2024-08-02T05:28:17.648Z"
   },
   {
    "duration": 16,
    "start_time": "2024-08-02T05:28:17.945Z"
   },
   {
    "duration": 18,
    "start_time": "2024-08-02T05:28:17.963Z"
   },
   {
    "duration": 329,
    "start_time": "2024-08-02T05:28:17.983Z"
   },
   {
    "duration": 13,
    "start_time": "2024-08-02T05:28:18.314Z"
   },
   {
    "duration": 37,
    "start_time": "2024-08-02T05:28:18.328Z"
   },
   {
    "duration": 40,
    "start_time": "2024-08-02T05:28:18.368Z"
   },
   {
    "duration": 35,
    "start_time": "2024-08-02T05:28:18.410Z"
   },
   {
    "duration": 17,
    "start_time": "2024-08-02T05:28:18.447Z"
   },
   {
    "duration": 130,
    "start_time": "2024-08-02T05:28:18.465Z"
   },
   {
    "duration": 71,
    "start_time": "2024-08-02T05:28:18.597Z"
   },
   {
    "duration": 38,
    "start_time": "2024-08-02T05:28:18.671Z"
   },
   {
    "duration": 40,
    "start_time": "2024-08-02T05:28:18.712Z"
   },
   {
    "duration": 7,
    "start_time": "2024-08-02T05:28:18.754Z"
   },
   {
    "duration": 39,
    "start_time": "2024-08-02T05:28:18.764Z"
   },
   {
    "duration": 17,
    "start_time": "2024-08-02T05:28:18.805Z"
   },
   {
    "duration": 4,
    "start_time": "2024-08-02T05:28:18.824Z"
   },
   {
    "duration": 120,
    "start_time": "2024-08-02T05:28:18.829Z"
   },
   {
    "duration": 0,
    "start_time": "2024-08-02T05:28:18.951Z"
   },
   {
    "duration": 0,
    "start_time": "2024-08-02T05:28:18.952Z"
   },
   {
    "duration": 0,
    "start_time": "2024-08-02T05:28:18.954Z"
   },
   {
    "duration": 0,
    "start_time": "2024-08-02T05:28:18.956Z"
   },
   {
    "duration": 0,
    "start_time": "2024-08-02T05:28:18.957Z"
   },
   {
    "duration": 0,
    "start_time": "2024-08-02T05:28:18.959Z"
   },
   {
    "duration": 53,
    "start_time": "2024-08-02T06:03:25.560Z"
   },
   {
    "duration": 7,
    "start_time": "2024-08-02T06:03:31.963Z"
   },
   {
    "duration": 1356,
    "start_time": "2024-08-02T06:03:36.631Z"
   },
   {
    "duration": 298,
    "start_time": "2024-08-02T06:03:37.989Z"
   },
   {
    "duration": 13,
    "start_time": "2024-08-02T06:03:38.289Z"
   },
   {
    "duration": 47,
    "start_time": "2024-08-02T06:03:38.303Z"
   },
   {
    "duration": 24,
    "start_time": "2024-08-02T06:03:38.352Z"
   },
   {
    "duration": 11,
    "start_time": "2024-08-02T06:03:38.378Z"
   },
   {
    "duration": 6,
    "start_time": "2024-08-02T06:03:38.391Z"
   },
   {
    "duration": 28,
    "start_time": "2024-08-02T06:03:38.398Z"
   },
   {
    "duration": 66,
    "start_time": "2024-08-02T06:03:38.428Z"
   },
   {
    "duration": 30,
    "start_time": "2024-08-02T06:03:38.496Z"
   },
   {
    "duration": 15,
    "start_time": "2024-08-02T06:03:38.527Z"
   },
   {
    "duration": 10,
    "start_time": "2024-08-02T06:03:38.543Z"
   },
   {
    "duration": 14,
    "start_time": "2024-08-02T06:03:38.555Z"
   },
   {
    "duration": 10,
    "start_time": "2024-08-02T06:03:38.572Z"
   },
   {
    "duration": 3,
    "start_time": "2024-08-02T06:03:38.584Z"
   },
   {
    "duration": 11,
    "start_time": "2024-08-02T06:03:38.588Z"
   },
   {
    "duration": 4,
    "start_time": "2024-08-02T06:03:38.600Z"
   },
   {
    "duration": 25,
    "start_time": "2024-08-02T06:03:38.606Z"
   },
   {
    "duration": 8,
    "start_time": "2024-08-02T06:03:38.632Z"
   },
   {
    "duration": 6,
    "start_time": "2024-08-02T06:03:38.641Z"
   },
   {
    "duration": 10,
    "start_time": "2024-08-02T06:03:38.649Z"
   },
   {
    "duration": 6,
    "start_time": "2024-08-02T06:03:38.660Z"
   },
   {
    "duration": 253,
    "start_time": "2024-08-02T06:03:38.667Z"
   },
   {
    "duration": 9,
    "start_time": "2024-08-02T06:03:38.922Z"
   },
   {
    "duration": 20,
    "start_time": "2024-08-02T06:03:38.933Z"
   },
   {
    "duration": 5,
    "start_time": "2024-08-02T06:03:38.954Z"
   },
   {
    "duration": 98,
    "start_time": "2024-08-02T06:03:38.960Z"
   },
   {
    "duration": 9,
    "start_time": "2024-08-02T06:03:39.060Z"
   },
   {
    "duration": 177,
    "start_time": "2024-08-02T06:03:39.070Z"
   },
   {
    "duration": 9,
    "start_time": "2024-08-02T06:03:39.249Z"
   },
   {
    "duration": 248,
    "start_time": "2024-08-02T06:03:39.259Z"
   },
   {
    "duration": 124,
    "start_time": "2024-08-02T06:03:39.509Z"
   },
   {
    "duration": 9,
    "start_time": "2024-08-02T06:03:39.635Z"
   },
   {
    "duration": 226,
    "start_time": "2024-08-02T06:03:39.645Z"
   },
   {
    "duration": 134,
    "start_time": "2024-08-02T06:03:39.873Z"
   },
   {
    "duration": 28,
    "start_time": "2024-08-02T06:03:40.009Z"
   },
   {
    "duration": 14,
    "start_time": "2024-08-02T06:03:40.039Z"
   },
   {
    "duration": 41,
    "start_time": "2024-08-02T06:03:40.055Z"
   },
   {
    "duration": 14,
    "start_time": "2024-08-02T06:03:40.098Z"
   },
   {
    "duration": 246,
    "start_time": "2024-08-02T06:03:40.114Z"
   },
   {
    "duration": 18,
    "start_time": "2024-08-02T06:03:40.364Z"
   },
   {
    "duration": 296,
    "start_time": "2024-08-02T06:03:40.383Z"
   },
   {
    "duration": 7,
    "start_time": "2024-08-02T06:03:40.682Z"
   },
   {
    "duration": 372,
    "start_time": "2024-08-02T06:03:40.691Z"
   },
   {
    "duration": 27,
    "start_time": "2024-08-02T06:03:41.065Z"
   },
   {
    "duration": 20,
    "start_time": "2024-08-02T06:03:41.093Z"
   },
   {
    "duration": 308,
    "start_time": "2024-08-02T06:03:41.114Z"
   },
   {
    "duration": 12,
    "start_time": "2024-08-02T06:03:41.424Z"
   },
   {
    "duration": 9,
    "start_time": "2024-08-02T06:03:41.438Z"
   },
   {
    "duration": 8,
    "start_time": "2024-08-02T06:03:41.448Z"
   },
   {
    "duration": 29,
    "start_time": "2024-08-02T06:03:41.458Z"
   },
   {
    "duration": 3,
    "start_time": "2024-08-02T06:03:41.489Z"
   },
   {
    "duration": 119,
    "start_time": "2024-08-02T06:03:41.494Z"
   },
   {
    "duration": 68,
    "start_time": "2024-08-02T06:03:41.615Z"
   },
   {
    "duration": 33,
    "start_time": "2024-08-02T06:03:41.685Z"
   },
   {
    "duration": 28,
    "start_time": "2024-08-02T06:03:41.720Z"
   },
   {
    "duration": 31,
    "start_time": "2024-08-02T06:03:41.751Z"
   },
   {
    "duration": 5,
    "start_time": "2024-08-02T06:03:41.784Z"
   },
   {
    "duration": 138,
    "start_time": "2024-08-02T06:03:41.790Z"
   },
   {
    "duration": 0,
    "start_time": "2024-08-02T06:03:41.930Z"
   },
   {
    "duration": 0,
    "start_time": "2024-08-02T06:03:41.931Z"
   },
   {
    "duration": 0,
    "start_time": "2024-08-02T06:03:41.932Z"
   },
   {
    "duration": 0,
    "start_time": "2024-08-02T06:03:41.933Z"
   },
   {
    "duration": 0,
    "start_time": "2024-08-02T06:03:41.934Z"
   },
   {
    "duration": 0,
    "start_time": "2024-08-02T06:03:41.935Z"
   },
   {
    "duration": 0,
    "start_time": "2024-08-02T06:03:41.937Z"
   },
   {
    "duration": 0,
    "start_time": "2024-08-02T06:03:41.938Z"
   },
   {
    "duration": 3,
    "start_time": "2024-08-02T06:05:08.063Z"
   },
   {
    "duration": 84,
    "start_time": "2024-08-02T06:05:08.069Z"
   },
   {
    "duration": 11,
    "start_time": "2024-08-02T06:05:08.156Z"
   },
   {
    "duration": 16,
    "start_time": "2024-08-02T06:05:08.169Z"
   },
   {
    "duration": 27,
    "start_time": "2024-08-02T06:05:08.188Z"
   },
   {
    "duration": 16,
    "start_time": "2024-08-02T06:05:08.217Z"
   },
   {
    "duration": 7,
    "start_time": "2024-08-02T06:05:08.235Z"
   },
   {
    "duration": 12,
    "start_time": "2024-08-02T06:05:08.244Z"
   },
   {
    "duration": 12,
    "start_time": "2024-08-02T06:05:08.258Z"
   },
   {
    "duration": 15,
    "start_time": "2024-08-02T06:05:08.271Z"
   },
   {
    "duration": 9,
    "start_time": "2024-08-02T06:05:08.287Z"
   },
   {
    "duration": 7,
    "start_time": "2024-08-02T06:05:08.297Z"
   },
   {
    "duration": 6,
    "start_time": "2024-08-02T06:05:08.305Z"
   },
   {
    "duration": 6,
    "start_time": "2024-08-02T06:05:08.314Z"
   },
   {
    "duration": 9,
    "start_time": "2024-08-02T06:05:08.321Z"
   },
   {
    "duration": 14,
    "start_time": "2024-08-02T06:05:08.331Z"
   },
   {
    "duration": 61,
    "start_time": "2024-08-02T06:05:08.346Z"
   },
   {
    "duration": 12,
    "start_time": "2024-08-02T06:05:08.408Z"
   },
   {
    "duration": 16,
    "start_time": "2024-08-02T06:05:08.422Z"
   },
   {
    "duration": 87,
    "start_time": "2024-08-02T06:05:08.439Z"
   },
   {
    "duration": 17,
    "start_time": "2024-08-02T06:05:08.528Z"
   },
   {
    "duration": 7,
    "start_time": "2024-08-02T06:05:08.546Z"
   },
   {
    "duration": 139,
    "start_time": "2024-08-02T06:05:08.555Z"
   },
   {
    "duration": 7,
    "start_time": "2024-08-02T06:05:08.695Z"
   },
   {
    "duration": 78,
    "start_time": "2024-08-02T06:05:08.703Z"
   },
   {
    "duration": 11,
    "start_time": "2024-08-02T06:05:08.782Z"
   },
   {
    "duration": 95,
    "start_time": "2024-08-02T06:05:08.795Z"
   },
   {
    "duration": 8,
    "start_time": "2024-08-02T06:05:08.892Z"
   },
   {
    "duration": 183,
    "start_time": "2024-08-02T06:05:08.901Z"
   },
   {
    "duration": 9,
    "start_time": "2024-08-02T06:05:09.085Z"
   },
   {
    "duration": 224,
    "start_time": "2024-08-02T06:05:09.095Z"
   },
   {
    "duration": 119,
    "start_time": "2024-08-02T06:05:09.320Z"
   },
   {
    "duration": 8,
    "start_time": "2024-08-02T06:05:09.441Z"
   },
   {
    "duration": 211,
    "start_time": "2024-08-02T06:05:09.451Z"
   },
   {
    "duration": 207,
    "start_time": "2024-08-02T06:05:09.663Z"
   },
   {
    "duration": 33,
    "start_time": "2024-08-02T06:05:09.872Z"
   },
   {
    "duration": 20,
    "start_time": "2024-08-02T06:05:09.907Z"
   },
   {
    "duration": 23,
    "start_time": "2024-08-02T06:05:09.929Z"
   },
   {
    "duration": 43,
    "start_time": "2024-08-02T06:05:09.953Z"
   },
   {
    "duration": 254,
    "start_time": "2024-08-02T06:05:09.998Z"
   },
   {
    "duration": 8,
    "start_time": "2024-08-02T06:05:10.257Z"
   },
   {
    "duration": 240,
    "start_time": "2024-08-02T06:05:10.266Z"
   },
   {
    "duration": 8,
    "start_time": "2024-08-02T06:05:10.508Z"
   },
   {
    "duration": 294,
    "start_time": "2024-08-02T06:05:10.518Z"
   },
   {
    "duration": 17,
    "start_time": "2024-08-02T06:05:10.814Z"
   },
   {
    "duration": 8,
    "start_time": "2024-08-02T06:05:10.832Z"
   },
   {
    "duration": 307,
    "start_time": "2024-08-02T06:05:10.842Z"
   },
   {
    "duration": 11,
    "start_time": "2024-08-02T06:05:11.151Z"
   },
   {
    "duration": 22,
    "start_time": "2024-08-02T06:05:11.164Z"
   },
   {
    "duration": 8,
    "start_time": "2024-08-02T06:05:11.187Z"
   },
   {
    "duration": 18,
    "start_time": "2024-08-02T06:05:11.196Z"
   },
   {
    "duration": 3,
    "start_time": "2024-08-02T06:05:11.216Z"
   },
   {
    "duration": 112,
    "start_time": "2024-08-02T06:05:11.221Z"
   },
   {
    "duration": 48,
    "start_time": "2024-08-02T06:05:11.334Z"
   },
   {
    "duration": 55,
    "start_time": "2024-08-02T06:05:11.383Z"
   },
   {
    "duration": 20,
    "start_time": "2024-08-02T06:05:11.440Z"
   },
   {
    "duration": 5,
    "start_time": "2024-08-02T06:05:11.462Z"
   },
   {
    "duration": 13,
    "start_time": "2024-08-02T06:05:11.469Z"
   },
   {
    "duration": 16,
    "start_time": "2024-08-02T06:05:11.484Z"
   },
   {
    "duration": 16,
    "start_time": "2024-08-02T06:05:11.502Z"
   },
   {
    "duration": 13,
    "start_time": "2024-08-02T06:05:11.519Z"
   },
   {
    "duration": 8,
    "start_time": "2024-08-02T06:05:11.533Z"
   },
   {
    "duration": 1103,
    "start_time": "2024-08-02T06:05:11.542Z"
   },
   {
    "duration": 2264,
    "start_time": "2024-08-02T06:05:12.646Z"
   },
   {
    "duration": 5,
    "start_time": "2024-08-02T06:05:14.911Z"
   },
   {
    "duration": 311,
    "start_time": "2024-08-02T06:05:14.917Z"
   },
   {
    "duration": 4,
    "start_time": "2024-08-02T06:05:15.230Z"
   },
   {
    "duration": 73,
    "start_time": "2024-08-02T06:05:53.198Z"
   },
   {
    "duration": 6,
    "start_time": "2024-08-02T06:06:55.502Z"
   },
   {
    "duration": 1023,
    "start_time": "2024-08-02T06:07:10.376Z"
   },
   {
    "duration": 2338,
    "start_time": "2024-08-02T06:07:20.088Z"
   },
   {
    "duration": 4,
    "start_time": "2024-08-02T06:11:37.932Z"
   },
   {
    "duration": 4,
    "start_time": "2024-08-02T06:11:47.895Z"
   },
   {
    "duration": 69,
    "start_time": "2024-08-02T06:11:47.912Z"
   },
   {
    "duration": 10,
    "start_time": "2024-08-02T06:11:47.983Z"
   },
   {
    "duration": 15,
    "start_time": "2024-08-02T06:11:47.995Z"
   },
   {
    "duration": 10,
    "start_time": "2024-08-02T06:11:48.011Z"
   },
   {
    "duration": 23,
    "start_time": "2024-08-02T06:11:48.023Z"
   },
   {
    "duration": 10,
    "start_time": "2024-08-02T06:11:48.081Z"
   },
   {
    "duration": 17,
    "start_time": "2024-08-02T06:11:48.092Z"
   },
   {
    "duration": 8,
    "start_time": "2024-08-02T06:11:48.111Z"
   },
   {
    "duration": 6,
    "start_time": "2024-08-02T06:11:48.121Z"
   },
   {
    "duration": 22,
    "start_time": "2024-08-02T06:11:48.128Z"
   },
   {
    "duration": 36,
    "start_time": "2024-08-02T06:11:48.152Z"
   },
   {
    "duration": 8,
    "start_time": "2024-08-02T06:11:48.190Z"
   },
   {
    "duration": 9,
    "start_time": "2024-08-02T06:11:48.200Z"
   },
   {
    "duration": 15,
    "start_time": "2024-08-02T06:11:48.212Z"
   },
   {
    "duration": 8,
    "start_time": "2024-08-02T06:11:48.228Z"
   },
   {
    "duration": 8,
    "start_time": "2024-08-02T06:11:48.237Z"
   },
   {
    "duration": 13,
    "start_time": "2024-08-02T06:11:48.247Z"
   },
   {
    "duration": 26,
    "start_time": "2024-08-02T06:11:48.262Z"
   },
   {
    "duration": 7,
    "start_time": "2024-08-02T06:11:48.289Z"
   },
   {
    "duration": 10,
    "start_time": "2024-08-02T06:11:48.297Z"
   },
   {
    "duration": 5,
    "start_time": "2024-08-02T06:11:48.309Z"
   },
   {
    "duration": 167,
    "start_time": "2024-08-02T06:11:48.315Z"
   },
   {
    "duration": 7,
    "start_time": "2024-08-02T06:11:48.483Z"
   },
   {
    "duration": 42,
    "start_time": "2024-08-02T06:11:48.491Z"
   },
   {
    "duration": 11,
    "start_time": "2024-08-02T06:11:48.535Z"
   },
   {
    "duration": 92,
    "start_time": "2024-08-02T06:11:48.548Z"
   },
   {
    "duration": 8,
    "start_time": "2024-08-02T06:11:48.641Z"
   },
   {
    "duration": 178,
    "start_time": "2024-08-02T06:11:48.650Z"
   },
   {
    "duration": 9,
    "start_time": "2024-08-02T06:11:48.830Z"
   },
   {
    "duration": 229,
    "start_time": "2024-08-02T06:11:48.840Z"
   },
   {
    "duration": 123,
    "start_time": "2024-08-02T06:11:49.070Z"
   },
   {
    "duration": 9,
    "start_time": "2024-08-02T06:11:49.195Z"
   },
   {
    "duration": 223,
    "start_time": "2024-08-02T06:11:49.205Z"
   },
   {
    "duration": 289,
    "start_time": "2024-08-02T06:11:49.430Z"
   },
   {
    "duration": 24,
    "start_time": "2024-08-02T06:11:49.721Z"
   },
   {
    "duration": 14,
    "start_time": "2024-08-02T06:11:49.746Z"
   },
   {
    "duration": 36,
    "start_time": "2024-08-02T06:11:49.761Z"
   },
   {
    "duration": 14,
    "start_time": "2024-08-02T06:11:49.798Z"
   },
   {
    "duration": 342,
    "start_time": "2024-08-02T06:11:49.814Z"
   },
   {
    "duration": 9,
    "start_time": "2024-08-02T06:11:50.157Z"
   },
   {
    "duration": 219,
    "start_time": "2024-08-02T06:11:50.182Z"
   },
   {
    "duration": 8,
    "start_time": "2024-08-02T06:11:50.402Z"
   },
   {
    "duration": 307,
    "start_time": "2024-08-02T06:11:50.412Z"
   },
   {
    "duration": 16,
    "start_time": "2024-08-02T06:11:50.720Z"
   },
   {
    "duration": 91,
    "start_time": "2024-08-02T06:11:50.738Z"
   },
   {
    "duration": 307,
    "start_time": "2024-08-02T06:11:50.831Z"
   },
   {
    "duration": 12,
    "start_time": "2024-08-02T06:11:51.140Z"
   },
   {
    "duration": 17,
    "start_time": "2024-08-02T06:11:51.154Z"
   },
   {
    "duration": 15,
    "start_time": "2024-08-02T06:11:51.173Z"
   },
   {
    "duration": 6,
    "start_time": "2024-08-02T06:11:51.190Z"
   },
   {
    "duration": 5,
    "start_time": "2024-08-02T06:11:51.198Z"
   },
   {
    "duration": 126,
    "start_time": "2024-08-02T06:11:51.205Z"
   },
   {
    "duration": 36,
    "start_time": "2024-08-02T06:11:51.333Z"
   },
   {
    "duration": 100,
    "start_time": "2024-08-02T06:11:51.381Z"
   },
   {
    "duration": 22,
    "start_time": "2024-08-02T06:11:51.483Z"
   },
   {
    "duration": 9,
    "start_time": "2024-08-02T06:11:51.506Z"
   },
   {
    "duration": 7,
    "start_time": "2024-08-02T06:11:51.517Z"
   },
   {
    "duration": 19,
    "start_time": "2024-08-02T06:11:51.526Z"
   },
   {
    "duration": 49,
    "start_time": "2024-08-02T06:11:51.547Z"
   },
   {
    "duration": 9,
    "start_time": "2024-08-02T06:11:51.598Z"
   },
   {
    "duration": 19,
    "start_time": "2024-08-02T06:11:51.609Z"
   },
   {
    "duration": 1164,
    "start_time": "2024-08-02T06:11:51.630Z"
   },
   {
    "duration": 2257,
    "start_time": "2024-08-02T06:11:52.796Z"
   },
   {
    "duration": 5,
    "start_time": "2024-08-02T06:11:55.054Z"
   },
   {
    "duration": 354,
    "start_time": "2024-08-02T06:11:55.060Z"
   },
   {
    "duration": 4,
    "start_time": "2024-08-02T06:11:55.416Z"
   },
   {
    "duration": 1159,
    "start_time": "2024-08-02T06:13:23.092Z"
   },
   {
    "duration": 73,
    "start_time": "2024-08-02T06:13:24.253Z"
   },
   {
    "duration": 13,
    "start_time": "2024-08-02T06:13:24.328Z"
   },
   {
    "duration": 11,
    "start_time": "2024-08-02T06:13:24.344Z"
   },
   {
    "duration": 19,
    "start_time": "2024-08-02T06:13:24.358Z"
   },
   {
    "duration": 14,
    "start_time": "2024-08-02T06:13:24.379Z"
   },
   {
    "duration": 7,
    "start_time": "2024-08-02T06:13:24.395Z"
   },
   {
    "duration": 14,
    "start_time": "2024-08-02T06:13:24.404Z"
   },
   {
    "duration": 9,
    "start_time": "2024-08-02T06:13:24.420Z"
   },
   {
    "duration": 6,
    "start_time": "2024-08-02T06:13:24.431Z"
   },
   {
    "duration": 22,
    "start_time": "2024-08-02T06:13:24.438Z"
   },
   {
    "duration": 24,
    "start_time": "2024-08-02T06:13:24.462Z"
   },
   {
    "duration": 44,
    "start_time": "2024-08-02T06:13:24.487Z"
   },
   {
    "duration": 13,
    "start_time": "2024-08-02T06:13:24.534Z"
   },
   {
    "duration": 8,
    "start_time": "2024-08-02T06:13:24.549Z"
   },
   {
    "duration": 11,
    "start_time": "2024-08-02T06:13:24.558Z"
   },
   {
    "duration": 8,
    "start_time": "2024-08-02T06:13:24.571Z"
   },
   {
    "duration": 8,
    "start_time": "2024-08-02T06:13:24.581Z"
   },
   {
    "duration": 6,
    "start_time": "2024-08-02T06:13:24.590Z"
   },
   {
    "duration": 9,
    "start_time": "2024-08-02T06:13:24.598Z"
   },
   {
    "duration": 10,
    "start_time": "2024-08-02T06:13:24.609Z"
   },
   {
    "duration": 6,
    "start_time": "2024-08-02T06:13:24.621Z"
   },
   {
    "duration": 188,
    "start_time": "2024-08-02T06:13:24.629Z"
   },
   {
    "duration": 8,
    "start_time": "2024-08-02T06:13:24.818Z"
   },
   {
    "duration": 29,
    "start_time": "2024-08-02T06:13:24.827Z"
   },
   {
    "duration": 5,
    "start_time": "2024-08-02T06:13:24.859Z"
   },
   {
    "duration": 97,
    "start_time": "2024-08-02T06:13:24.865Z"
   },
   {
    "duration": 20,
    "start_time": "2024-08-02T06:13:24.963Z"
   },
   {
    "duration": 191,
    "start_time": "2024-08-02T06:13:24.984Z"
   },
   {
    "duration": 11,
    "start_time": "2024-08-02T06:13:25.177Z"
   },
   {
    "duration": 232,
    "start_time": "2024-08-02T06:13:25.190Z"
   },
   {
    "duration": 119,
    "start_time": "2024-08-02T06:13:25.424Z"
   },
   {
    "duration": 8,
    "start_time": "2024-08-02T06:13:25.544Z"
   },
   {
    "duration": 208,
    "start_time": "2024-08-02T06:13:25.554Z"
   },
   {
    "duration": 134,
    "start_time": "2024-08-02T06:13:25.764Z"
   },
   {
    "duration": 26,
    "start_time": "2024-08-02T06:13:25.899Z"
   },
   {
    "duration": 14,
    "start_time": "2024-08-02T06:13:25.926Z"
   },
   {
    "duration": 22,
    "start_time": "2024-08-02T06:13:25.942Z"
   },
   {
    "duration": 29,
    "start_time": "2024-08-02T06:13:25.965Z"
   },
   {
    "duration": 242,
    "start_time": "2024-08-02T06:13:25.995Z"
   },
   {
    "duration": 8,
    "start_time": "2024-08-02T06:13:26.241Z"
   },
   {
    "duration": 306,
    "start_time": "2024-08-02T06:13:26.251Z"
   },
   {
    "duration": 8,
    "start_time": "2024-08-02T06:13:26.559Z"
   },
   {
    "duration": 315,
    "start_time": "2024-08-02T06:13:26.569Z"
   },
   {
    "duration": 17,
    "start_time": "2024-08-02T06:13:26.885Z"
   },
   {
    "duration": 22,
    "start_time": "2024-08-02T06:13:26.904Z"
   },
   {
    "duration": 321,
    "start_time": "2024-08-02T06:13:26.928Z"
   },
   {
    "duration": 11,
    "start_time": "2024-08-02T06:13:27.251Z"
   },
   {
    "duration": 20,
    "start_time": "2024-08-02T06:13:27.264Z"
   },
   {
    "duration": 8,
    "start_time": "2024-08-02T06:13:27.286Z"
   },
   {
    "duration": 6,
    "start_time": "2024-08-02T06:13:27.296Z"
   },
   {
    "duration": 21,
    "start_time": "2024-08-02T06:13:27.303Z"
   },
   {
    "duration": 113,
    "start_time": "2024-08-02T06:13:27.326Z"
   },
   {
    "duration": 54,
    "start_time": "2024-08-02T06:13:27.441Z"
   },
   {
    "duration": 32,
    "start_time": "2024-08-02T06:13:27.496Z"
   },
   {
    "duration": 23,
    "start_time": "2024-08-02T06:13:27.529Z"
   },
   {
    "duration": 31,
    "start_time": "2024-08-02T06:13:27.553Z"
   },
   {
    "duration": 22,
    "start_time": "2024-08-02T06:13:27.586Z"
   },
   {
    "duration": 29,
    "start_time": "2024-08-02T06:13:27.610Z"
   },
   {
    "duration": 9,
    "start_time": "2024-08-02T06:13:27.641Z"
   },
   {
    "duration": 13,
    "start_time": "2024-08-02T06:13:27.652Z"
   },
   {
    "duration": 18,
    "start_time": "2024-08-02T06:13:27.666Z"
   },
   {
    "duration": 1035,
    "start_time": "2024-08-02T06:13:27.686Z"
   },
   {
    "duration": 2344,
    "start_time": "2024-08-02T06:13:28.723Z"
   },
   {
    "duration": 5,
    "start_time": "2024-08-02T06:13:31.069Z"
   },
   {
    "duration": 351,
    "start_time": "2024-08-02T06:13:31.082Z"
   },
   {
    "duration": 4,
    "start_time": "2024-08-02T06:13:31.434Z"
   },
   {
    "duration": 6,
    "start_time": "2024-08-02T06:14:32.071Z"
   },
   {
    "duration": 5,
    "start_time": "2024-08-02T06:14:44.291Z"
   },
   {
    "duration": 6,
    "start_time": "2024-08-02T06:14:48.924Z"
   },
   {
    "duration": 104,
    "start_time": "2024-08-02T06:16:24.415Z"
   },
   {
    "duration": 12,
    "start_time": "2024-08-02T06:16:31.848Z"
   },
   {
    "duration": 2345,
    "start_time": "2024-08-02T06:16:43.234Z"
   },
   {
    "duration": 2623,
    "start_time": "2024-08-02T06:18:55.564Z"
   },
   {
    "duration": 1205,
    "start_time": "2024-08-02T06:25:24.193Z"
   },
   {
    "duration": 72,
    "start_time": "2024-08-02T06:25:25.400Z"
   },
   {
    "duration": 24,
    "start_time": "2024-08-02T06:25:25.474Z"
   },
   {
    "duration": 12,
    "start_time": "2024-08-02T06:25:25.500Z"
   },
   {
    "duration": 13,
    "start_time": "2024-08-02T06:25:25.513Z"
   },
   {
    "duration": 12,
    "start_time": "2024-08-02T06:25:25.527Z"
   },
   {
    "duration": 6,
    "start_time": "2024-08-02T06:25:25.541Z"
   },
   {
    "duration": 10,
    "start_time": "2024-08-02T06:25:25.549Z"
   },
   {
    "duration": 32,
    "start_time": "2024-08-02T06:25:25.561Z"
   },
   {
    "duration": 5,
    "start_time": "2024-08-02T06:25:25.596Z"
   },
   {
    "duration": 27,
    "start_time": "2024-08-02T06:25:25.603Z"
   },
   {
    "duration": 32,
    "start_time": "2024-08-02T06:25:25.631Z"
   },
   {
    "duration": 8,
    "start_time": "2024-08-02T06:25:25.665Z"
   },
   {
    "duration": 7,
    "start_time": "2024-08-02T06:25:25.675Z"
   },
   {
    "duration": 9,
    "start_time": "2024-08-02T06:25:25.693Z"
   },
   {
    "duration": 37,
    "start_time": "2024-08-02T06:25:25.704Z"
   },
   {
    "duration": 11,
    "start_time": "2024-08-02T06:25:25.743Z"
   },
   {
    "duration": 8,
    "start_time": "2024-08-02T06:25:25.756Z"
   },
   {
    "duration": 11,
    "start_time": "2024-08-02T06:25:25.766Z"
   },
   {
    "duration": 18,
    "start_time": "2024-08-02T06:25:25.779Z"
   },
   {
    "duration": 14,
    "start_time": "2024-08-02T06:25:25.799Z"
   },
   {
    "duration": 11,
    "start_time": "2024-08-02T06:25:25.815Z"
   },
   {
    "duration": 170,
    "start_time": "2024-08-02T06:25:25.827Z"
   },
   {
    "duration": 9,
    "start_time": "2024-08-02T06:25:25.999Z"
   },
   {
    "duration": 12,
    "start_time": "2024-08-02T06:25:26.010Z"
   },
   {
    "duration": 11,
    "start_time": "2024-08-02T06:25:26.024Z"
   },
   {
    "duration": 107,
    "start_time": "2024-08-02T06:25:26.037Z"
   },
   {
    "duration": 10,
    "start_time": "2024-08-02T06:25:26.148Z"
   },
   {
    "duration": 190,
    "start_time": "2024-08-02T06:25:26.160Z"
   },
   {
    "duration": 10,
    "start_time": "2024-08-02T06:25:26.352Z"
   },
   {
    "duration": 263,
    "start_time": "2024-08-02T06:25:26.363Z"
   },
   {
    "duration": 146,
    "start_time": "2024-08-02T06:25:26.627Z"
   },
   {
    "duration": 20,
    "start_time": "2024-08-02T06:25:26.775Z"
   },
   {
    "duration": 227,
    "start_time": "2024-08-02T06:25:26.797Z"
   },
   {
    "duration": 136,
    "start_time": "2024-08-02T06:25:27.026Z"
   },
   {
    "duration": 45,
    "start_time": "2024-08-02T06:25:27.164Z"
   },
   {
    "duration": 19,
    "start_time": "2024-08-02T06:25:27.211Z"
   },
   {
    "duration": 22,
    "start_time": "2024-08-02T06:25:27.232Z"
   },
   {
    "duration": 39,
    "start_time": "2024-08-02T06:25:27.255Z"
   },
   {
    "duration": 247,
    "start_time": "2024-08-02T06:25:27.296Z"
   },
   {
    "duration": 8,
    "start_time": "2024-08-02T06:25:27.544Z"
   },
   {
    "duration": 349,
    "start_time": "2024-08-02T06:25:27.554Z"
   },
   {
    "duration": 10,
    "start_time": "2024-08-02T06:25:27.905Z"
   },
   {
    "duration": 345,
    "start_time": "2024-08-02T06:25:27.916Z"
   },
   {
    "duration": 34,
    "start_time": "2024-08-02T06:25:28.263Z"
   },
   {
    "duration": 16,
    "start_time": "2024-08-02T06:25:28.299Z"
   },
   {
    "duration": 323,
    "start_time": "2024-08-02T06:25:28.317Z"
   },
   {
    "duration": 12,
    "start_time": "2024-08-02T06:25:28.642Z"
   },
   {
    "duration": 29,
    "start_time": "2024-08-02T06:25:28.656Z"
   },
   {
    "duration": 17,
    "start_time": "2024-08-02T06:25:28.687Z"
   },
   {
    "duration": 18,
    "start_time": "2024-08-02T06:25:28.706Z"
   },
   {
    "duration": 14,
    "start_time": "2024-08-02T06:25:28.726Z"
   },
   {
    "duration": 122,
    "start_time": "2024-08-02T06:25:28.742Z"
   },
   {
    "duration": 54,
    "start_time": "2024-08-02T06:25:28.865Z"
   },
   {
    "duration": 64,
    "start_time": "2024-08-02T06:25:28.921Z"
   },
   {
    "duration": 26,
    "start_time": "2024-08-02T06:25:28.988Z"
   },
   {
    "duration": 17,
    "start_time": "2024-08-02T06:25:29.015Z"
   },
   {
    "duration": 30,
    "start_time": "2024-08-02T06:25:29.034Z"
   },
   {
    "duration": 45,
    "start_time": "2024-08-02T06:25:29.066Z"
   },
   {
    "duration": 10,
    "start_time": "2024-08-02T06:25:29.113Z"
   },
   {
    "duration": 7,
    "start_time": "2024-08-02T06:25:29.124Z"
   },
   {
    "duration": 9,
    "start_time": "2024-08-02T06:25:29.133Z"
   },
   {
    "duration": 1131,
    "start_time": "2024-08-02T06:25:29.143Z"
   },
   {
    "duration": 2482,
    "start_time": "2024-08-02T06:25:30.276Z"
   },
   {
    "duration": 9,
    "start_time": "2024-08-02T06:25:32.760Z"
   },
   {
    "duration": 362,
    "start_time": "2024-08-02T06:25:32.771Z"
   },
   {
    "duration": 4,
    "start_time": "2024-08-02T06:25:33.135Z"
   },
   {
    "duration": 112,
    "start_time": "2024-08-02T06:28:59.032Z"
   },
   {
    "duration": 2928,
    "start_time": "2024-08-02T06:29:13.903Z"
   },
   {
    "duration": 4,
    "start_time": "2024-08-02T06:31:46.151Z"
   },
   {
    "duration": 2512,
    "start_time": "2024-08-02T06:35:20.603Z"
   },
   {
    "duration": 1221,
    "start_time": "2024-08-02T06:35:34.347Z"
   },
   {
    "duration": 74,
    "start_time": "2024-08-02T06:35:35.570Z"
   },
   {
    "duration": 13,
    "start_time": "2024-08-02T06:35:35.645Z"
   },
   {
    "duration": 12,
    "start_time": "2024-08-02T06:35:35.660Z"
   },
   {
    "duration": 10,
    "start_time": "2024-08-02T06:35:35.674Z"
   },
   {
    "duration": 22,
    "start_time": "2024-08-02T06:35:35.685Z"
   },
   {
    "duration": 7,
    "start_time": "2024-08-02T06:35:35.710Z"
   },
   {
    "duration": 11,
    "start_time": "2024-08-02T06:35:35.719Z"
   },
   {
    "duration": 20,
    "start_time": "2024-08-02T06:35:35.732Z"
   },
   {
    "duration": 7,
    "start_time": "2024-08-02T06:35:35.754Z"
   },
   {
    "duration": 28,
    "start_time": "2024-08-02T06:35:35.763Z"
   },
   {
    "duration": 8,
    "start_time": "2024-08-02T06:35:35.793Z"
   },
   {
    "duration": 6,
    "start_time": "2024-08-02T06:35:35.803Z"
   },
   {
    "duration": 9,
    "start_time": "2024-08-02T06:35:35.812Z"
   },
   {
    "duration": 130,
    "start_time": "2024-08-02T06:35:35.822Z"
   },
   {
    "duration": 18,
    "start_time": "2024-08-02T06:35:35.954Z"
   },
   {
    "duration": 7,
    "start_time": "2024-08-02T06:35:35.975Z"
   },
   {
    "duration": 9,
    "start_time": "2024-08-02T06:35:35.983Z"
   },
   {
    "duration": 15,
    "start_time": "2024-08-02T06:35:35.994Z"
   },
   {
    "duration": 13,
    "start_time": "2024-08-02T06:35:36.011Z"
   },
   {
    "duration": 16,
    "start_time": "2024-08-02T06:35:36.026Z"
   },
   {
    "duration": 8,
    "start_time": "2024-08-02T06:35:36.045Z"
   },
   {
    "duration": 229,
    "start_time": "2024-08-02T06:35:36.055Z"
   },
   {
    "duration": 9,
    "start_time": "2024-08-02T06:35:36.287Z"
   },
   {
    "duration": 7,
    "start_time": "2024-08-02T06:35:36.297Z"
   },
   {
    "duration": 30,
    "start_time": "2024-08-02T06:35:36.306Z"
   },
   {
    "duration": 119,
    "start_time": "2024-08-02T06:35:36.339Z"
   },
   {
    "duration": 11,
    "start_time": "2024-08-02T06:35:36.461Z"
   },
   {
    "duration": 190,
    "start_time": "2024-08-02T06:35:36.474Z"
   },
   {
    "duration": 20,
    "start_time": "2024-08-02T06:35:36.666Z"
   },
   {
    "duration": 237,
    "start_time": "2024-08-02T06:35:36.688Z"
   },
   {
    "duration": 129,
    "start_time": "2024-08-02T06:35:36.927Z"
   },
   {
    "duration": 10,
    "start_time": "2024-08-02T06:35:37.058Z"
   },
   {
    "duration": 210,
    "start_time": "2024-08-02T06:35:37.082Z"
   },
   {
    "duration": 132,
    "start_time": "2024-08-02T06:35:37.294Z"
   },
   {
    "duration": 28,
    "start_time": "2024-08-02T06:35:37.427Z"
   },
   {
    "duration": 78,
    "start_time": "2024-08-02T06:35:37.456Z"
   },
   {
    "duration": 35,
    "start_time": "2024-08-02T06:35:37.535Z"
   },
   {
    "duration": 17,
    "start_time": "2024-08-02T06:35:37.572Z"
   },
   {
    "duration": 246,
    "start_time": "2024-08-02T06:35:37.591Z"
   },
   {
    "duration": 10,
    "start_time": "2024-08-02T06:35:37.842Z"
   },
   {
    "duration": 359,
    "start_time": "2024-08-02T06:35:37.854Z"
   },
   {
    "duration": 9,
    "start_time": "2024-08-02T06:35:38.215Z"
   },
   {
    "duration": 336,
    "start_time": "2024-08-02T06:35:38.225Z"
   },
   {
    "duration": 28,
    "start_time": "2024-08-02T06:35:38.564Z"
   },
   {
    "duration": 26,
    "start_time": "2024-08-02T06:35:38.594Z"
   },
   {
    "duration": 319,
    "start_time": "2024-08-02T06:35:38.622Z"
   },
   {
    "duration": 17,
    "start_time": "2024-08-02T06:35:38.943Z"
   },
   {
    "duration": 27,
    "start_time": "2024-08-02T06:35:38.962Z"
   },
   {
    "duration": 11,
    "start_time": "2024-08-02T06:35:38.991Z"
   },
   {
    "duration": 8,
    "start_time": "2024-08-02T06:35:39.004Z"
   },
   {
    "duration": 37,
    "start_time": "2024-08-02T06:35:39.014Z"
   },
   {
    "duration": 115,
    "start_time": "2024-08-02T06:35:39.054Z"
   },
   {
    "duration": 57,
    "start_time": "2024-08-02T06:35:39.171Z"
   },
   {
    "duration": 32,
    "start_time": "2024-08-02T06:35:39.230Z"
   },
   {
    "duration": 39,
    "start_time": "2024-08-02T06:35:39.263Z"
   },
   {
    "duration": 7,
    "start_time": "2024-08-02T06:35:39.304Z"
   },
   {
    "duration": 14,
    "start_time": "2024-08-02T06:35:39.313Z"
   },
   {
    "duration": 22,
    "start_time": "2024-08-02T06:35:39.329Z"
   },
   {
    "duration": 28,
    "start_time": "2024-08-02T06:35:39.354Z"
   },
   {
    "duration": 5,
    "start_time": "2024-08-02T06:35:39.385Z"
   },
   {
    "duration": 35,
    "start_time": "2024-08-02T06:35:39.392Z"
   },
   {
    "duration": 1090,
    "start_time": "2024-08-02T06:35:39.429Z"
   },
   {
    "duration": 2352,
    "start_time": "2024-08-02T06:35:40.521Z"
   },
   {
    "duration": 9,
    "start_time": "2024-08-02T06:35:42.874Z"
   },
   {
    "duration": 440,
    "start_time": "2024-08-02T06:35:42.885Z"
   },
   {
    "duration": 4,
    "start_time": "2024-08-02T06:35:43.327Z"
   },
   {
    "duration": 1049,
    "start_time": "2024-08-02T07:58:28.582Z"
   },
   {
    "duration": 70,
    "start_time": "2024-08-02T07:58:29.633Z"
   },
   {
    "duration": 12,
    "start_time": "2024-08-02T07:58:29.705Z"
   },
   {
    "duration": 28,
    "start_time": "2024-08-02T07:58:29.719Z"
   },
   {
    "duration": 9,
    "start_time": "2024-08-02T07:58:29.748Z"
   },
   {
    "duration": 29,
    "start_time": "2024-08-02T07:58:29.758Z"
   },
   {
    "duration": 10,
    "start_time": "2024-08-02T07:58:29.788Z"
   },
   {
    "duration": 35,
    "start_time": "2024-08-02T07:58:29.800Z"
   },
   {
    "duration": 21,
    "start_time": "2024-08-02T07:58:29.836Z"
   },
   {
    "duration": 6,
    "start_time": "2024-08-02T07:58:29.860Z"
   },
   {
    "duration": 11,
    "start_time": "2024-08-02T07:58:29.868Z"
   },
   {
    "duration": 6,
    "start_time": "2024-08-02T07:58:29.880Z"
   },
   {
    "duration": 6,
    "start_time": "2024-08-02T07:58:29.888Z"
   },
   {
    "duration": 7,
    "start_time": "2024-08-02T07:58:29.895Z"
   },
   {
    "duration": 3,
    "start_time": "2024-08-02T07:58:29.903Z"
   },
   {
    "duration": 57,
    "start_time": "2024-08-02T07:58:29.907Z"
   },
   {
    "duration": 19,
    "start_time": "2024-08-02T07:58:29.966Z"
   },
   {
    "duration": 20,
    "start_time": "2024-08-02T07:58:29.986Z"
   },
   {
    "duration": 76,
    "start_time": "2024-08-02T07:58:30.007Z"
   },
   {
    "duration": 108,
    "start_time": "2024-08-02T07:58:30.084Z"
   },
   {
    "duration": 49,
    "start_time": "2024-08-02T07:58:30.194Z"
   },
   {
    "duration": 31,
    "start_time": "2024-08-02T07:58:30.245Z"
   },
   {
    "duration": 175,
    "start_time": "2024-08-02T07:58:30.278Z"
   },
   {
    "duration": 7,
    "start_time": "2024-08-02T07:58:30.455Z"
   },
   {
    "duration": 65,
    "start_time": "2024-08-02T07:58:30.463Z"
   },
   {
    "duration": 96,
    "start_time": "2024-08-02T07:58:30.529Z"
   },
   {
    "duration": 122,
    "start_time": "2024-08-02T07:58:30.627Z"
   },
   {
    "duration": 21,
    "start_time": "2024-08-02T07:58:30.753Z"
   },
   {
    "duration": 316,
    "start_time": "2024-08-02T07:58:30.776Z"
   },
   {
    "duration": 105,
    "start_time": "2024-08-02T07:58:31.095Z"
   },
   {
    "duration": 246,
    "start_time": "2024-08-02T07:58:31.201Z"
   },
   {
    "duration": 140,
    "start_time": "2024-08-02T07:58:31.449Z"
   },
   {
    "duration": 9,
    "start_time": "2024-08-02T07:58:31.590Z"
   },
   {
    "duration": 233,
    "start_time": "2024-08-02T07:58:31.601Z"
   },
   {
    "duration": 118,
    "start_time": "2024-08-02T07:58:31.836Z"
   },
   {
    "duration": 25,
    "start_time": "2024-08-02T07:58:31.955Z"
   },
   {
    "duration": 54,
    "start_time": "2024-08-02T07:58:31.982Z"
   },
   {
    "duration": 44,
    "start_time": "2024-08-02T07:58:32.038Z"
   },
   {
    "duration": 20,
    "start_time": "2024-08-02T07:58:32.084Z"
   },
   {
    "duration": 216,
    "start_time": "2024-08-02T07:58:32.105Z"
   },
   {
    "duration": 15,
    "start_time": "2024-08-02T07:58:32.323Z"
   },
   {
    "duration": 288,
    "start_time": "2024-08-02T07:58:32.339Z"
   },
   {
    "duration": 13,
    "start_time": "2024-08-02T07:58:32.629Z"
   },
   {
    "duration": 340,
    "start_time": "2024-08-02T07:58:32.644Z"
   },
   {
    "duration": 18,
    "start_time": "2024-08-02T07:58:32.986Z"
   },
   {
    "duration": 107,
    "start_time": "2024-08-02T07:58:33.006Z"
   },
   {
    "duration": 278,
    "start_time": "2024-08-02T07:58:33.115Z"
   },
   {
    "duration": 10,
    "start_time": "2024-08-02T07:58:33.395Z"
   },
   {
    "duration": 14,
    "start_time": "2024-08-02T07:58:33.407Z"
   },
   {
    "duration": 15,
    "start_time": "2024-08-02T07:58:33.423Z"
   },
   {
    "duration": 5,
    "start_time": "2024-08-02T07:58:33.439Z"
   },
   {
    "duration": 4,
    "start_time": "2024-08-02T07:58:33.445Z"
   },
   {
    "duration": 117,
    "start_time": "2024-08-02T07:58:33.450Z"
   },
   {
    "duration": 44,
    "start_time": "2024-08-02T07:58:33.568Z"
   },
   {
    "duration": 45,
    "start_time": "2024-08-02T07:58:33.613Z"
   },
   {
    "duration": 20,
    "start_time": "2024-08-02T07:58:33.660Z"
   },
   {
    "duration": 9,
    "start_time": "2024-08-02T07:58:33.682Z"
   },
   {
    "duration": 7,
    "start_time": "2024-08-02T07:58:33.692Z"
   },
   {
    "duration": 20,
    "start_time": "2024-08-02T07:58:33.700Z"
   },
   {
    "duration": 18,
    "start_time": "2024-08-02T07:58:33.721Z"
   },
   {
    "duration": 16,
    "start_time": "2024-08-02T07:58:33.740Z"
   },
   {
    "duration": 17,
    "start_time": "2024-08-02T07:58:33.757Z"
   },
   {
    "duration": 901,
    "start_time": "2024-08-02T07:58:33.776Z"
   },
   {
    "duration": 2209,
    "start_time": "2024-08-02T07:58:34.679Z"
   },
   {
    "duration": 4,
    "start_time": "2024-08-02T07:58:36.890Z"
   },
   {
    "duration": 377,
    "start_time": "2024-08-02T07:58:36.896Z"
   },
   {
    "duration": 4,
    "start_time": "2024-08-02T07:58:37.274Z"
   },
   {
    "duration": 43,
    "start_time": "2024-08-08T16:35:45.425Z"
   },
   {
    "duration": 976,
    "start_time": "2024-08-08T16:36:09.479Z"
   },
   {
    "duration": 400,
    "start_time": "2024-08-08T16:36:10.457Z"
   },
   {
    "duration": 11,
    "start_time": "2024-08-08T16:36:10.859Z"
   },
   {
    "duration": 10,
    "start_time": "2024-08-08T16:36:10.872Z"
   },
   {
    "duration": 9,
    "start_time": "2024-08-08T16:36:10.883Z"
   },
   {
    "duration": 9,
    "start_time": "2024-08-08T16:36:10.893Z"
   },
   {
    "duration": 5,
    "start_time": "2024-08-08T16:36:10.903Z"
   },
   {
    "duration": 10,
    "start_time": "2024-08-08T16:36:10.909Z"
   },
   {
    "duration": 7,
    "start_time": "2024-08-08T16:36:10.920Z"
   },
   {
    "duration": 6,
    "start_time": "2024-08-08T16:36:10.929Z"
   },
   {
    "duration": 6,
    "start_time": "2024-08-08T16:36:10.937Z"
   },
   {
    "duration": 5,
    "start_time": "2024-08-08T16:36:10.944Z"
   },
   {
    "duration": 5,
    "start_time": "2024-08-08T16:36:10.950Z"
   },
   {
    "duration": 4,
    "start_time": "2024-08-08T16:36:10.956Z"
   },
   {
    "duration": 6,
    "start_time": "2024-08-08T16:36:10.961Z"
   },
   {
    "duration": 5,
    "start_time": "2024-08-08T16:36:10.968Z"
   },
   {
    "duration": 6,
    "start_time": "2024-08-08T16:36:10.974Z"
   },
   {
    "duration": 12,
    "start_time": "2024-08-08T16:36:10.981Z"
   },
   {
    "duration": 31,
    "start_time": "2024-08-08T16:36:10.994Z"
   },
   {
    "duration": 4,
    "start_time": "2024-08-08T16:36:11.026Z"
   },
   {
    "duration": 10,
    "start_time": "2024-08-08T16:36:11.031Z"
   },
   {
    "duration": 5,
    "start_time": "2024-08-08T16:36:11.042Z"
   },
   {
    "duration": 147,
    "start_time": "2024-08-08T16:36:11.048Z"
   },
   {
    "duration": 7,
    "start_time": "2024-08-08T16:36:11.197Z"
   },
   {
    "duration": 4,
    "start_time": "2024-08-08T16:36:11.205Z"
   },
   {
    "duration": 13,
    "start_time": "2024-08-08T16:36:11.211Z"
   },
   {
    "duration": 74,
    "start_time": "2024-08-08T16:36:11.225Z"
   },
   {
    "duration": 22,
    "start_time": "2024-08-08T16:36:11.302Z"
   },
   {
    "duration": 137,
    "start_time": "2024-08-08T16:36:11.325Z"
   },
   {
    "duration": 7,
    "start_time": "2024-08-08T16:36:11.463Z"
   },
   {
    "duration": 193,
    "start_time": "2024-08-08T16:36:11.471Z"
   },
   {
    "duration": 97,
    "start_time": "2024-08-08T16:36:11.665Z"
   },
   {
    "duration": 7,
    "start_time": "2024-08-08T16:36:11.763Z"
   },
   {
    "duration": 180,
    "start_time": "2024-08-08T16:36:11.771Z"
   },
   {
    "duration": 102,
    "start_time": "2024-08-08T16:36:11.952Z"
   },
   {
    "duration": 22,
    "start_time": "2024-08-08T16:36:12.055Z"
   },
   {
    "duration": 12,
    "start_time": "2024-08-08T16:36:12.078Z"
   },
   {
    "duration": 37,
    "start_time": "2024-08-08T16:36:12.091Z"
   },
   {
    "duration": 11,
    "start_time": "2024-08-08T16:36:12.130Z"
   },
   {
    "duration": 194,
    "start_time": "2024-08-08T16:36:12.143Z"
   },
   {
    "duration": 7,
    "start_time": "2024-08-08T16:36:12.338Z"
   },
   {
    "duration": 252,
    "start_time": "2024-08-08T16:36:12.346Z"
   },
   {
    "duration": 7,
    "start_time": "2024-08-08T16:36:12.599Z"
   },
   {
    "duration": 252,
    "start_time": "2024-08-08T16:36:12.607Z"
   },
   {
    "duration": 14,
    "start_time": "2024-08-08T16:36:12.860Z"
   },
   {
    "duration": 7,
    "start_time": "2024-08-08T16:36:12.876Z"
   },
   {
    "duration": 252,
    "start_time": "2024-08-08T16:36:12.884Z"
   },
   {
    "duration": 10,
    "start_time": "2024-08-08T16:36:13.137Z"
   },
   {
    "duration": 7,
    "start_time": "2024-08-08T16:36:13.149Z"
   },
   {
    "duration": 6,
    "start_time": "2024-08-08T16:36:13.158Z"
   },
   {
    "duration": 5,
    "start_time": "2024-08-08T16:36:13.165Z"
   },
   {
    "duration": 3,
    "start_time": "2024-08-08T16:36:13.171Z"
   },
   {
    "duration": 113,
    "start_time": "2024-08-08T16:36:13.175Z"
   },
   {
    "duration": 46,
    "start_time": "2024-08-08T16:36:13.290Z"
   },
   {
    "duration": 25,
    "start_time": "2024-08-08T16:36:13.338Z"
   },
   {
    "duration": 16,
    "start_time": "2024-08-08T16:36:13.364Z"
   },
   {
    "duration": 4,
    "start_time": "2024-08-08T16:36:13.382Z"
   },
   {
    "duration": 4,
    "start_time": "2024-08-08T16:36:13.387Z"
   },
   {
    "duration": 49,
    "start_time": "2024-08-08T16:36:13.392Z"
   },
   {
    "duration": 0,
    "start_time": "2024-08-08T16:36:13.442Z"
   },
   {
    "duration": 0,
    "start_time": "2024-08-08T16:36:13.443Z"
   },
   {
    "duration": 0,
    "start_time": "2024-08-08T16:36:13.443Z"
   },
   {
    "duration": 0,
    "start_time": "2024-08-08T16:36:13.444Z"
   },
   {
    "duration": 0,
    "start_time": "2024-08-08T16:36:13.445Z"
   },
   {
    "duration": 0,
    "start_time": "2024-08-08T16:36:13.446Z"
   },
   {
    "duration": 0,
    "start_time": "2024-08-08T16:36:13.447Z"
   },
   {
    "duration": 0,
    "start_time": "2024-08-08T16:36:13.448Z"
   },
   {
    "duration": 48,
    "start_time": "2024-08-08T16:43:43.668Z"
   },
   {
    "duration": 45,
    "start_time": "2024-08-08T16:43:51.512Z"
   }
  ],
  "kernelspec": {
   "display_name": "Python 3 (ipykernel)",
   "language": "python",
   "name": "python3"
  },
  "language_info": {
   "codemirror_mode": {
    "name": "ipython",
    "version": 3
   },
   "file_extension": ".py",
   "mimetype": "text/x-python",
   "name": "python",
   "nbconvert_exporter": "python",
   "pygments_lexer": "ipython3",
   "version": "3.9.19"
  },
  "toc": {
   "base_numbering": 1,
   "nav_menu": {
    "height": "305px",
    "width": "236px"
   },
   "number_sections": true,
   "sideBar": true,
   "skip_h1_title": true,
   "title_cell": "Table of Contents",
   "title_sidebar": "Contents",
   "toc_cell": false,
   "toc_position": {},
   "toc_section_display": true,
   "toc_window_display": false
  }
 },
 "nbformat": 4,
 "nbformat_minor": 5
}
